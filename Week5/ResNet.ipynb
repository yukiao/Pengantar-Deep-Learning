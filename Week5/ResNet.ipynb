{
  "nbformat": 4,
  "nbformat_minor": 0,
  "metadata": {
    "colab": {
      "name": "ResNet.ipynb",
      "provenance": [],
      "authorship_tag": "ABX9TyOPs2v6qedHWELkvMJlwNd8",
      "include_colab_link": true
    },
    "kernelspec": {
      "name": "python3",
      "display_name": "Python 3"
    },
    "language_info": {
      "name": "python"
    },
    "accelerator": "GPU"
  },
  "cells": [
    {
      "cell_type": "markdown",
      "metadata": {
        "id": "view-in-github",
        "colab_type": "text"
      },
      "source": [
        "<a href=\"https://colab.research.google.com/github/yukiao/Pengantar-Deep-Learning/blob/main/Week5/ResNet.ipynb\" target=\"_parent\"><img src=\"https://colab.research.google.com/assets/colab-badge.svg\" alt=\"Open In Colab\"/></a>"
      ]
    },
    {
      "cell_type": "markdown",
      "source": [
        "Nama : Silverius Sony Lembang  \n",
        "NIM  : H071191002"
      ],
      "metadata": {
        "id": "zPg8iJtton--"
      }
    },
    {
      "cell_type": "markdown",
      "source": [
        "# Configuration"
      ],
      "metadata": {
        "id": "UN_U3_mkfxdX"
      }
    },
    {
      "cell_type": "code",
      "source": [
        "import torch\n",
        "from torch import nn\n",
        "from torch.nn import functional as F\n",
        "import numpy as np\n",
        "from datetime import  datetime\n",
        "import matplotlib.pyplot as plt\n",
        "from torchvision import datasets, transforms"
      ],
      "metadata": {
        "id": "NIietuP4MQc2"
      },
      "execution_count": 41,
      "outputs": []
    },
    {
      "cell_type": "code",
      "source": [
        "device = torch.device('cuda' if torch.cuda.is_available() else 'cpu')\n",
        "RANDOM_SEED = 42\n",
        "NUM_EPOCHS = 10\n",
        "BATCH_SIZE = 256\n",
        "LEARNING_RATE = 0.001"
      ],
      "metadata": {
        "id": "QVmrlgRgfwCz"
      },
      "execution_count": 42,
      "outputs": []
    },
    {
      "cell_type": "markdown",
      "source": [
        "# Architecture"
      ],
      "metadata": {
        "id": "TYvzbb2qfzsm"
      }
    },
    {
      "cell_type": "code",
      "source": [
        "class Residual(nn.Module):\n",
        "  def __init__(self, input_channels, num_channels, use_1x1conv=False, strides=1):\n",
        "    super().__init__()\n",
        "    self.conv1 = nn.Conv2d(input_channels, num_channels, kernel_size=3, padding=1, stride=strides)\n",
        "    self.conv2 = nn.Conv2d(num_channels, num_channels, kernel_size=3, padding=1)\n",
        "    if use_1x1conv:\n",
        "      self.conv3 = nn.Conv2d(input_channels, num_channels, kernel_size=1, stride=strides)\n",
        "    else:\n",
        "      self.conv3 = None\n",
        "    self.bn1 = nn.BatchNorm2d(num_channels)\n",
        "    self.bn2 = nn.BatchNorm2d(num_channels)\n",
        "\n",
        "  def forward(self, X):\n",
        "    Y = F.relu(self.bn1(self.conv1(X)))\n",
        "    Y = self.bn2(self.conv2(Y))\n",
        "    if self.conv3:\n",
        "      X = self.conv3(X)\n",
        "    Y += X\n",
        "    return F.relu(Y)"
      ],
      "metadata": {
        "id": "PTE4bu6iM0Lv"
      },
      "execution_count": 43,
      "outputs": []
    },
    {
      "cell_type": "code",
      "source": [
        "b1 = nn.Sequential(\n",
        "    nn.Conv2d(1, 64, kernel_size=7, stride=2, padding=3),\n",
        "    nn.BatchNorm2d(64), \n",
        "    nn.ReLU(),\n",
        "    nn.MaxPool2d(kernel_size=3, stride=2, padding=1)\n",
        ")"
      ],
      "metadata": {
        "id": "OxLascLyOKOc"
      },
      "execution_count": 44,
      "outputs": []
    },
    {
      "cell_type": "code",
      "source": [
        "def resnet_block(input_channels, num_channels, num_residuals, first_block=False):\n",
        "  blk = []\n",
        "  for i in range(num_residuals):\n",
        "    if i == 0 and not first_block:\n",
        "      blk.append(Residual(input_channels, num_channels, use_1x1conv=True, strides=2))\n",
        "    else:\n",
        "      blk.append(Residual(num_channels, num_channels))\n",
        "  return blk"
      ],
      "metadata": {
        "id": "yEZApLbqOiDd"
      },
      "execution_count": 45,
      "outputs": []
    },
    {
      "cell_type": "code",
      "source": [
        "b2 = nn.Sequential(*resnet_block(64, 64, 2, first_block=True))\n",
        "b3 = nn.Sequential(*resnet_block(64, 128, 2))\n",
        "b4 = nn.Sequential(*resnet_block(128, 256, 2))\n",
        "b5 = nn.Sequential(*resnet_block(256, 512, 2))"
      ],
      "metadata": {
        "id": "Gzi0mAa1O_Tz"
      },
      "execution_count": 46,
      "outputs": []
    },
    {
      "cell_type": "code",
      "source": [
        "net = nn.Sequential(b1, b2, b3, b4, b5,\n",
        "                    nn.AdaptiveAvgPool2d((1, 1)),\n",
        "                    nn.Flatten(),\n",
        "                    nn.Linear(512, 10))"
      ],
      "metadata": {
        "id": "epgfsh-yPhyi"
      },
      "execution_count": 47,
      "outputs": []
    },
    {
      "cell_type": "markdown",
      "source": [
        "# Helpers"
      ],
      "metadata": {
        "id": "IoRFHmFxf7oX"
      }
    },
    {
      "cell_type": "code",
      "source": [
        "# Get accuracy on training\n",
        "def get_accuracy(model, data_loader, device):\n",
        "    correct_pred = 0 \n",
        "    n = 0\n",
        "    \n",
        "    with torch.no_grad():\n",
        "        model.eval()\n",
        "        for X, y_true in data_loader:\n",
        "\n",
        "            X = X.to(device)\n",
        "            y_true = y_true.to(device)\n",
        "\n",
        "            y_prob = model(X)\n",
        "            _, predicted_labels = torch.max(y_prob, 1)\n",
        "\n",
        "            n += y_true.size(0)\n",
        "            correct_pred += (predicted_labels == y_true).sum()\n",
        "\n",
        "    return correct_pred.float() / n"
      ],
      "metadata": {
        "id": "LobbYVKrf9s9"
      },
      "execution_count": 48,
      "outputs": []
    },
    {
      "cell_type": "code",
      "source": [
        "def plot_train(train_losses, train_accuracies):\n",
        "  train_losses = torch.tensor(train_losses, device='cpu')\n",
        "  train_accuracies = torch.tensor(train_accuracies, device='cpu')\n",
        "\n",
        "  train_losses = train_losses.numpy()\n",
        "  train_accuracies = train_accuracies.numpy()\n",
        "\n",
        "  fig, ax = plt.subplots(nrows=1, ncols=2, figsize=(10,5))\n",
        "\n",
        "  ax[0].plot(train_losses, color=\"red\", label=\"Training Loss\")\n",
        "  ax[0].set(title=\"Training Loss over epochs\", xlabel=\"Epoch\", ylabel=\"Loss\")\n",
        "  ax[0].legend()\n",
        "\n",
        "  ax[1].plot(train_accuracies, color=\"blue\", label=\"Training Accuracy\")\n",
        "  ax[1].set(title=\"Training Accuracy over epochs\", xlabel=\"Epoch\", ylabel=\"Accuracy\")\n",
        "  ax[1].legend()\n",
        "\n",
        "  fig.show()"
      ],
      "metadata": {
        "id": "Ufa4TML2gBc8"
      },
      "execution_count": 49,
      "outputs": []
    },
    {
      "cell_type": "code",
      "source": [
        "def train(model, train_loader, criterion, optimizer, device):\n",
        "  model.train()\n",
        "\n",
        "  for X, y_true in train_loader:\n",
        "    optimizer.zero_grad()\n",
        "    running_loss = 0\n",
        "\n",
        "    X = X.to(device)\n",
        "    y_true = y_true.to(device)\n",
        "\n",
        "    # Forward pass\n",
        "    y_hat = model(X)\n",
        "    loss = criterion(y_hat, y_true)\n",
        "    running_loss += loss.item() * X.size(0)\n",
        "\n",
        "    # Backward pass\n",
        "    loss.backward()\n",
        "    optimizer.step()\n",
        "  epoch_loss = running_loss / len(train_loader.dataset)\n",
        "  return model, optimizer, epoch_loss"
      ],
      "metadata": {
        "id": "1WR-dfHegDQc"
      },
      "execution_count": 50,
      "outputs": []
    },
    {
      "cell_type": "code",
      "source": [
        "def training_loop(model, criterion, optimizer, train_loader, epochs, device, print_every=1):\n",
        "    '''\n",
        "    Function defining the entire training loop\n",
        "    '''\n",
        "\n",
        "    print(\"Start Training\")\n",
        "    print(f\"Using {device} device\")\n",
        "    # Train model\n",
        "\n",
        "    train_losses = []\n",
        "    train_accuracies = []\n",
        "\n",
        "    for epoch in range(0, epochs):\n",
        "        # training\n",
        "        model, optimizer, train_loss = train(model, train_loader, criterion, optimizer, device)\n",
        "        train_losses.append(train_loss)\n",
        "\n",
        "        if epoch % print_every == (print_every - 1):\n",
        "            \n",
        "            train_acc = get_accuracy(model, train_loader, device=device)\n",
        "            train_accuracies.append(train_acc)\n",
        "            print(f'{datetime.now().time().replace(microsecond=0)} --- '\n",
        "                  f'Epoch: {epoch}\\t'\n",
        "                  f'Loss: {train_loss:.4f}\\t'\n",
        "                  f'Accuracy: {100 * train_acc:.2f}%\\t')\n",
        "    plot_train(train_losses, train_accuracies)\n",
        "    print(\"Finish\")\n",
        "    return model, optimizer"
      ],
      "metadata": {
        "id": "sy6h1-YZgFIS"
      },
      "execution_count": 51,
      "outputs": []
    },
    {
      "cell_type": "code",
      "source": [
        "def imshow(img, title, index):\n",
        "  plt.subplot(1,5,index)\n",
        "  plt.axis('off')\n",
        "  img = img / 2 + 0.5\n",
        "  npimg = img.numpy()\n",
        "  npimg = np.clip(npimg, 0,1)\n",
        "  plt.title(title)\n",
        "  plt.imshow(img.reshape((96, 96)), cmap='gray')"
      ],
      "metadata": {
        "id": "6KW3xIgWgHDR"
      },
      "execution_count": 52,
      "outputs": []
    },
    {
      "cell_type": "markdown",
      "source": [
        "# Training"
      ],
      "metadata": {
        "id": "FubqY3XCgKZc"
      }
    },
    {
      "cell_type": "code",
      "source": [
        "train_dataset = datasets.MNIST(\"./data\",\n",
        "                                 train=True,\n",
        "                                 transform = transforms.Compose([\n",
        "                                    transforms.Resize((96, 96)),\n",
        "                                    transforms.ToTensor(),\n",
        "                                    transforms.Normalize((0.1307,), (0.3081,))\n",
        "                                 ]),\n",
        "                                 download = True)\n",
        "\n",
        "test_dataset = datasets.MNIST(\"./data\",\n",
        "                                 train = False,\n",
        "                                 transform = transforms.Compose([\n",
        "                                    transforms.Resize((96, 96)),\n",
        "                                    transforms.ToTensor(),\n",
        "                                    transforms.Normalize((0.1325,), (0.3105,))\n",
        "                                 ]),\n",
        "                                 download = True)"
      ],
      "metadata": {
        "id": "JSauzM-TgMhx"
      },
      "execution_count": 53,
      "outputs": []
    },
    {
      "cell_type": "code",
      "source": [
        "train_loader = torch.utils.data.DataLoader(dataset = train_dataset,\n",
        "                                           batch_size = BATCH_SIZE,\n",
        "                                           shuffle = True)"
      ],
      "metadata": {
        "id": "yzbWuMQMgcy2"
      },
      "execution_count": 54,
      "outputs": []
    },
    {
      "cell_type": "code",
      "source": [
        "torch.manual_seed(RANDOM_SEED)\n",
        "model = net.to(device)\n",
        "\n",
        "optimizer = torch.optim.Adam(params=model.parameters(), lr=LEARNING_RATE)\n",
        "criterion = nn.CrossEntropyLoss()"
      ],
      "metadata": {
        "id": "Ke0dQMDZge_G"
      },
      "execution_count": 55,
      "outputs": []
    },
    {
      "cell_type": "code",
      "source": [
        "model, optimizer = training_loop(model, criterion, optimizer, train_loader, NUM_EPOCHS, device)"
      ],
      "metadata": {
        "colab": {
          "base_uri": "https://localhost:8080/",
          "height": 575
        },
        "id": "hM-Rb9rzgisN",
        "outputId": "f4dbb3ca-33af-461d-c340-99bc36af75f3"
      },
      "execution_count": 56,
      "outputs": [
        {
          "output_type": "stream",
          "name": "stdout",
          "text": [
            "Start Training\n",
            "Using cuda device\n",
            "05:00:35 --- Epoch: 0\tLoss: 0.0002\tAccuracy: 97.46%\t\n",
            "05:02:54 --- Epoch: 1\tLoss: 0.0001\tAccuracy: 99.32%\t\n",
            "05:05:12 --- Epoch: 2\tLoss: 0.0000\tAccuracy: 98.25%\t\n",
            "05:07:31 --- Epoch: 3\tLoss: 0.0000\tAccuracy: 99.12%\t\n",
            "05:09:49 --- Epoch: 4\tLoss: 0.0000\tAccuracy: 99.19%\t\n",
            "05:12:08 --- Epoch: 5\tLoss: 0.0000\tAccuracy: 99.61%\t\n",
            "05:14:26 --- Epoch: 6\tLoss: 0.0000\tAccuracy: 99.57%\t\n",
            "05:16:45 --- Epoch: 7\tLoss: 0.0000\tAccuracy: 99.58%\t\n",
            "05:19:03 --- Epoch: 8\tLoss: 0.0000\tAccuracy: 99.64%\t\n",
            "05:21:22 --- Epoch: 9\tLoss: 0.0000\tAccuracy: 99.74%\t\n",
            "Finish\n"
          ]
        },
        {
          "output_type": "display_data",
          "data": {
            "text/plain": [
              "<Figure size 720x360 with 2 Axes>"
            ],
            "image/png": "[encoded data removed]"
          },
          "metadata": {
            "needs_background": "light"
          }
        }
      ]
    },
    {
      "cell_type": "markdown",
      "source": [
        "# Testing"
      ],
      "metadata": {
        "id": "9aXs2RHagj7M"
      }
    },
    {
      "cell_type": "code",
      "source": [
        "test_loader = torch.utils.data.DataLoader(dataset = test_dataset,\n",
        "                                           batch_size = BATCH_SIZE,\n",
        "                                           shuffle = True)"
      ],
      "metadata": {
        "id": "g8P7_SGogjU8"
      },
      "execution_count": 57,
      "outputs": []
    },
    {
      "cell_type": "code",
      "source": [
        "model.eval()\n",
        "with torch.no_grad():\n",
        "    correct = 0\n",
        "    total = 0\n",
        "    for images, labels in test_loader:\n",
        "        images = images.to(device)\n",
        "        labels = labels.to(device)\n",
        "        outputs = model(images)\n",
        "        _, predicted = torch.max(outputs.data, 1)\n",
        "        total += labels.size(0)\n",
        "        correct += (predicted == labels).sum().item()\n",
        "\n",
        "    print(f'Accuracy of the network on the {total} test images: {format(100 * correct / total)} %')"
      ],
      "metadata": {
        "colab": {
          "base_uri": "https://localhost:8080/"
        },
        "id": "REFIdJzmgmoZ",
        "outputId": "0b08bf3d-3ebb-4a37-b294-f9552f2b9cd6"
      },
      "execution_count": 58,
      "outputs": [
        {
          "output_type": "stream",
          "name": "stdout",
          "text": [
            "Accuracy of the network on the 10000 test images: 99.29 %\n"
          ]
        }
      ]
    },
    {
      "cell_type": "code",
      "source": [
        "inputs, classes = next(iter(test_loader))\n",
        "original_inputs = inputs\n",
        "original_classes = classes\n",
        "\n",
        "inputs = inputs.to(device)\n",
        "classes = classes.to(device)\n",
        "\n",
        "correct = 0\n",
        "\n",
        "fig = plt.figure(figsize=(10,10))\n",
        "for i in range(5):\n",
        "  with torch.no_grad():\n",
        "    model.eval()\n",
        "    output = model(inputs[i].reshape(1, 1, 96, 96))\n",
        "    out = output.cpu().data.numpy().argmax()\n",
        "    predicted = out.item()\n",
        "    correct = out == classes[i].item()\n",
        "    imshow(original_inputs[i], f\"Prediction: {predicted}\\nActual: {classes[i].item()}\", i+1)\n",
        "\n",
        "plt.show()"
      ],
      "metadata": {
        "colab": {
          "base_uri": "https://localhost:8080/",
          "height": 158
        },
        "id": "NdjNTc57goRu",
        "outputId": "7be33342-c3ae-4f87-c309-8ee3a5f7b177"
      },
      "execution_count": 59,
      "outputs": [
        {
          "output_type": "display_data",
          "data": {
            "text/plain": [
              "<Figure size 720x720 with 5 Axes>"
            ],
            "image/png": "[encoded data removed]"
          },
          "metadata": {
            "needs_background": "light"
          }
        }
      ]
    },
    {
      "cell_type": "code",
      "source": [
        "# lr, num_epochs, batch_size = 0.05, 10, 256\n",
        "# train_iter, test_iter = d2l.load_data_fashion_mnist(batch_size, resize=96)\n",
        "# d2l.train_ch6(net, train_iter, test_iter, num_epochs, lr, d2l.try_gpu())"
      ],
      "metadata": {
        "id": "eXuWn8SdSAsp"
      },
      "execution_count": 60,
      "outputs": []
    }
  ]
}