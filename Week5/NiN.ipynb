{
  "nbformat": 4,
  "nbformat_minor": 0,
  "metadata": {
    "colab": {
      "name": "NiN.ipynb",
      "provenance": [],
      "authorship_tag": "ABX9TyO1oPB84a+kd4XtA68eXDN5",
      "include_colab_link": true
    },
    "kernelspec": {
      "name": "python3",
      "display_name": "Python 3"
    },
    "language_info": {
      "name": "python"
    },
    "accelerator": "GPU"
  },
  "cells": [
    {
      "cell_type": "markdown",
      "metadata": {
        "id": "view-in-github",
        "colab_type": "text"
      },
      "source": [
        "<a href=\"https://colab.research.google.com/github/yukiao/Pengantar-Deep-Learning/blob/main/Week5/NiN.ipynb\" target=\"_parent\"><img src=\"https://colab.research.google.com/assets/colab-badge.svg\" alt=\"Open In Colab\"/></a>"
      ]
    },
    {
      "cell_type": "code",
      "source": [
        "# !pip install d2l"
      ],
      "metadata": {
        "id": "mmSyiBnLVjYs"
      },
      "execution_count": 79,
      "outputs": []
    },
    {
      "cell_type": "code",
      "execution_count": 80,
      "metadata": {
        "id": "wu4LEL0kvgz3"
      },
      "outputs": [],
      "source": [
        "import torch\n",
        "from torch import nn\n",
        "# from d2l import torch as d2l\n",
        "import numpy as np\n",
        "# import torch\n",
        "# from torch import nn\n",
        "from datetime import  datetime\n",
        "import matplotlib.pyplot as plt\n",
        "from torchvision import datasets, transforms"
      ]
    },
    {
      "cell_type": "code",
      "source": [
        "device = torch.device('cuda' if torch.cuda.is_available() else 'cpu')\n",
        "RANDOM_SEED = 42\n",
        "NUM_EPOCHS = 10\n",
        "BATCH_SIZE = 128\n",
        "LEARNING_RATE = 0.001"
      ],
      "metadata": {
        "id": "G8YZCmNUs7Uz"
      },
      "execution_count": 81,
      "outputs": []
    },
    {
      "cell_type": "markdown",
      "source": [
        "# Helpers"
      ],
      "metadata": {
        "id": "78ss9VXItGd2"
      }
    },
    {
      "cell_type": "code",
      "source": [
        "# Get accuracy on training\n",
        "def get_accuracy(model, data_loader, device):\n",
        "    correct_pred = 0 \n",
        "    n = 0\n",
        "    \n",
        "    with torch.no_grad():\n",
        "        model.eval()\n",
        "        for X, y_true in data_loader:\n",
        "\n",
        "            X = X.to(device)\n",
        "            y_true = y_true.to(device)\n",
        "\n",
        "            y_prob = model(X)\n",
        "            _, predicted_labels = torch.max(y_prob, 1)\n",
        "\n",
        "            n += y_true.size(0)\n",
        "            correct_pred += (predicted_labels == y_true).sum()\n",
        "\n",
        "    return correct_pred.float() / n"
      ],
      "metadata": {
        "id": "9dtxbdRXtM_2"
      },
      "execution_count": 82,
      "outputs": []
    },
    {
      "cell_type": "code",
      "source": [
        "def plot_train(train_losses, train_accuracies):\n",
        "  train_losses = torch.tensor(train_losses, device='cpu')\n",
        "  train_accuracies = torch.tensor(train_accuracies, device='cpu')\n",
        "\n",
        "  train_losses = train_losses.numpy()\n",
        "  train_accuracies = train_accuracies.numpy()\n",
        "\n",
        "  fig, ax = plt.subplots(nrows=1, ncols=2, figsize=(10,5))\n",
        "\n",
        "  ax[0].plot(train_losses, color=\"red\", label=\"Training Loss\")\n",
        "  ax[0].set(title=\"Training Loss over epochs\", xlabel=\"Epoch\", ylabel=\"Loss\")\n",
        "  ax[0].legend()\n",
        "\n",
        "  ax[1].plot(train_accuracies, color=\"blue\", label=\"Training Accuracy\")\n",
        "  ax[1].set(title=\"Training Accuracy over epochs\", xlabel=\"Epoch\", ylabel=\"Accuracy\")\n",
        "  ax[1].legend()\n",
        "\n",
        "  fig.show()"
      ],
      "metadata": {
        "id": "TLacn_mxtPS4"
      },
      "execution_count": 83,
      "outputs": []
    },
    {
      "cell_type": "code",
      "source": [
        "def train(model, train_loader, criterion, optimizer, device):\n",
        "  model.train()\n",
        "\n",
        "  for X, y_true in train_loader:\n",
        "    optimizer.zero_grad()\n",
        "    running_loss = 0\n",
        "\n",
        "    X = X.to(device)\n",
        "    y_true = y_true.to(device)\n",
        "\n",
        "    # Forward pass\n",
        "    y_hat = model(X)\n",
        "    loss = criterion(y_hat, y_true)\n",
        "    running_loss += loss.item() * X.size(0)\n",
        "\n",
        "    # Backward pass\n",
        "    loss.backward()\n",
        "    optimizer.step()\n",
        "  epoch_loss = running_loss / len(train_loader.dataset)\n",
        "  return model, optimizer, epoch_loss"
      ],
      "metadata": {
        "id": "c9yH127LtRJe"
      },
      "execution_count": 84,
      "outputs": []
    },
    {
      "cell_type": "code",
      "source": [
        "def training_loop(model, criterion, optimizer, train_loader, epochs, device, print_every=1):\n",
        "    '''\n",
        "    Function defining the entire training loop\n",
        "    '''\n",
        "\n",
        "    print(\"Start Training\")\n",
        "    print(f\"Using {device} device\")\n",
        "    # Train model\n",
        "\n",
        "    train_losses = []\n",
        "    train_accuracies = []\n",
        "\n",
        "    for epoch in range(0, epochs):\n",
        "        # training\n",
        "        model, optimizer, train_loss = train(model, train_loader, criterion, optimizer, device)\n",
        "        train_losses.append(train_loss)\n",
        "\n",
        "        if epoch % print_every == (print_every - 1):\n",
        "            \n",
        "            train_acc = get_accuracy(model, train_loader, device=device)\n",
        "            train_accuracies.append(train_acc)\n",
        "            print(f'{datetime.now().time().replace(microsecond=0)} --- '\n",
        "                  f'Epoch: {epoch}\\t'\n",
        "                  f'Loss: {train_loss:.4f}\\t'\n",
        "                  f'Accuracy: {100 * train_acc:.2f}%\\t')\n",
        "    plot_train(train_losses, train_accuracies)\n",
        "    print(\"Finish\")\n",
        "    return model, optimizer"
      ],
      "metadata": {
        "id": "OfAiPtBVtS_h"
      },
      "execution_count": 85,
      "outputs": []
    },
    {
      "cell_type": "code",
      "source": [
        "def imshow(img, title, index):\n",
        "  plt.subplot(1,5,index)\n",
        "  plt.axis('off')\n",
        "  img = img / 2 + 0.5\n",
        "  npimg = img.numpy()\n",
        "  npimg = np.clip(npimg, 0,1)\n",
        "  plt.title(title)\n",
        "  plt.imshow(img.reshape((224,224)), cmap='gray')"
      ],
      "metadata": {
        "id": "HiPy35RKtVeu"
      },
      "execution_count": 86,
      "outputs": []
    },
    {
      "cell_type": "markdown",
      "source": [
        "#NiN Block"
      ],
      "metadata": {
        "id": "fCAZC349tBf9"
      }
    },
    {
      "cell_type": "code",
      "source": [
        "def nin_block(in_channels, out_channels, kernel_size, strides, padding):\n",
        "  return nn.Sequential(\n",
        "      nn.Conv2d(in_channels, out_channels, kernel_size, strides, padding),\n",
        "      nn.ReLU(),\n",
        "      nn.Conv2d(out_channels, out_channels, kernel_size=1),\n",
        "      nn.ReLU(),\n",
        "      nn.Conv2d(out_channels, out_channels, kernel_size=1),\n",
        "      nn.ReLU()\n",
        "  )"
      ],
      "metadata": {
        "id": "dGLUCEX9v7xO"
      },
      "execution_count": 87,
      "outputs": []
    },
    {
      "cell_type": "code",
      "source": [
        "net = nn.Sequential(\n",
        "    nin_block(1, 96, kernel_size=11, strides=4, padding=0),\n",
        "    nn.MaxPool2d(3, stride=2),\n",
        "    nin_block(96, 256, kernel_size=5, strides=1, padding=2),\n",
        "    nn.MaxPool2d(3, stride=2),\n",
        "    nin_block(256, 384, kernel_size=3, strides=1, padding=1),\n",
        "    nn.MaxPool2d(3, stride=2),\n",
        "    nn.Dropout(0.5),\n",
        "    nin_block(384, 10, kernel_size=3, strides=1, padding=1),\n",
        "    nn.AdaptiveAvgPool2d((1,1)),\n",
        "    nn.Flatten()\n",
        ")"
      ],
      "metadata": {
        "id": "JMui8Qe1WPeH"
      },
      "execution_count": 88,
      "outputs": []
    },
    {
      "cell_type": "markdown",
      "source": [
        "# Training"
      ],
      "metadata": {
        "id": "t_7VXu39ta6R"
      }
    },
    {
      "cell_type": "code",
      "source": [
        "train_dataset = datasets.MNIST(\"./data\",\n",
        "                                 train=True,\n",
        "                                 transform = transforms.Compose([\n",
        "                                    transforms.Resize((224, 224)),\n",
        "                                    transforms.ToTensor(),\n",
        "                                    transforms.Normalize((0.1307,), (0.3081,))\n",
        "                                 ]),\n",
        "                                 download = True)\n",
        "\n",
        "test_dataset = datasets.MNIST(\"./data\",\n",
        "                                 train = False,\n",
        "                                 transform = transforms.Compose([\n",
        "                                    transforms.Resize((224, 224)),\n",
        "                                    transforms.ToTensor(),\n",
        "                                    transforms.Normalize((0.1325,), (0.3105,))\n",
        "                                 ]),\n",
        "                                 download = True)"
      ],
      "metadata": {
        "id": "uwb7vtIEtc6A"
      },
      "execution_count": 89,
      "outputs": []
    },
    {
      "cell_type": "code",
      "source": [
        "train_loader = torch.utils.data.DataLoader(dataset = train_dataset,\n",
        "                                           batch_size = BATCH_SIZE,\n",
        "                                           shuffle = True)"
      ],
      "metadata": {
        "id": "OCB6IgaNte6z"
      },
      "execution_count": 90,
      "outputs": []
    },
    {
      "cell_type": "code",
      "source": [
        "torch.manual_seed(RANDOM_SEED)\n",
        "model = net.to(device)\n",
        "\n",
        "optimizer = torch.optim.Adam(params=model.parameters(), lr=LEARNING_RATE)\n",
        "criterion = nn.CrossEntropyLoss()"
      ],
      "metadata": {
        "id": "Ytkk8SRntlw9"
      },
      "execution_count": 91,
      "outputs": []
    },
    {
      "cell_type": "code",
      "source": [
        "model, optimizer = training_loop(model, criterion, optimizer, train_loader, NUM_EPOCHS, device)"
      ],
      "metadata": {
        "colab": {
          "base_uri": "https://localhost:8080/",
          "height": 575
        },
        "id": "TXhtykKuttHH",
        "outputId": "c6a359f7-9ced-41d4-f521-ac2572080a94"
      },
      "execution_count": 92,
      "outputs": [
        {
          "output_type": "stream",
          "name": "stdout",
          "text": [
            "Start Training\n",
            "Using cuda device\n",
            "02:40:34 --- Epoch: 0\tLoss: 0.0009\tAccuracy: 89.11%\t\n",
            "02:42:08 --- Epoch: 1\tLoss: 0.0001\tAccuracy: 95.96%\t\n",
            "02:43:44 --- Epoch: 2\tLoss: 0.0003\tAccuracy: 97.00%\t\n",
            "02:45:21 --- Epoch: 3\tLoss: 0.0001\tAccuracy: 97.86%\t\n",
            "02:46:57 --- Epoch: 4\tLoss: 0.0002\tAccuracy: 98.27%\t\n",
            "02:48:34 --- Epoch: 5\tLoss: 0.0001\tAccuracy: 98.46%\t\n",
            "02:50:11 --- Epoch: 6\tLoss: 0.0002\tAccuracy: 98.53%\t\n",
            "02:51:47 --- Epoch: 7\tLoss: 0.0000\tAccuracy: 98.73%\t\n",
            "02:53:23 --- Epoch: 8\tLoss: 0.0000\tAccuracy: 98.20%\t\n",
            "02:54:58 --- Epoch: 9\tLoss: 0.0001\tAccuracy: 98.71%\t\n",
            "Finish\n"
          ]
        },
        {
          "output_type": "display_data",
          "data": {
            "text/plain": [
              "<Figure size 720x360 with 2 Axes>"
            ],
            "image/png": "[encoded data removed]"
          },
          "metadata": {
            "needs_background": "light"
          }
        }
      ]
    },
    {
      "cell_type": "code",
      "source": [
        "# lr, num_epochs, batch_size = 0.1, 10, 128\n",
        "# train_iter, test_iter = d2l.load_data_fashion_mnist(batch_size, resize=224)\n",
        "# d2l.train_ch6(net, train_iter, test_iter, num_epochs, lr, d2l.try_gpu())"
      ],
      "metadata": {
        "id": "IXsNGg0KXMUn"
      },
      "execution_count": 93,
      "outputs": []
    },
    {
      "cell_type": "markdown",
      "source": [
        "# Testing"
      ],
      "metadata": {
        "id": "agRXwjdStwm6"
      }
    },
    {
      "cell_type": "code",
      "source": [
        "test_loader = torch.utils.data.DataLoader(dataset = test_dataset,\n",
        "                                           batch_size = BATCH_SIZE,\n",
        "                                           shuffle = True)"
      ],
      "metadata": {
        "id": "JnsBpXYE0XTC"
      },
      "execution_count": 94,
      "outputs": []
    },
    {
      "cell_type": "code",
      "source": [
        "model.eval()\n",
        "with torch.no_grad():\n",
        "    correct = 0\n",
        "    total = 0\n",
        "    for images, labels in test_loader:\n",
        "        images = images.to(device)\n",
        "        labels = labels.to(device)\n",
        "        outputs = model(images)\n",
        "        _, predicted = torch.max(outputs.data, 1)\n",
        "        total += labels.size(0)\n",
        "        correct += (predicted == labels).sum().item()\n",
        "\n",
        "    print(f'Accuracy of the network on the {total} test images: {format(100 * correct / total)} %')"
      ],
      "metadata": {
        "id": "AVuq2DbYXvo3",
        "colab": {
          "base_uri": "https://localhost:8080/"
        },
        "outputId": "396fb47b-d069-4362-91bf-e73b2bbcf064"
      },
      "execution_count": 95,
      "outputs": [
        {
          "output_type": "stream",
          "name": "stdout",
          "text": [
            "Accuracy of the network on the 10000 test images: 98.63 %\n"
          ]
        }
      ]
    },
    {
      "cell_type": "code",
      "source": [
        "from torch.nn.modules.container import ModuleList\n",
        "import torchvision\n",
        "inputs, classes = next(iter(test_loader))\n",
        "original_inputs = inputs\n",
        "original_classes = classes\n",
        "\n",
        "inputs = inputs.to(device)\n",
        "classes = classes.to(device)\n",
        "\n",
        "correct = 0\n",
        "\n",
        "fig = plt.figure(figsize=(10,10))\n",
        "for i in range(5):\n",
        "  with torch.no_grad():\n",
        "    model.eval()\n",
        "    output = model(inputs[i].reshape(1,1,224,224))\n",
        "    out = output.cpu().data.numpy().argmax()\n",
        "    predicted = out.item()\n",
        "    correct = out == classes[i].item()\n",
        "    imshow(original_inputs[i], f\"Prediction: {predicted}\\nActual: {classes[i].item()}\", i+1)\n",
        "\n",
        "plt.show()"
      ],
      "metadata": {
        "id": "nexj3zIft0Rp",
        "colab": {
          "base_uri": "https://localhost:8080/",
          "height": 158
        },
        "outputId": "dbee69a3-58b5-4a8e-ae3c-ea38196539e6"
      },
      "execution_count": 96,
      "outputs": [
        {
          "output_type": "display_data",
          "data": {
            "text/plain": [
              "<Figure size 720x720 with 5 Axes>"
            ],
            "image/png": "[encoded data removed]"
          },
          "metadata": {
            "needs_background": "light"
          }
        }
      ]
    }
  ]
}