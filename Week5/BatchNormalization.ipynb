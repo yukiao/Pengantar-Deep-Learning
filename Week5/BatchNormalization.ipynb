{
  "nbformat": 4,
  "nbformat_minor": 0,
  "metadata": {
    "colab": {
      "name": "BatchNormalization.ipynb",
      "provenance": [],
      "authorship_tag": "ABX9TyPwm39wtZonEgfdZE4wks83",
      "include_colab_link": true
    },
    "kernelspec": {
      "name": "python3",
      "display_name": "Python 3"
    },
    "language_info": {
      "name": "python"
    },
    "accelerator": "GPU"
  },
  "cells": [
    {
      "cell_type": "markdown",
      "metadata": {
        "id": "view-in-github",
        "colab_type": "text"
      },
      "source": [
        "<a href=\"https://colab.research.google.com/github/yukiao/Pengantar-Deep-Learning/blob/main/Week5/BatchNormalization.ipynb\" target=\"_parent\"><img src=\"https://colab.research.google.com/assets/colab-badge.svg\" alt=\"Open In Colab\"/></a>"
      ]
    },
    {
      "cell_type": "markdown",
      "source": [
        "Nama : Silverius Sony Lembang  \n",
        "NIM  : H071191002"
      ],
      "metadata": {
        "id": "Lh84CI7_n-u2"
      }
    },
    {
      "cell_type": "markdown",
      "source": [
        "# Configuration"
      ],
      "metadata": {
        "id": "GXMv1sjCcQes"
      }
    },
    {
      "cell_type": "code",
      "source": [
        "import torch\n",
        "from torch import nn\n",
        "import numpy as np\n",
        "from datetime import  datetime\n",
        "import matplotlib.pyplot as plt\n",
        "from torchvision import datasets, transforms"
      ],
      "metadata": {
        "id": "J4zVoNi-7Xuq"
      },
      "execution_count": 15,
      "outputs": []
    },
    {
      "cell_type": "code",
      "source": [
        "device = torch.device('cuda' if torch.cuda.is_available() else 'cpu')\n",
        "RANDOM_SEED = 42\n",
        "NUM_EPOCHS = 10\n",
        "BATCH_SIZE = 256\n",
        "LEARNING_RATE = 1"
      ],
      "metadata": {
        "id": "ah_4CPPVcGc-"
      },
      "execution_count": 16,
      "outputs": []
    },
    {
      "cell_type": "markdown",
      "source": [
        "# Architecture"
      ],
      "metadata": {
        "id": "25JKTwzTcN7-"
      }
    },
    {
      "cell_type": "code",
      "source": [
        "def batch_norm(X, gamma, beta, moving_mean, moving_var, eps, momentum):\n",
        "  if not torch.is_grad_enabled():\n",
        "    X_hat = (X - moving_mean) / torch.sqrt(moving_var + eps)\n",
        "  else:\n",
        "    assert len(X.shape) in (2,4)\n",
        "    if len(X.shape) == 2:\n",
        "      mean = X.mean(dim=0)\n",
        "      var  = ((X - mean) ** 2).mean(dim=0)\n",
        "    else:\n",
        "      mean = X.mean(dim=(0, 2, 3), keepdim=True)\n",
        "      var = ((X - mean) ** 2).mean(dim=(0, 2, 3), keepdim=True)\n",
        "    \n",
        "    X_hat = (X - mean) / torch.sqrt(var + eps)\n",
        "    moving_mean = momentum * moving_mean + (1.0 - momentum) * mean\n",
        "    moving_var = momentum * moving_var + (1.0 - momentum) * var\n",
        "  Y = gamma * X_hat + beta\n",
        "  return Y, moving_mean.data, moving_var.data"
      ],
      "metadata": {
        "id": "ulP7VP5d7bvd"
      },
      "execution_count": 17,
      "outputs": []
    },
    {
      "cell_type": "code",
      "source": [
        "class BatchNorm(nn.Module):\n",
        "  def __init__(self, num_features, num_dims):\n",
        "    super().__init__()\n",
        "    if num_dims == 2:\n",
        "      shape = (1, num_features)\n",
        "    else:\n",
        "      shape = (1, num_features, 1, 1)\n",
        "    \n",
        "    self.gamma = nn.Parameter(torch.ones(shape))\n",
        "    self.beta = nn.Parameter(torch.zeros(shape))\n",
        "\n",
        "    self.moving_mean = torch.zeros(shape)\n",
        "    self.moving_var = torch.ones(shape)\n",
        "  \n",
        "  def forward(self, X):\n",
        "    if self.moving_mean.device != X.device:\n",
        "      self.moving_mean = self.moving_mean.to(X.device)\n",
        "      self.moving_var = self.moving_var.to(X.device)\n",
        "\n",
        "    Y, self.moving_mean, self.moving_var = batch_norm(\n",
        "        X, self.gamma, self.beta, self.moving_mean, self.moving_var, eps=1e-5, momentum=0.9)\n",
        "    return Y"
      ],
      "metadata": {
        "id": "aIgsDt9T8m0E"
      },
      "execution_count": 18,
      "outputs": []
    },
    {
      "cell_type": "code",
      "source": [
        "net = nn.Sequential(\n",
        "  nn.Conv2d(1, 6, kernel_size=5), BatchNorm(6, num_dims=4), nn.Sigmoid(),\n",
        "  nn.AvgPool2d(kernel_size=2, stride=2),\n",
        "  nn.Conv2d(6, 16, kernel_size=5), BatchNorm(16, num_dims=4), nn.Sigmoid(),\n",
        "  nn.AvgPool2d(kernel_size=2, stride=2), nn.Flatten(),\n",
        "  nn.Linear(16*4*4, 120), BatchNorm(120, num_dims=2), nn.Sigmoid(),\n",
        "  nn.Linear(120, 84), BatchNorm(84, num_dims=2), nn.Sigmoid(),\n",
        "  nn.Linear(84, 10)\n",
        ")"
      ],
      "metadata": {
        "id": "NB4Un1GH9z5v"
      },
      "execution_count": 19,
      "outputs": []
    },
    {
      "cell_type": "markdown",
      "source": [
        "# Training"
      ],
      "metadata": {
        "id": "Iuox3oK6cXeN"
      }
    },
    {
      "cell_type": "code",
      "source": [
        "# Get accuracy on training\n",
        "def get_accuracy(model, data_loader, device):\n",
        "    correct_pred = 0 \n",
        "    n = 0\n",
        "    \n",
        "    with torch.no_grad():\n",
        "        model.eval()\n",
        "        for X, y_true in data_loader:\n",
        "\n",
        "            X = X.to(device)\n",
        "            y_true = y_true.to(device)\n",
        "\n",
        "            y_prob = model(X)\n",
        "            _, predicted_labels = torch.max(y_prob, 1)\n",
        "\n",
        "            n += y_true.size(0)\n",
        "            correct_pred += (predicted_labels == y_true).sum()\n",
        "\n",
        "    return correct_pred.float() / n"
      ],
      "metadata": {
        "id": "PsUox99QcZyk"
      },
      "execution_count": 20,
      "outputs": []
    },
    {
      "cell_type": "code",
      "source": [
        "def plot_train(train_losses, train_accuracies):\n",
        "  train_losses = torch.tensor(train_losses, device='cpu')\n",
        "  train_accuracies = torch.tensor(train_accuracies, device='cpu')\n",
        "\n",
        "  train_losses = train_losses.numpy()\n",
        "  train_accuracies = train_accuracies.numpy()\n",
        "\n",
        "  fig, ax = plt.subplots(nrows=1, ncols=2, figsize=(10,5))\n",
        "\n",
        "  ax[0].plot(train_losses, color=\"red\", label=\"Training Loss\")\n",
        "  ax[0].set(title=\"Training Loss over epochs\", xlabel=\"Epoch\", ylabel=\"Loss\")\n",
        "  ax[0].legend()\n",
        "\n",
        "  ax[1].plot(train_accuracies, color=\"blue\", label=\"Training Accuracy\")\n",
        "  ax[1].set(title=\"Training Accuracy over epochs\", xlabel=\"Epoch\", ylabel=\"Accuracy\")\n",
        "  ax[1].legend()\n",
        "\n",
        "  fig.show()"
      ],
      "metadata": {
        "id": "kyCWXie5cb-H"
      },
      "execution_count": 21,
      "outputs": []
    },
    {
      "cell_type": "code",
      "source": [
        "def train(model, train_loader, criterion, optimizer, device):\n",
        "  model.train()\n",
        "\n",
        "  for X, y_true in train_loader:\n",
        "    optimizer.zero_grad()\n",
        "    running_loss = 0\n",
        "\n",
        "    X = X.to(device)\n",
        "    y_true = y_true.to(device)\n",
        "\n",
        "    # Forward pass\n",
        "    y_hat = model(X)\n",
        "    loss = criterion(y_hat, y_true)\n",
        "    running_loss += loss.item() * X.size(0)\n",
        "\n",
        "    # Backward pass\n",
        "    loss.backward()\n",
        "    optimizer.step()\n",
        "  epoch_loss = running_loss / len(train_loader.dataset)\n",
        "  return model, optimizer, epoch_loss"
      ],
      "metadata": {
        "id": "hJrghKnOcdsK"
      },
      "execution_count": 22,
      "outputs": []
    },
    {
      "cell_type": "code",
      "source": [
        "def training_loop(model, criterion, optimizer, train_loader, epochs, device, print_every=1):\n",
        "    '''\n",
        "    Function defining the entire training loop\n",
        "    '''\n",
        "\n",
        "    print(\"Start Training\")\n",
        "    print(f\"Using {device} device\")\n",
        "    # Train model\n",
        "\n",
        "    train_losses = []\n",
        "    train_accuracies = []\n",
        "\n",
        "    for epoch in range(0, epochs):\n",
        "        # training\n",
        "        model, optimizer, train_loss = train(model, train_loader, criterion, optimizer, device)\n",
        "        train_losses.append(train_loss)\n",
        "\n",
        "        if epoch % print_every == (print_every - 1):\n",
        "            \n",
        "            train_acc = get_accuracy(model, train_loader, device=device)\n",
        "            train_accuracies.append(train_acc)\n",
        "            print(f'{datetime.now().time().replace(microsecond=0)} --- '\n",
        "                  f'Epoch: {epoch}\\t'\n",
        "                  f'Loss: {train_loss:.4f}\\t'\n",
        "                  f'Accuracy: {100 * train_acc:.2f}%\\t')\n",
        "    plot_train(train_losses, train_accuracies)\n",
        "    print(\"Finish\")\n",
        "    return model, optimizer"
      ],
      "metadata": {
        "id": "UOB0SfP8cfZu"
      },
      "execution_count": 23,
      "outputs": []
    },
    {
      "cell_type": "code",
      "source": [
        "def imshow(img, title, index):\n",
        "  plt.subplot(1,5,index)\n",
        "  plt.axis('off')\n",
        "  img = img / 2 + 0.5\n",
        "  npimg = img.numpy()\n",
        "  npimg = np.clip(npimg, 0,1)\n",
        "  plt.title(title)\n",
        "  plt.imshow(img.reshape((28, 28)), cmap='gray')"
      ],
      "metadata": {
        "id": "LjYV5M6Schqd"
      },
      "execution_count": 33,
      "outputs": []
    },
    {
      "cell_type": "markdown",
      "source": [
        "# Training"
      ],
      "metadata": {
        "id": "OErBQtfuc1SX"
      }
    },
    {
      "cell_type": "code",
      "source": [
        "train_dataset = datasets.MNIST(\"./data\",\n",
        "                                 train=True,\n",
        "                                 transform = transforms.Compose([\n",
        "                                    transforms.ToTensor(),\n",
        "                                    transforms.Normalize((0.1307,), (0.3081,))\n",
        "                                 ]),\n",
        "                                 download = True)\n",
        "\n",
        "test_dataset = datasets.MNIST(\"./data\",\n",
        "                                 train = False,\n",
        "                                 transform = transforms.Compose([\n",
        "                                    transforms.ToTensor(),\n",
        "                                    transforms.Normalize((0.1325,), (0.3105,))\n",
        "                                 ]),\n",
        "                                 download = True)"
      ],
      "metadata": {
        "id": "FgYZGffoc3JY"
      },
      "execution_count": 25,
      "outputs": []
    },
    {
      "cell_type": "code",
      "source": [
        "train_loader = torch.utils.data.DataLoader(dataset = train_dataset,\n",
        "                                           batch_size = BATCH_SIZE,\n",
        "                                           shuffle = True)"
      ],
      "metadata": {
        "id": "BAZ0fjCgc31D"
      },
      "execution_count": 26,
      "outputs": []
    },
    {
      "cell_type": "code",
      "source": [
        "torch.manual_seed(RANDOM_SEED)\n",
        "model = net.to(device)\n",
        "\n",
        "optimizer = torch.optim.SGD(params=model.parameters(), lr=LEARNING_RATE)\n",
        "criterion = nn.CrossEntropyLoss()"
      ],
      "metadata": {
        "id": "3oRYYvZac-hU"
      },
      "execution_count": 27,
      "outputs": []
    },
    {
      "cell_type": "code",
      "source": [
        "model, optimizer = training_loop(model, criterion, optimizer, train_loader, NUM_EPOCHS, device)"
      ],
      "metadata": {
        "colab": {
          "base_uri": "https://localhost:8080/",
          "height": 575
        },
        "id": "Z0oZYqHAdCsy",
        "outputId": "c9d44953-5179-4691-b30d-67bb8901a080"
      },
      "execution_count": 28,
      "outputs": [
        {
          "output_type": "stream",
          "name": "stdout",
          "text": [
            "Start Training\n",
            "Using cuda device\n",
            "03:56:43 --- Epoch: 0\tLoss: 0.0002\tAccuracy: 96.32%\t\n",
            "03:57:13 --- Epoch: 1\tLoss: 0.0000\tAccuracy: 97.28%\t\n",
            "03:57:42 --- Epoch: 2\tLoss: 0.0001\tAccuracy: 97.86%\t\n",
            "03:58:11 --- Epoch: 3\tLoss: 0.0000\tAccuracy: 98.59%\t\n",
            "03:58:41 --- Epoch: 4\tLoss: 0.0001\tAccuracy: 98.51%\t\n",
            "03:59:09 --- Epoch: 5\tLoss: 0.0001\tAccuracy: 97.86%\t\n",
            "03:59:38 --- Epoch: 6\tLoss: 0.0000\tAccuracy: 99.07%\t\n",
            "04:00:07 --- Epoch: 7\tLoss: 0.0001\tAccuracy: 95.42%\t\n",
            "04:00:36 --- Epoch: 8\tLoss: 0.0000\tAccuracy: 98.98%\t\n",
            "04:01:05 --- Epoch: 9\tLoss: 0.0000\tAccuracy: 99.10%\t\n",
            "Finish\n"
          ]
        },
        {
          "output_type": "display_data",
          "data": {
            "text/plain": [
              "<Figure size 720x360 with 2 Axes>"
            ],
            "image/png": "[encoded data removed]"
          },
          "metadata": {
            "needs_background": "light"
          }
        }
      ]
    },
    {
      "cell_type": "markdown",
      "source": [
        "# Testing"
      ],
      "metadata": {
        "id": "c7JD86mNdGsW"
      }
    },
    {
      "cell_type": "code",
      "source": [
        "test_loader = torch.utils.data.DataLoader(dataset = test_dataset,\n",
        "                                           batch_size = BATCH_SIZE,\n",
        "                                           shuffle = True)"
      ],
      "metadata": {
        "id": "t6RbTPJSdIT9"
      },
      "execution_count": 29,
      "outputs": []
    },
    {
      "cell_type": "code",
      "source": [
        "model.eval()\n",
        "with torch.no_grad():\n",
        "    correct = 0\n",
        "    total = 0\n",
        "    for images, labels in test_loader:\n",
        "        images = images.to(device)\n",
        "        labels = labels.to(device)\n",
        "        outputs = model(images)\n",
        "        _, predicted = torch.max(outputs.data, 1)\n",
        "        total += labels.size(0)\n",
        "        correct += (predicted == labels).sum().item()\n",
        "\n",
        "    print(f'Accuracy of the network on the {total} test images: {format(100 * correct / total)} %')"
      ],
      "metadata": {
        "colab": {
          "base_uri": "https://localhost:8080/"
        },
        "id": "hXByQfN2dKHC",
        "outputId": "a3d4c1a4-ec45-4ecf-c1fb-64d07d52a810"
      },
      "execution_count": 30,
      "outputs": [
        {
          "output_type": "stream",
          "name": "stdout",
          "text": [
            "Accuracy of the network on the 10000 test images: 98.78 %\n"
          ]
        }
      ]
    },
    {
      "cell_type": "code",
      "source": [
        "inputs, classes = next(iter(test_loader))\n",
        "original_inputs = inputs\n",
        "original_classes = classes\n",
        "\n",
        "inputs = inputs.to(device)\n",
        "classes = classes.to(device)\n",
        "\n",
        "correct = 0\n",
        "\n",
        "fig = plt.figure(figsize=(10,10))\n",
        "for i in range(5):\n",
        "  with torch.no_grad():\n",
        "    model.eval()\n",
        "    output = model(inputs[i].reshape(1, 1, 28, 28))\n",
        "    out = output.cpu().data.numpy().argmax()\n",
        "    predicted = out.item()\n",
        "    correct = out == classes[i].item()\n",
        "    imshow(original_inputs[i], f\"Prediction: {predicted}\\nActual: {classes[i].item()}\", i+1)\n",
        "\n",
        "plt.show()"
      ],
      "metadata": {
        "colab": {
          "base_uri": "https://localhost:8080/",
          "height": 158
        },
        "id": "FhJdsc56dMH7",
        "outputId": "933d64ff-f2d1-48bf-e0b5-e4cbf148e311"
      },
      "execution_count": 34,
      "outputs": [
        {
          "output_type": "display_data",
          "data": {
            "text/plain": [
              "<Figure size 720x720 with 5 Axes>"
            ],
            "image/png": "[encoded data removed]"
          },
          "metadata": {
            "needs_background": "light"
          }
        }
      ]
    },
    {
      "cell_type": "code",
      "source": [
        "#  lr, num_epochs, batch_size = 1.0, 10, 256\n",
        "# train_iter, test_iter = d2l.load_data_fashion_mnist(batch_size)\n",
        "# d2l.train_ch6(net, train_iter, test_iter, num_epochs, lr, d2l.try_gpu())"
      ],
      "metadata": {
        "id": "xpI3MfMo98aH"
      },
      "execution_count": 35,
      "outputs": []
    }
  ]
}