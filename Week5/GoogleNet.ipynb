{
  "nbformat": 4,
  "nbformat_minor": 0,
  "metadata": {
    "colab": {
      "name": "GoogleNet.ipynb",
      "provenance": [],
      "authorship_tag": "ABX9TyORxefYoHAJJfdALN0OHxdo",
      "include_colab_link": true
    },
    "kernelspec": {
      "name": "python3",
      "display_name": "Python 3"
    },
    "language_info": {
      "name": "python"
    },
    "accelerator": "GPU"
  },
  "cells": [
    {
      "cell_type": "markdown",
      "metadata": {
        "id": "view-in-github",
        "colab_type": "text"
      },
      "source": [
        "<a href=\"https://colab.research.google.com/github/yukiao/Pengantar-Deep-Learning/blob/main/Week5/GoogleNet.ipynb\" target=\"_parent\"><img src=\"https://colab.research.google.com/assets/colab-badge.svg\" alt=\"Open In Colab\"/></a>"
      ]
    },
    {
      "cell_type": "code",
      "source": [
        "# !pip install d2l"
      ],
      "metadata": {
        "id": "q4SD3vzWiMwf"
      },
      "execution_count": 20,
      "outputs": []
    },
    {
      "cell_type": "markdown",
      "source": [
        "# Configuration"
      ],
      "metadata": {
        "id": "XaonxBPhRAJU"
      }
    },
    {
      "cell_type": "code",
      "execution_count": 21,
      "metadata": {
        "id": "uzmMhwOqha5P"
      },
      "outputs": [],
      "source": [
        "import torch\n",
        "from torch import nn\n",
        "from torch.nn import functional as F\n",
        "import numpy as np\n",
        "from datetime import  datetime\n",
        "import matplotlib.pyplot as plt\n",
        "from torchvision import datasets, transforms"
      ]
    },
    {
      "cell_type": "code",
      "source": [
        "device = torch.device('cuda' if torch.cuda.is_available() else 'cpu')\n",
        "RANDOM_SEED = 42\n",
        "NUM_EPOCHS = 10\n",
        "BATCH_SIZE = 128\n",
        "LEARNING_RATE = 0.001"
      ],
      "metadata": {
        "id": "ZjAg4Ou2Q-1W"
      },
      "execution_count": 22,
      "outputs": []
    },
    {
      "cell_type": "markdown",
      "source": [
        "# Architecture"
      ],
      "metadata": {
        "id": "uqe77S_yQ4Fi"
      }
    },
    {
      "cell_type": "code",
      "source": [
        "class Inception(nn.Module):\n",
        "  # `c1`--`c4` are the number of output channels for each path\n",
        "  def __init__(self, in_channels, c1, c2, c3, c4, **kwargs):\n",
        "    super(Inception, self).__init__(**kwargs)\n",
        "    # Path 1 is a single 1 x 1 convolutional layer\n",
        "    self.p1_1 = nn.Conv2d(in_channels, c1, kernel_size=1)\n",
        "    # Path 2 is a 1 x 1 convolutional layer followed by a 3 x 3\n",
        "    # convolutional layer\n",
        "    self.p2_1 = nn.Conv2d(in_channels, c2[0], kernel_size=1)\n",
        "    self.p2_2 = nn.Conv2d(c2[0], c2[1], kernel_size=3, padding=1)\n",
        "    # Path 3 is a 1 x 1 convolutional layer followed by a 5 x 5\n",
        "    # convolutional layer\n",
        "    self.p3_1 = nn.Conv2d(in_channels, c3[0], kernel_size=1)\n",
        "    self.p3_2 = nn.Conv2d(c3[0], c3[1], kernel_size=5, padding=2)\n",
        "    # Path 4 is a 3 x 3 maximum pooling layer followed by a 1 x 1\n",
        "    # convolutional layer\n",
        "    self.p4_1 = nn.MaxPool2d(kernel_size=3, stride=1, padding=1)\n",
        "    self.p4_2 = nn.Conv2d(in_channels, c4, kernel_size=1)\n",
        "  def forward(self, x):\n",
        "    p1 = F.relu(self.p1_1(x))\n",
        "    p2 = F.relu(self.p2_2(F.relu(self.p2_1(x))))\n",
        "    p3 = F.relu(self.p3_2(F.relu(self.p3_1(x))))\n",
        "    p4 = F.relu(self.p4_2(self.p4_1(x)))\n",
        "    # Concatenate the outputs on the channel dimension\n",
        "    return torch.cat((p1, p2, p3, p4), dim=1)"
      ],
      "metadata": {
        "id": "0rB97JqUirPp"
      },
      "execution_count": 23,
      "outputs": []
    },
    {
      "cell_type": "code",
      "source": [
        "b1 = nn.Sequential(\n",
        "    nn.Conv2d(1, 64, kernel_size=7, stride=2, padding=3),\n",
        "    nn.ReLU(),\n",
        "    nn.MaxPool2d(kernel_size=3, stride=2, padding=1)\n",
        ")"
      ],
      "metadata": {
        "id": "h_FiKiTNi6Fn"
      },
      "execution_count": 24,
      "outputs": []
    },
    {
      "cell_type": "code",
      "source": [
        "b2 = nn.Sequential(\n",
        "    nn.Conv2d(64, 64, kernel_size=1),\n",
        "    nn.ReLU(),\n",
        "    nn.Conv2d(64, 192, kernel_size=3, padding=1),\n",
        "    nn.ReLU(),\n",
        "    nn.MaxPool2d(kernel_size=3, stride=2, padding=1)\n",
        ")"
      ],
      "metadata": {
        "id": "NyIICmsojHfY"
      },
      "execution_count": 25,
      "outputs": []
    },
    {
      "cell_type": "code",
      "source": [
        "b3 = nn.Sequential(\n",
        "    Inception(192, 64, (96, 128), (16, 32), 32),\n",
        "    Inception(256, 128, (128, 192), (32, 96), 64),\n",
        "    nn.MaxPool2d(kernel_size=3, stride=2, padding=1)\n",
        ")"
      ],
      "metadata": {
        "id": "xDvSovY6jekM"
      },
      "execution_count": 26,
      "outputs": []
    },
    {
      "cell_type": "code",
      "source": [
        "b4 = nn.Sequential(\n",
        "    Inception(480, 192, (96, 208), (16, 48), 64),\n",
        "    Inception(512, 160, (112, 224), (24, 64), 64),\n",
        "    Inception(512, 128, (128, 256), (24, 64), 64),\n",
        "    Inception(512, 112, (144, 288), (32, 64), 64),\n",
        "    Inception(528, 256, (160, 320), (32, 128), 128),\n",
        "    nn.MaxPool2d(kernel_size=3, stride=2, padding=1)\n",
        ")"
      ],
      "metadata": {
        "id": "aQMIELQSj27Z"
      },
      "execution_count": 27,
      "outputs": []
    },
    {
      "cell_type": "code",
      "source": [
        "b5 = nn.Sequential(\n",
        "    Inception(832, 256, (160, 320), (32, 128), 128),\n",
        "    Inception(832, 384, (192, 384), (48, 128), 128),\n",
        "    nn.AdaptiveAvgPool2d((1,1)),\n",
        "    nn.Flatten()\n",
        ")"
      ],
      "metadata": {
        "id": "VqCxcah6j_t9"
      },
      "execution_count": 28,
      "outputs": []
    },
    {
      "cell_type": "markdown",
      "source": [
        "# Helpers"
      ],
      "metadata": {
        "id": "52VDwyDYRNFN"
      }
    },
    {
      "cell_type": "code",
      "source": [
        "# Get accuracy on training\n",
        "def get_accuracy(model, data_loader, device):\n",
        "    correct_pred = 0 \n",
        "    n = 0\n",
        "    \n",
        "    with torch.no_grad():\n",
        "        model.eval()\n",
        "        for X, y_true in data_loader:\n",
        "\n",
        "            X = X.to(device)\n",
        "            y_true = y_true.to(device)\n",
        "\n",
        "            y_prob = model(X)\n",
        "            _, predicted_labels = torch.max(y_prob, 1)\n",
        "\n",
        "            n += y_true.size(0)\n",
        "            correct_pred += (predicted_labels == y_true).sum()\n",
        "\n",
        "    return correct_pred.float() / n"
      ],
      "metadata": {
        "id": "tSf5z2gURO1t"
      },
      "execution_count": 29,
      "outputs": []
    },
    {
      "cell_type": "code",
      "source": [
        "def plot_train(train_losses, train_accuracies):\n",
        "  train_losses = torch.tensor(train_losses, device='cpu')\n",
        "  train_accuracies = torch.tensor(train_accuracies, device='cpu')\n",
        "\n",
        "  train_losses = train_losses.numpy()\n",
        "  train_accuracies = train_accuracies.numpy()\n",
        "\n",
        "  fig, ax = plt.subplots(nrows=1, ncols=2, figsize=(10,5))\n",
        "\n",
        "  ax[0].plot(train_losses, color=\"red\", label=\"Training Loss\")\n",
        "  ax[0].set(title=\"Training Loss over epochs\", xlabel=\"Epoch\", ylabel=\"Loss\")\n",
        "  ax[0].legend()\n",
        "\n",
        "  ax[1].plot(train_accuracies, color=\"blue\", label=\"Training Accuracy\")\n",
        "  ax[1].set(title=\"Training Accuracy over epochs\", xlabel=\"Epoch\", ylabel=\"Accuracy\")\n",
        "  ax[1].legend()\n",
        "\n",
        "  fig.show()"
      ],
      "metadata": {
        "id": "6OTcEN6wRPi4"
      },
      "execution_count": 30,
      "outputs": []
    },
    {
      "cell_type": "code",
      "source": [
        "def train(model, train_loader, criterion, optimizer, device):\n",
        "  model.train()\n",
        "\n",
        "  for X, y_true in train_loader:\n",
        "    optimizer.zero_grad()\n",
        "    running_loss = 0\n",
        "\n",
        "    X = X.to(device)\n",
        "    y_true = y_true.to(device)\n",
        "\n",
        "    # Forward pass\n",
        "    y_hat = model(X)\n",
        "    loss = criterion(y_hat, y_true)\n",
        "    running_loss += loss.item() * X.size(0)\n",
        "\n",
        "    # Backward pass\n",
        "    loss.backward()\n",
        "    optimizer.step()\n",
        "  epoch_loss = running_loss / len(train_loader.dataset)\n",
        "  return model, optimizer, epoch_loss"
      ],
      "metadata": {
        "id": "DJAGAIlSRRpG"
      },
      "execution_count": 31,
      "outputs": []
    },
    {
      "cell_type": "code",
      "source": [
        "def training_loop(model, criterion, optimizer, train_loader, epochs, device, print_every=1):\n",
        "    '''\n",
        "    Function defining the entire training loop\n",
        "    '''\n",
        "\n",
        "    print(\"Start Training\")\n",
        "    print(f\"Using {device} device\")\n",
        "    # Train model\n",
        "\n",
        "    train_losses = []\n",
        "    train_accuracies = []\n",
        "\n",
        "    for epoch in range(0, epochs):\n",
        "        # training\n",
        "        model, optimizer, train_loss = train(model, train_loader, criterion, optimizer, device)\n",
        "        train_losses.append(train_loss)\n",
        "\n",
        "        if epoch % print_every == (print_every - 1):\n",
        "            \n",
        "            train_acc = get_accuracy(model, train_loader, device=device)\n",
        "            train_accuracies.append(train_acc)\n",
        "            print(f'{datetime.now().time().replace(microsecond=0)} --- '\n",
        "                  f'Epoch: {epoch}\\t'\n",
        "                  f'Loss: {train_loss:.4f}\\t'\n",
        "                  f'Accuracy: {100 * train_acc:.2f}%\\t')\n",
        "    plot_train(train_losses, train_accuracies)\n",
        "    print(\"Finish\")\n",
        "    return model, optimizer"
      ],
      "metadata": {
        "id": "BISFwtXKRTt1"
      },
      "execution_count": 32,
      "outputs": []
    },
    {
      "cell_type": "code",
      "source": [
        "def imshow(img, title, index):\n",
        "  plt.subplot(1,5,index)\n",
        "  plt.axis('off')\n",
        "  img = img / 2 + 0.5\n",
        "  npimg = img.numpy()\n",
        "  npimg = np.clip(npimg, 0,1)\n",
        "  plt.title(title)\n",
        "  plt.imshow(img.reshape((96, 96)), cmap='gray')"
      ],
      "metadata": {
        "id": "zAhZGRQGRVrt"
      },
      "execution_count": 33,
      "outputs": []
    },
    {
      "cell_type": "markdown",
      "source": [
        "# Training"
      ],
      "metadata": {
        "id": "hzNnjwOJRbky"
      }
    },
    {
      "cell_type": "code",
      "source": [
        "train_dataset = datasets.MNIST(\"./data\",\n",
        "                                 train=True,\n",
        "                                 transform = transforms.Compose([\n",
        "                                    transforms.Resize((96, 96)),\n",
        "                                    transforms.ToTensor(),\n",
        "                                    transforms.Normalize((0.1307,), (0.3081,))\n",
        "                                 ]),\n",
        "                                 download = True)\n",
        "\n",
        "test_dataset = datasets.MNIST(\"./data\",\n",
        "                                 train = False,\n",
        "                                 transform = transforms.Compose([\n",
        "                                    transforms.Resize((96, 96)),\n",
        "                                    transforms.ToTensor(),\n",
        "                                    transforms.Normalize((0.1325,), (0.3105,))\n",
        "                                 ]),\n",
        "                                 download = True)"
      ],
      "metadata": {
        "id": "ejzoo4DWRj-X"
      },
      "execution_count": 34,
      "outputs": []
    },
    {
      "cell_type": "code",
      "source": [
        "train_loader = torch.utils.data.DataLoader(dataset = train_dataset,\n",
        "                                           batch_size = BATCH_SIZE,\n",
        "                                           shuffle = True)"
      ],
      "metadata": {
        "id": "lMDxZwz4RqMF"
      },
      "execution_count": 35,
      "outputs": []
    },
    {
      "cell_type": "code",
      "source": [
        "net = nn.Sequential(b1, b2, b3, b4, b5, nn.Linear(1024, 10))"
      ],
      "metadata": {
        "id": "VnC2vDMdkGAK"
      },
      "execution_count": 36,
      "outputs": []
    },
    {
      "cell_type": "code",
      "source": [
        "torch.manual_seed(RANDOM_SEED)\n",
        "model = net.to(device)\n",
        "\n",
        "optimizer = torch.optim.Adam(params=model.parameters(), lr=LEARNING_RATE)\n",
        "criterion = nn.CrossEntropyLoss()"
      ],
      "metadata": {
        "id": "D1pda8JARs2S"
      },
      "execution_count": 37,
      "outputs": []
    },
    {
      "cell_type": "code",
      "source": [
        "model, optimizer = training_loop(model, criterion, optimizer, train_loader, NUM_EPOCHS, device)"
      ],
      "metadata": {
        "colab": {
          "base_uri": "https://localhost:8080/",
          "height": 575
        },
        "id": "yv-L8kHyRuvb",
        "outputId": "4f0adf83-e650-4215-87dc-5a82196e1d2b"
      },
      "execution_count": 38,
      "outputs": [
        {
          "output_type": "stream",
          "name": "stdout",
          "text": [
            "Start Training\n",
            "Using cuda device\n",
            "11:00:06 --- Epoch: 0\tLoss: 0.0037\tAccuracy: 16.47%\t\n",
            "11:04:36 --- Epoch: 1\tLoss: 0.0001\tAccuracy: 93.62%\t\n",
            "11:09:06 --- Epoch: 2\tLoss: 0.0003\tAccuracy: 96.20%\t\n",
            "11:13:36 --- Epoch: 3\tLoss: 0.0000\tAccuracy: 98.00%\t\n",
            "11:18:06 --- Epoch: 4\tLoss: 0.0001\tAccuracy: 97.99%\t\n",
            "11:22:37 --- Epoch: 5\tLoss: 0.0002\tAccuracy: 98.03%\t\n",
            "11:27:07 --- Epoch: 6\tLoss: 0.0001\tAccuracy: 98.92%\t\n",
            "11:31:37 --- Epoch: 7\tLoss: 0.0001\tAccuracy: 98.45%\t\n",
            "11:36:07 --- Epoch: 8\tLoss: 0.0000\tAccuracy: 98.36%\t\n",
            "11:40:37 --- Epoch: 9\tLoss: 0.0000\tAccuracy: 99.29%\t\n",
            "Finish\n"
          ]
        },
        {
          "output_type": "display_data",
          "data": {
            "text/plain": [
              "<Figure size 720x360 with 2 Axes>"
            ],
            "image/png": "[encoded data removed]"
          },
          "metadata": {
            "needs_background": "light"
          }
        }
      ]
    },
    {
      "cell_type": "markdown",
      "source": [
        "# Testing"
      ],
      "metadata": {
        "id": "-oIhGKOZRwTU"
      }
    },
    {
      "cell_type": "code",
      "source": [
        "test_loader = torch.utils.data.DataLoader(dataset = test_dataset,\n",
        "                                           batch_size = BATCH_SIZE,\n",
        "                                           shuffle = True)"
      ],
      "metadata": {
        "id": "vhPsLkEDRx2O"
      },
      "execution_count": 39,
      "outputs": []
    },
    {
      "cell_type": "code",
      "source": [
        "model.eval()\n",
        "with torch.no_grad():\n",
        "    correct = 0\n",
        "    total = 0\n",
        "    for images, labels in test_loader:\n",
        "        images = images.to(device)\n",
        "        labels = labels.to(device)\n",
        "        outputs = model(images)\n",
        "        _, predicted = torch.max(outputs.data, 1)\n",
        "        total += labels.size(0)\n",
        "        correct += (predicted == labels).sum().item()\n",
        "\n",
        "    print(f'Accuracy of the network on the {total} test images: {format(100 * correct / total)} %')"
      ],
      "metadata": {
        "id": "5Y1uC1cjRzmc",
        "colab": {
          "base_uri": "https://localhost:8080/"
        },
        "outputId": "3467bb8d-6a5e-4543-cd95-e0e5868009e0"
      },
      "execution_count": 40,
      "outputs": [
        {
          "output_type": "stream",
          "name": "stdout",
          "text": [
            "Accuracy of the network on the 10000 test images: 98.87 %\n"
          ]
        }
      ]
    },
    {
      "cell_type": "code",
      "source": [
        "from torch.nn.modules.container import ModuleList\n",
        "import torchvision\n",
        "inputs, classes = next(iter(test_loader))\n",
        "original_inputs = inputs\n",
        "original_classes = classes\n",
        "\n",
        "inputs = inputs.to(device)\n",
        "classes = classes.to(device)\n",
        "\n",
        "correct = 0\n",
        "\n",
        "fig = plt.figure(figsize=(10,10))\n",
        "for i in range(5):\n",
        "  with torch.no_grad():\n",
        "    model.eval()\n",
        "    output = model(inputs[i].reshape(1,1,96, 96))\n",
        "    out = output.cpu().data.numpy().argmax()\n",
        "    predicted = out.item()\n",
        "    correct = out == classes[i].item()\n",
        "    imshow(original_inputs[i], f\"Prediction: {predicted}\\nActual: {classes[i].item()}\", i+1)\n",
        "\n",
        "plt.show()"
      ],
      "metadata": {
        "id": "NspUNFAFR11o",
        "colab": {
          "base_uri": "https://localhost:8080/",
          "height": 158
        },
        "outputId": "a0e98799-1ec4-4d04-fc48-eae3048ed526"
      },
      "execution_count": 41,
      "outputs": [
        {
          "output_type": "display_data",
          "data": {
            "text/plain": [
              "<Figure size 720x720 with 5 Axes>"
            ],
            "image/png": "[encoded data removed]"
          },
          "metadata": {
            "needs_background": "light"
          }
        }
      ]
    }
  ]
}