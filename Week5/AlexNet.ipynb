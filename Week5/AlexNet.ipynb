{
  "nbformat": 4,
  "nbformat_minor": 0,
  "metadata": {
    "colab": {
      "name": "Week05-AlexNet.ipynb",
      "provenance": [],
      "collapsed_sections": [
        "CK73Non_FVL4"
      ],
      "include_colab_link": true
    },
    "kernelspec": {
      "name": "python3",
      "display_name": "Python 3"
    },
    "language_info": {
      "name": "python"
    },
    "accelerator": "GPU"
  },
  "cells": [
    {
      "cell_type": "markdown",
      "metadata": {
        "id": "view-in-github",
        "colab_type": "text"
      },
      "source": [
        "<a href=\"https://colab.research.google.com/github/yukiao/Pengantar-Deep-Learning/blob/main/Week5/AlexNet.ipynb\" target=\"_parent\"><img src=\"https://colab.research.google.com/assets/colab-badge.svg\" alt=\"Open In Colab\"/></a>"
      ]
    },
    {
      "cell_type": "markdown",
      "source": [
        "Implementation of the AlexNet architecture on PyTorch based on the reference from https://github.com/dansuh17/alexnet-pytorch/blob/d0c1b1c52296ffcbecfbf5b17e1d1685b4ca6744/model.py#L40"
      ],
      "metadata": {
        "id": "w2DEi3GijefT"
      }
    },
    {
      "cell_type": "code",
      "execution_count": 88,
      "metadata": {
        "id": "h7Iuim7YddCo"
      },
      "outputs": [],
      "source": [
        "import torch\n",
        "from torch import optim\n",
        "import torch.nn as nn\n",
        "import torch.nn.functional as F\n",
        "import numpy as np\n",
        "from torchvision import datasets, transforms\n",
        "import matplotlib.pyplot as plt\n",
        "from datetime import datetime"
      ]
    },
    {
      "cell_type": "markdown",
      "source": [
        "# Configuration"
      ],
      "metadata": {
        "id": "7uKZ5zduF7mp"
      }
    },
    {
      "cell_type": "markdown",
      "source": [
        "Here we initialize some variables that we will use when training and testing the model"
      ],
      "metadata": {
        "id": "NYnWXzSnGAyh"
      }
    },
    {
      "cell_type": "code",
      "source": [
        "device = torch.device('cuda' if torch.cuda.is_available() else 'cpu')\n",
        "NUM_EPOCHS = 20\n",
        "BATCH_SIZE = 128\n",
        "CLASSES = ('plane', 'car', 'bird', 'cat',\n",
        "           'deer', 'dog', 'frog', 'horse', 'ship', 'truck')"
      ],
      "metadata": {
        "id": "bgwgrvr2o56a"
      },
      "execution_count": 138,
      "outputs": []
    },
    {
      "cell_type": "markdown",
      "source": [
        "# Architecture"
      ],
      "metadata": {
        "id": "XBYvfmcFFSRp"
      }
    },
    {
      "cell_type": "markdown",
      "source": [
        "The implementation of Alex Net is implemented here"
      ],
      "metadata": {
        "id": "rFNdYg8RGP4o"
      }
    },
    {
      "cell_type": "code",
      "source": [
        "class AlexNet(nn.Module):\n",
        "  def __init__(self, num_classes=1000):\n",
        "    super().__init__()\n",
        "    \n",
        "    self.net = nn.Sequential(\n",
        "        nn.Conv2d(in_channels = 3, out_channels=96, kernel_size=11, stride=4, padding=2),\n",
        "        nn.ReLU(),\n",
        "        nn.LocalResponseNorm(size=5, alpha=0.0001, beta=0.75, k=2),\n",
        "        nn.MaxPool2d(kernel_size=3, stride=2),\n",
        "        nn.Conv2d(96, 256, 5, padding=2),\n",
        "        nn.ReLU(),\n",
        "        nn.LocalResponseNorm(size=5, alpha=0.0001, beta=0.75, k=2),\n",
        "        nn.MaxPool2d(kernel_size=3, stride=2),\n",
        "        nn.Conv2d(256, 384, 3, padding=1),\n",
        "        nn.ReLU(),\n",
        "        nn.Conv2d(384, 384, 3, padding=1),\n",
        "        nn.ReLU(),\n",
        "        nn.Conv2d(384, 256, 3, padding=1),\n",
        "        nn.ReLU(),\n",
        "        nn.MaxPool2d(kernel_size=3, stride=2)\n",
        "    )\n",
        "\n",
        "    self.fc = nn.Sequential(\n",
        "        nn.Dropout(p=0.5),\n",
        "        nn.Linear((256*6*6),4096),\n",
        "        nn.ReLU(),\n",
        "        nn.Dropout(p=0.5),\n",
        "        nn.Linear(4096, 4096),\n",
        "        nn.ReLU(),\n",
        "        nn.Linear(4096, num_classes),\n",
        "    )\n",
        "    \n",
        "    self.init_bias()\n",
        "\n",
        "  def init_bias(self):\n",
        "    for layer in self.net:\n",
        "      if isinstance(layer, nn.Conv2d):\n",
        "        nn.init.normal_(layer.weight, mean=0, std=0.01)\n",
        "        nn.init.constant_(layer.bias,0)\n",
        "    nn.init.constant_(self.net[4].bias, 1)\n",
        "    nn.init.constant_(self.net[10].bias, 1)\n",
        "    nn.init.constant_(self.net[12].bias, 1)\n",
        "\n",
        "  def forward(self, x):\n",
        "    x = self.net(x)\n",
        "    x = x.view(-1, 256 * 6 * 6)\n",
        "    return self.fc(x)"
      ],
      "metadata": {
        "id": "445sOD7Ei6gp"
      },
      "execution_count": 90,
      "outputs": []
    },
    {
      "cell_type": "markdown",
      "source": [
        "# Helper Function"
      ],
      "metadata": {
        "id": "CK73Non_FVL4"
      }
    },
    {
      "cell_type": "markdown",
      "source": [
        "Here we define some helper function that we can use to simplify the code"
      ],
      "metadata": {
        "id": "RE5kEDj8GW2G"
      }
    },
    {
      "cell_type": "code",
      "source": [
        "# Get accuracy on training\n",
        "def get_accuracy(model, data_loader, device):\n",
        "    correct_pred = 0 \n",
        "    n = 0\n",
        "    \n",
        "    with torch.no_grad():\n",
        "        model.eval()\n",
        "        for X, y_true in data_loader:\n",
        "\n",
        "            X = X.to(device)\n",
        "            y_true = y_true.to(device)\n",
        "\n",
        "            y_prob = model(X)\n",
        "            _, predicted_labels = torch.max(y_prob, 1)\n",
        "\n",
        "            n += y_true.size(0)\n",
        "            correct_pred += (predicted_labels == y_true).sum()\n",
        "\n",
        "    return correct_pred.float() / n"
      ],
      "metadata": {
        "id": "hceHQEl1GcPH"
      },
      "execution_count": 91,
      "outputs": []
    },
    {
      "cell_type": "code",
      "source": [
        "def train(model, train_loader, criterion, optimizer, device):\n",
        "  model.train()\n",
        "  running_loss = 0\n",
        "\n",
        "  for X, y_true in train_loader:\n",
        "    optimizer.zero_grad()\n",
        "\n",
        "    X = X.to(device)\n",
        "    y_true = y_true.to(device)\n",
        "\n",
        "    # Forward pass\n",
        "    y_hat = model(X)\n",
        "    loss = criterion(y_hat, y_true)\n",
        "    running_loss += loss.item() * X.size(0)\n",
        "\n",
        "    # Backward pass\n",
        "    loss.backward()\n",
        "    optimizer.step()\n",
        "  epoch_loss = running_loss / len(train_loader.dataset)\n",
        "  return model, optimizer, epoch_loss"
      ],
      "metadata": {
        "id": "-MTDAc3yHASl"
      },
      "execution_count": 92,
      "outputs": []
    },
    {
      "cell_type": "code",
      "source": [
        "def training_loop(model, criterion, optimizer, train_loader, epochs, device, print_every=1):\n",
        "    '''\n",
        "    Function defining the entire training loop\n",
        "    '''\n",
        "\n",
        "    print(\"Start Training\")\n",
        "    print(f\"Using {device} device\")\n",
        "    # Train model\n",
        "    for epoch in range(0, epochs):\n",
        "        # training\n",
        "        model, optimizer, train_loss = train(model, train_loader, criterion, optimizer, device)\n",
        "\n",
        "        if epoch % print_every == (print_every - 1):\n",
        "            \n",
        "            train_acc = get_accuracy(model, train_loader, device=device)\n",
        "                \n",
        "            print(f'{datetime.now().time().replace(microsecond=0)} --- '\n",
        "                  f'Epoch: {epoch}\\t'\n",
        "                  f'Loss: {train_loss:.4f}\\t'\n",
        "                  f'Accuracy: {100 * train_acc:.2f}%\\t')\n",
        "    \n",
        "    print(\"Finish\")\n",
        "    return model, optimizer"
      ],
      "metadata": {
        "id": "38G5K_9K-T-2"
      },
      "execution_count": 94,
      "outputs": []
    },
    {
      "cell_type": "code",
      "source": [
        "def imshow(img, title, index):\n",
        "  plt.subplot(1,5,index)\n",
        "  plt.axis('off')\n",
        "  img = img / 2 + 0.5\n",
        "  npimg = img.numpy()\n",
        "  npimg = np.clip(npimg, 0,1)\n",
        "  plt.title(title)\n",
        "  plt.imshow(np.transpose(npimg, (1,2,0)))"
      ],
      "metadata": {
        "id": "Zcp2zOsJ1XE4"
      },
      "execution_count": 152,
      "outputs": []
    },
    {
      "cell_type": "markdown",
      "source": [
        "# Training"
      ],
      "metadata": {
        "id": "5l0-HbHtFZle"
      }
    },
    {
      "cell_type": "markdown",
      "source": [
        "It's the time to train the model. First we create the dataset that we are going to use throughout the process. Here we will use CIFAR10 dataset that consist of 10 different classes"
      ],
      "metadata": {
        "id": "v-qG6uhqGjdT"
      }
    },
    {
      "cell_type": "code",
      "source": [
        "train_dataset = datasets.CIFAR10(\"./data\",\n",
        "                                 train=True,\n",
        "                                 transform = transforms.Compose([\n",
        "                                    transforms.Resize((224,224)),\n",
        "                                    transforms.ToTensor(),\n",
        "                                    transforms.Normalize(mean=(0.4914, 0.4822, 0.4465), \n",
        "                                                         std=(0.247, 0.243, 0.261))\n",
        "                                 ]),\n",
        "                                 download = True)\n",
        "\n",
        "test_dataset = datasets.CIFAR10(\"./data\",\n",
        "                                 train = False,\n",
        "                                 transform = transforms.Compose([\n",
        "                                    transforms.Resize((224,224)),\n",
        "                                    transforms.ToTensor(),\n",
        "                                    transforms.Normalize(mean=(0.4914, 0.4822, 0.4465), \n",
        "                                                         std=(0.247, 0.243, 0.261))\n",
        "                                 ]),\n",
        "                                 download = True)"
      ],
      "metadata": {
        "colab": {
          "base_uri": "https://localhost:8080/"
        },
        "id": "Ab4tb7vRyFQs",
        "outputId": "7adafb40-fdfc-4307-dad8-4d6f11c0bd6c"
      },
      "execution_count": 96,
      "outputs": [
        {
          "output_type": "stream",
          "name": "stdout",
          "text": [
            "Files already downloaded and verified\n",
            "Files already downloaded and verified\n"
          ]
        }
      ]
    },
    {
      "cell_type": "markdown",
      "source": [
        "Next, we define the train loader so that we can train our model in some batches"
      ],
      "metadata": {
        "id": "JetFD-eVG39w"
      }
    },
    {
      "cell_type": "code",
      "source": [
        "train_loader = torch.utils.data.DataLoader(dataset = train_dataset,\n",
        "                                           batch_size = BATCH_SIZE,\n",
        "                                           shuffle = True)"
      ],
      "metadata": {
        "id": "MQh9ZYLu06W6"
      },
      "execution_count": 97,
      "outputs": []
    },
    {
      "cell_type": "markdown",
      "source": [
        "Here we define the AlexNet model that we are going to use. Also we use Adam optimizer for this project rather than SGD that is used in original paper. For calculating loss we will use CrossEntropyLoss "
      ],
      "metadata": {
        "id": "ewkOWhuIHCDk"
      }
    },
    {
      "cell_type": "code",
      "source": [
        "model = AlexNet(num_classes=10).to(device)\n",
        "optimizer = optim.Adam(params=model.parameters(), lr=0.0001)\n",
        "# optimizer = optim.SGD(\n",
        "#     params=model.parameters(),\n",
        "#     lr=LR_INIT,\n",
        "#     momentum=0.9,\n",
        "#     weight_decay=0.0005\n",
        "#     )\n",
        "criterion = nn.CrossEntropyLoss()"
      ],
      "metadata": {
        "id": "vq76J1qMAgQg"
      },
      "execution_count": 98,
      "outputs": []
    },
    {
      "cell_type": "markdown",
      "source": [
        "We train our model using the training_loop function. Here we train our model using 10 epochs. We only use 10 epochs rather than 90 epochs because the training  time will be to long if we use 90 epochs. With 10 epochs, the training time is about 1.5 hours."
      ],
      "metadata": {
        "id": "Q9rPeGSJHjUr"
      }
    },
    {
      "cell_type": "code",
      "source": [
        "model, optimizer = training_loop(model, criterion, optimizer, train_loader, NUM_EPOCHS, device)"
      ],
      "metadata": {
        "colab": {
          "base_uri": "https://localhost:8080/"
        },
        "id": "xKnT4tMDBlBt",
        "outputId": "37cb0bd5-73c3-4f06-c335-dc39a11fc05c"
      },
      "execution_count": 99,
      "outputs": [
        {
          "output_type": "stream",
          "name": "stdout",
          "text": [
            "Start Training\n",
            "Using cuda device\n",
            "14:07:09 --- Epoch: 0\tLoss: 2.0681\tAccuracy: 39.28%\t\n",
            "14:11:59 --- Epoch: 1\tLoss: 1.5393\tAccuracy: 50.75%\t\n",
            "14:16:50 --- Epoch: 2\tLoss: 1.3064\tAccuracy: 60.11%\t\n",
            "14:21:41 --- Epoch: 3\tLoss: 1.1184\tAccuracy: 65.76%\t\n",
            "14:26:33 --- Epoch: 4\tLoss: 0.9763\tAccuracy: 72.38%\t\n",
            "14:31:24 --- Epoch: 5\tLoss: 0.8606\tAccuracy: 75.83%\t\n",
            "14:36:15 --- Epoch: 6\tLoss: 0.7557\tAccuracy: 81.27%\t\n",
            "14:41:08 --- Epoch: 7\tLoss: 0.6740\tAccuracy: 84.42%\t\n",
            "14:46:00 --- Epoch: 8\tLoss: 0.5944\tAccuracy: 86.90%\t\n",
            "14:50:53 --- Epoch: 9\tLoss: 0.5150\tAccuracy: 90.41%\t\n",
            "14:55:46 --- Epoch: 10\tLoss: 0.4482\tAccuracy: 93.16%\t\n",
            "15:00:39 --- Epoch: 11\tLoss: 0.3876\tAccuracy: 95.74%\t\n",
            "15:05:32 --- Epoch: 12\tLoss: 0.3289\tAccuracy: 96.89%\t\n",
            "15:10:24 --- Epoch: 13\tLoss: 0.2766\tAccuracy: 96.90%\t\n",
            "15:15:17 --- Epoch: 14\tLoss: 0.2370\tAccuracy: 99.15%\t\n",
            "15:20:09 --- Epoch: 15\tLoss: 0.2032\tAccuracy: 99.21%\t\n",
            "15:25:01 --- Epoch: 16\tLoss: 0.1812\tAccuracy: 99.45%\t\n",
            "15:29:55 --- Epoch: 17\tLoss: 0.1596\tAccuracy: 99.57%\t\n",
            "15:34:48 --- Epoch: 18\tLoss: 0.1382\tAccuracy: 99.79%\t\n",
            "15:39:41 --- Epoch: 19\tLoss: 0.1330\tAccuracy: 99.81%\t\n",
            "Finish\n"
          ]
        }
      ]
    },
    {
      "cell_type": "markdown",
      "source": [
        "## Save model"
      ],
      "metadata": {
        "id": "Yq6g5AbYFeF1"
      }
    },
    {
      "cell_type": "markdown",
      "source": [
        "In this part of codes, we use the save method from torch so that we don't need to train the model again if we close the google colab tab."
      ],
      "metadata": {
        "id": "X7TZjbpfIUPN"
      }
    },
    {
      "cell_type": "code",
      "source": [
        "torch.save(model.state_dict(), \"/content/drive/MyDrive/CNNModels/alexnet.pth\")"
      ],
      "metadata": {
        "id": "clGnWumALQn9"
      },
      "execution_count": 103,
      "outputs": []
    },
    {
      "cell_type": "markdown",
      "source": [
        "## Load Model"
      ],
      "metadata": {
        "id": "bt12gq_uFgiY"
      }
    },
    {
      "cell_type": "markdown",
      "source": [
        "We load the saved model so that we can use that immediately for testing"
      ],
      "metadata": {
        "id": "Pgs3URXkIhkm"
      }
    },
    {
      "cell_type": "code",
      "source": [
        "alex_net = AlexNet(10).to(device)\n",
        "alex_net.load_state_dict(torch.load(\"/content/drive/MyDrive/CNNModels/alexnet.pth\"))"
      ],
      "metadata": {
        "colab": {
          "base_uri": "https://localhost:8080/"
        },
        "id": "JohoF0H2zIFS",
        "outputId": "9a354c4f-5dfe-42b4-a7f0-84fadad34d87"
      },
      "execution_count": 106,
      "outputs": [
        {
          "output_type": "execute_result",
          "data": {
            "text/plain": [
              "<All keys matched successfully>"
            ]
          },
          "metadata": {},
          "execution_count": 106
        }
      ]
    },
    {
      "cell_type": "markdown",
      "source": [
        "# Testing"
      ],
      "metadata": {
        "id": "9aBGOUcaFnH1"
      }
    },
    {
      "cell_type": "markdown",
      "source": [
        "Same as the training phase, here we define the test loader "
      ],
      "metadata": {
        "id": "h3ts5QRTIv2d"
      }
    },
    {
      "cell_type": "code",
      "source": [
        "test_loader = torch.utils.data.DataLoader(dataset = test_dataset,\n",
        "                                           batch_size = BATCH_SIZE,\n",
        "                                           shuffle = True)"
      ],
      "metadata": {
        "id": "7SFtnv6X4sSq"
      },
      "execution_count": 187,
      "outputs": []
    },
    {
      "cell_type": "markdown",
      "source": [
        "We test the model with the test dataset. After that we calculate the accuracy on test dataset. Unforunately, the accuracy is significantly decrease. Based on that, we conclude that our model is overfitting"
      ],
      "metadata": {
        "id": "5CRUE4mEI3XM"
      }
    },
    {
      "cell_type": "code",
      "source": [
        "alex_net.eval()\n",
        "with torch.no_grad():\n",
        "    correct = 0\n",
        "    total = 0\n",
        "    for images, labels in test_loader:\n",
        "        images = images.to(device)\n",
        "        labels = labels.to(device)\n",
        "        outputs = alex_net(images)\n",
        "        _, predicted = torch.max(outputs.data, 1)\n",
        "        total += labels.size(0)\n",
        "        correct += (predicted == labels).sum().item()\n",
        "\n",
        "    print(f'Accuracy of the network on the {total} test images: {format(100 * correct / total)} %')\n",
        "\t "
      ],
      "metadata": {
        "colab": {
          "base_uri": "https://localhost:8080/"
        },
        "id": "2n8pp859ANGR",
        "outputId": "da728966-65db-4709-a722-4be28b9c92ef"
      },
      "execution_count": 195,
      "outputs": [
        {
          "output_type": "stream",
          "name": "stdout",
          "text": [
            "Accuracy of the network on the 10000 test images: 79.59 %\n"
          ]
        }
      ]
    },
    {
      "cell_type": "markdown",
      "source": [
        "# Visualization"
      ],
      "metadata": {
        "id": "O_lid300F0qB"
      }
    },
    {
      "cell_type": "markdown",
      "source": [
        "Finally, we will visualize some prediction on test dataset using the model that we have defined"
      ],
      "metadata": {
        "id": "sR8CEHENJW31"
      }
    },
    {
      "cell_type": "code",
      "source": [
        "import torchvision\n",
        "inputs, classes = next(iter(test_loader))\n",
        "original_inputs = inputs\n",
        "original_classes = classes\n",
        "\n",
        "inputs = inputs.to(device)\n",
        "classes = classes.to(device)\n",
        "\n",
        "correct = 0\n",
        "\n",
        "fig = plt.figure(figsize=(10,10))\n",
        "for i in range(5):\n",
        "  with torch.no_grad():\n",
        "    alex_net.eval()\n",
        "    output = alex_net(inputs[i].reshape(1,3,224,224))\n",
        "    out = output.cpu().data.numpy().argmax()\n",
        "    predicted = CLASSES[out]\n",
        "    correct = out == classes[i].item()\n",
        "    imshow(original_inputs[i], predicted+f\": {correct}\", i+1)\n",
        "\n",
        "plt.show()"
      ],
      "metadata": {
        "colab": {
          "base_uri": "https://localhost:8080/",
          "height": 143
        },
        "id": "1sihZNJ5zTKJ",
        "outputId": "58816e82-ff51-4237-abaa-f1c8cf6847fa"
      },
      "execution_count": 203,
      "outputs": [
        {
          "output_type": "display_data",
          "data": {
            "text/plain": [
              "<Figure size 720x720 with 5 Axes>"
            ],
            "image/png": "[encoded data removed]"
          },
          "metadata": {
            "needs_background": "light"
          }
        }
      ]
    }
  ]
}