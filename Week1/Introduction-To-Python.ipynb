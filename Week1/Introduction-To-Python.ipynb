{
  "nbformat": 4,
  "nbformat_minor": 0,
  "metadata": {
    "colab": {
      "name": "Week-1-Deep-Learning.ipynb",
      "provenance": [],
      "authorship_tag": "ABX9TyOpWn4Cf2KPNjQh0LU7xwBV"
    },
    "kernelspec": {
      "name": "python3",
      "display_name": "Python 3"
    },
    "language_info": {
      "name": "python"
    }
  },
  "cells": [
    {
      "cell_type": "markdown",
      "source": [
        "# 1. Hello, Python"
      ],
      "metadata": {
        "id": "tKhLRT8BMnZa"
      }
    },
    {
      "cell_type": "markdown",
      "source": [
        "## Hello, Python!"
      ],
      "metadata": {
        "id": "jPiyMGo3RAh2"
      }
    },
    {
      "cell_type": "code",
      "execution_count": null,
      "metadata": {
        "colab": {
          "base_uri": "https://localhost:8080/"
        },
        "id": "Gh7RHxtaK0yy",
        "outputId": "34797d2b-f953-44f9-b9bc-7cd4d891c2e3"
      },
      "outputs": [
        {
          "output_type": "stream",
          "name": "stdout",
          "text": [
            "0\n",
            "But I don't want ANY spam!\n",
            "Spam Spam Spam Spam \n"
          ]
        }
      ],
      "source": [
        "#Variable assignment\n",
        "spam_amount = 0\n",
        "\n",
        "#Function calls\n",
        "print(spam_amount)\n",
        "\n",
        "#Reassigning value\n",
        "spam_amount = spam_amount + 4\n",
        "\n",
        "if spam_amount > 0:\n",
        "  print(\"But I don't want ANY spam!\")\n",
        "\n",
        "viking_song = \"Spam \" * spam_amount\n",
        "print(viking_song) "
      ]
    },
    {
      "cell_type": "markdown",
      "source": [
        "## Numbers and arithmetic in Python"
      ],
      "metadata": {
        "id": "XruzdX8GQ3_b"
      }
    },
    {
      "cell_type": "code",
      "source": [
        "spam_amount = 0\n",
        "type(spam_amount)"
      ],
      "metadata": {
        "colab": {
          "base_uri": "https://localhost:8080/"
        },
        "id": "qKU0sHYXLkvm",
        "outputId": "8daba8b0-b793-43e2-9414-7827e4215e92"
      },
      "execution_count": null,
      "outputs": [
        {
          "output_type": "execute_result",
          "data": {
            "text/plain": [
              "int"
            ]
          },
          "metadata": {},
          "execution_count": 8
        }
      ]
    },
    {
      "cell_type": "code",
      "source": [
        "type(19.95)"
      ],
      "metadata": {
        "colab": {
          "base_uri": "https://localhost:8080/"
        },
        "id": "7KahIVpyLUUI",
        "outputId": "c9e47b26-f04a-4105-ab39-603e4fa957e1"
      },
      "execution_count": null,
      "outputs": [
        {
          "output_type": "execute_result",
          "data": {
            "text/plain": [
              "float"
            ]
          },
          "metadata": {},
          "execution_count": 9
        }
      ]
    },
    {
      "cell_type": "code",
      "source": [
        "print(5/2)\n",
        "print(6/2)"
      ],
      "metadata": {
        "colab": {
          "base_uri": "https://localhost:8080/"
        },
        "id": "yWm7q5xLPxvJ",
        "outputId": "0b10db86-be63-40a0-e11a-332dc941481e"
      },
      "execution_count": null,
      "outputs": [
        {
          "output_type": "stream",
          "name": "stdout",
          "text": [
            "2.5\n",
            "3.0\n"
          ]
        }
      ]
    },
    {
      "cell_type": "code",
      "source": [
        "print(5 // 2)\n",
        "print(6 // 2)"
      ],
      "metadata": {
        "colab": {
          "base_uri": "https://localhost:8080/"
        },
        "id": "0psnbr_YP1Fl",
        "outputId": "61a15be4-57bf-443b-8a0c-04bee8477e57"
      },
      "execution_count": null,
      "outputs": [
        {
          "output_type": "stream",
          "name": "stdout",
          "text": [
            "2\n",
            "3\n"
          ]
        }
      ]
    },
    {
      "cell_type": "markdown",
      "source": [
        "### Order of operations"
      ],
      "metadata": {
        "id": "9tBQ2xh_RIH6"
      }
    },
    {
      "cell_type": "code",
      "source": [
        "8 - 3 + 2"
      ],
      "metadata": {
        "colab": {
          "base_uri": "https://localhost:8080/"
        },
        "id": "JkOMEyeBP_Mb",
        "outputId": "740f600d-6df5-4e62-ce30-26c55d139b5a"
      },
      "execution_count": null,
      "outputs": [
        {
          "output_type": "execute_result",
          "data": {
            "text/plain": [
              "7"
            ]
          },
          "metadata": {},
          "execution_count": 13
        }
      ]
    },
    {
      "cell_type": "code",
      "source": [
        "-3 + 4 * 2"
      ],
      "metadata": {
        "colab": {
          "base_uri": "https://localhost:8080/"
        },
        "id": "iTRRQ-TDQBcN",
        "outputId": "426399b1-04d3-4eed-b23e-e89bc67fa1ab"
      },
      "execution_count": null,
      "outputs": [
        {
          "output_type": "execute_result",
          "data": {
            "text/plain": [
              "5"
            ]
          },
          "metadata": {},
          "execution_count": 14
        }
      ]
    },
    {
      "cell_type": "code",
      "source": [
        "hat_height_cm = 25\n",
        "my_height_cm = 190\n",
        "\n",
        "total_height_meters = hat_height_cm + my_height_cm / 100\n",
        "print(\"Height in meters =\", total_height_meters,\"?\")"
      ],
      "metadata": {
        "colab": {
          "base_uri": "https://localhost:8080/"
        },
        "id": "weKkJ6VNQDiz",
        "outputId": "2aa512c3-a010-4b13-b4e6-c535fa54f4cf"
      },
      "execution_count": null,
      "outputs": [
        {
          "output_type": "stream",
          "name": "stdout",
          "text": [
            "Height in meters = 26.9 ?\n"
          ]
        }
      ]
    },
    {
      "cell_type": "code",
      "source": [
        "total_height_meters = (hat_height_cm + my_height_cm) / 100\n",
        "print(\"Height in meters =\", total_height_meters)"
      ],
      "metadata": {
        "colab": {
          "base_uri": "https://localhost:8080/"
        },
        "id": "JQ1092oYQbDq",
        "outputId": "0a3c76a7-f173-4b74-a651-ad93b6812126"
      },
      "execution_count": null,
      "outputs": [
        {
          "output_type": "stream",
          "name": "stdout",
          "text": [
            "Height in meters = 2.15\n"
          ]
        }
      ]
    },
    {
      "cell_type": "markdown",
      "source": [
        "### Builtin functions for working with numbers"
      ],
      "metadata": {
        "id": "vuwCglMSRL4-"
      }
    },
    {
      "cell_type": "code",
      "source": [
        "print(min(1,2,3))\n",
        "print(max(1,2,3))"
      ],
      "metadata": {
        "colab": {
          "base_uri": "https://localhost:8080/"
        },
        "id": "6ETe0RfVQhoE",
        "outputId": "21f22a1a-55f2-4d81-83de-be4dbe85da40"
      },
      "execution_count": null,
      "outputs": [
        {
          "output_type": "stream",
          "name": "stdout",
          "text": [
            "1\n",
            "3\n"
          ]
        }
      ]
    },
    {
      "cell_type": "code",
      "source": [
        "print(abs(32))\n",
        "print(abs(-32))"
      ],
      "metadata": {
        "colab": {
          "base_uri": "https://localhost:8080/"
        },
        "id": "b82g511MQo1A",
        "outputId": "4ca81fc5-156b-4a80-dc1e-32ff624b6cde"
      },
      "execution_count": null,
      "outputs": [
        {
          "output_type": "stream",
          "name": "stdout",
          "text": [
            "32\n",
            "32\n"
          ]
        }
      ]
    },
    {
      "cell_type": "code",
      "source": [
        "print(float(10))\n",
        "print(int(3.33))"
      ],
      "metadata": {
        "colab": {
          "base_uri": "https://localhost:8080/"
        },
        "id": "biVqgO1SQtdj",
        "outputId": "10b862d9-bfa1-4643-a090-695a7d94b45d"
      },
      "execution_count": null,
      "outputs": [
        {
          "output_type": "stream",
          "name": "stdout",
          "text": [
            "10.0\n",
            "3\n"
          ]
        }
      ]
    },
    {
      "cell_type": "markdown",
      "source": [
        "#2. Functions and Getting Help"
      ],
      "metadata": {
        "id": "5mrQq2ldTptq"
      }
    },
    {
      "cell_type": "markdown",
      "source": [
        "## Getting Help"
      ],
      "metadata": {
        "id": "esh3FNIkVJyq"
      }
    },
    {
      "cell_type": "code",
      "source": [
        "help(round)"
      ],
      "metadata": {
        "colab": {
          "base_uri": "https://localhost:8080/"
        },
        "id": "RhvxMbg2VNxl",
        "outputId": "56850db5-0c9a-4e53-dac2-6319db12d92e"
      },
      "execution_count": null,
      "outputs": [
        {
          "output_type": "stream",
          "name": "stdout",
          "text": [
            "Help on built-in function round in module builtins:\n",
            "\n",
            "round(number, ndigits=None)\n",
            "    Round a number to a given precision in decimal digits.\n",
            "    \n",
            "    The return value is an integer if ndigits is omitted or None.  Otherwise\n",
            "    the return value has the same type as the number.  ndigits may be negative.\n",
            "\n"
          ]
        }
      ]
    },
    {
      "cell_type": "code",
      "source": [
        "# help(round(-2.01))"
      ],
      "metadata": {
        "id": "0vJTIhc_Vdwf"
      },
      "execution_count": null,
      "outputs": []
    },
    {
      "cell_type": "code",
      "source": [
        "help(print)"
      ],
      "metadata": {
        "colab": {
          "base_uri": "https://localhost:8080/"
        },
        "id": "i3YfOwJpV6Hn",
        "outputId": "d915da71-c978-4c3d-c5c7-b4916c385ad5"
      },
      "execution_count": null,
      "outputs": [
        {
          "output_type": "stream",
          "name": "stdout",
          "text": [
            "Help on built-in function print in module builtins:\n",
            "\n",
            "print(...)\n",
            "    print(value, ..., sep=' ', end='\\n', file=sys.stdout, flush=False)\n",
            "    \n",
            "    Prints the values to a stream, or to sys.stdout by default.\n",
            "    Optional keyword arguments:\n",
            "    file:  a file-like object (stream); defaults to the current sys.stdout.\n",
            "    sep:   string inserted between values, default a space.\n",
            "    end:   string appended after the last value, default a newline.\n",
            "    flush: whether to forcibly flush the stream.\n",
            "\n"
          ]
        }
      ]
    },
    {
      "cell_type": "markdown",
      "source": [
        "## Defining functions"
      ],
      "metadata": {
        "id": "XRuA3gXAWN0Z"
      }
    },
    {
      "cell_type": "code",
      "source": [
        "# def least_difference(a, b, c):\n",
        "#   diff1 = abs(a - b)\n",
        "#   diff2 = abs(b - c)\n",
        "#   diff3 = abs(a - c)\n",
        "\n",
        "#   return (min(diff1, diff2, diff3))"
      ],
      "metadata": {
        "id": "rhe0PQ9XWQdH"
      },
      "execution_count": null,
      "outputs": []
    },
    {
      "cell_type": "code",
      "source": [
        "# print(\n",
        "#     least_difference(1,10,100), \n",
        "#     least_difference(1,10,10), \n",
        "#     least_difference(5,6,7)\n",
        "# )"
      ],
      "metadata": {
        "colab": {
          "base_uri": "https://localhost:8080/"
        },
        "id": "VFSIMJMVWnST",
        "outputId": "3c4287b2-5ff2-4ef5-ee51-105a3141f904"
      },
      "execution_count": null,
      "outputs": [
        {
          "output_type": "stream",
          "name": "stdout",
          "text": [
            "9 0 1\n"
          ]
        }
      ]
    },
    {
      "cell_type": "code",
      "source": [
        "help(least_difference)"
      ],
      "metadata": {
        "colab": {
          "base_uri": "https://localhost:8080/"
        },
        "id": "MZQc6Hx7W4hg",
        "outputId": "f92b476c-907b-411f-ecb6-0d60f453065e"
      },
      "execution_count": null,
      "outputs": [
        {
          "output_type": "stream",
          "name": "stdout",
          "text": [
            "Help on function least_difference in module __main__:\n",
            "\n",
            "least_difference(a, b, c)\n",
            "\n"
          ]
        }
      ]
    },
    {
      "cell_type": "markdown",
      "source": [
        "### Docstrings"
      ],
      "metadata": {
        "id": "djMLj90rXEt1"
      }
    },
    {
      "cell_type": "code",
      "source": [
        "# def least_difference(a, b, c):\n",
        "#   \"\"\"\n",
        "#   Return the smallest difference between any two numbers among a, b and c.\n",
        "\n",
        "#   >>> least_difference(1,5,-5)\n",
        "#   4\n",
        "#   \"\"\"\n",
        "#   diff1 = abs(a - b)\n",
        "#   diff2 = abs(b - c)\n",
        "#   diff3 = abs(a - c)\n",
        "\n",
        "#   return (min(diff1, diff2, diff3))"
      ],
      "metadata": {
        "id": "1rejN-ebXGeb"
      },
      "execution_count": null,
      "outputs": []
    },
    {
      "cell_type": "code",
      "source": [
        "# help(least_difference)"
      ],
      "metadata": {
        "colab": {
          "base_uri": "https://localhost:8080/"
        },
        "id": "XWkyenwyXcrz",
        "outputId": "85364f42-eaf9-4c8a-b59f-74c593448ebc"
      },
      "execution_count": null,
      "outputs": [
        {
          "output_type": "stream",
          "name": "stdout",
          "text": [
            "Help on function least_difference in module __main__:\n",
            "\n",
            "least_difference(a, b, c)\n",
            "    Return the smallest difference between any two numbers among a, b and c.\n",
            "    \n",
            "    >>> least_difference(1,5,-5)\n",
            "    4\n",
            "\n"
          ]
        }
      ]
    },
    {
      "cell_type": "markdown",
      "source": [
        "## Functions that don't return"
      ],
      "metadata": {
        "id": "OHCMQDg8X6RB"
      }
    },
    {
      "cell_type": "code",
      "source": [
        "def least_difference(a, b, c):\n",
        "  \"\"\"\n",
        "  Return the smallest difference between any two numbers among a, b and c.\n",
        "\n",
        "  >>> least_difference(1,5,-5)\n",
        "  4\n",
        "  \"\"\"\n",
        "  diff1 = abs(a - b)\n",
        "  diff2 = abs(b - c)\n",
        "  diff3 = abs(a - c)\n",
        "\n",
        "  min(diff1, diff2, diff3)"
      ],
      "metadata": {
        "id": "B04o0b5tX9PS"
      },
      "execution_count": null,
      "outputs": []
    },
    {
      "cell_type": "code",
      "source": [
        "print(\n",
        "    least_difference(1,10,100), \n",
        "    least_difference(1,10,10), \n",
        "    least_difference(5,6,7)\n",
        ")"
      ],
      "metadata": {
        "colab": {
          "base_uri": "https://localhost:8080/"
        },
        "id": "lvZzqFlyYKzG",
        "outputId": "093fcf9c-25c2-4095-900e-c3801c686200"
      },
      "execution_count": null,
      "outputs": [
        {
          "output_type": "stream",
          "name": "stdout",
          "text": [
            "None None None\n"
          ]
        }
      ]
    },
    {
      "cell_type": "code",
      "source": [
        "mystery = print()\n",
        "print(mystery)"
      ],
      "metadata": {
        "colab": {
          "base_uri": "https://localhost:8080/"
        },
        "id": "nkhcdLoeYXZ2",
        "outputId": "bc98b1c9-66b6-4efd-e9f0-58a53cdce4e4"
      },
      "execution_count": null,
      "outputs": [
        {
          "output_type": "stream",
          "name": "stdout",
          "text": [
            "\n",
            "None\n"
          ]
        }
      ]
    },
    {
      "cell_type": "markdown",
      "source": [
        "## Default arguments"
      ],
      "metadata": {
        "id": "3_nZZ5TlYiWy"
      }
    },
    {
      "cell_type": "code",
      "source": [
        "print(1,2,3, sep=' < ')"
      ],
      "metadata": {
        "colab": {
          "base_uri": "https://localhost:8080/"
        },
        "id": "oPRBtYXTYnGj",
        "outputId": "ff545a4b-e419-4517-d94e-47872fd48d9d"
      },
      "execution_count": null,
      "outputs": [
        {
          "output_type": "stream",
          "name": "stdout",
          "text": [
            "1 < 2 < 3\n"
          ]
        }
      ]
    },
    {
      "cell_type": "code",
      "source": [
        "print(1,2,3)"
      ],
      "metadata": {
        "colab": {
          "base_uri": "https://localhost:8080/"
        },
        "id": "VfMIxLZbYugK",
        "outputId": "295830fc-1b77-42ef-93d1-aef6b4b47362"
      },
      "execution_count": null,
      "outputs": [
        {
          "output_type": "stream",
          "name": "stdout",
          "text": [
            "1 2 3\n"
          ]
        }
      ]
    },
    {
      "cell_type": "code",
      "source": [
        "def greet(who=\"Colin\"):\n",
        "  print(\"Hello,\", who)\n",
        "\n",
        "greet()\n",
        "greet(who=\"Kaggle\")\n",
        "greet(\"world\")"
      ],
      "metadata": {
        "colab": {
          "base_uri": "https://localhost:8080/"
        },
        "id": "66TQUD44Y0ZN",
        "outputId": "7275a7bd-c6d4-4765-d778-2d82979e1362"
      },
      "execution_count": null,
      "outputs": [
        {
          "output_type": "stream",
          "name": "stdout",
          "text": [
            "Hello, Colin\n",
            "Hello, Kaggle\n",
            "Hello, world\n"
          ]
        }
      ]
    },
    {
      "cell_type": "markdown",
      "source": [
        "## Functions Applied to Functions"
      ],
      "metadata": {
        "id": "6OhRPXwcZBza"
      }
    },
    {
      "cell_type": "code",
      "source": [
        "def mult_by_five(x):\n",
        "  return 5*x\n",
        "\n",
        "def call(fn, arg):\n",
        "  \"\"\"Call fn on arg\"\"\"\n",
        "  return fn(arg)\n",
        "\n",
        "def squared_call(fn, arg):\n",
        "  \"\"\"Call fn on the result of calling fn on arg\"\"\"\n",
        "  return fn(fn(arg))\n",
        "\n",
        "print(\n",
        "    call(mult_by_five, 1),\n",
        "    squared_call(mult_by_five, 1),\n",
        "    sep='\\n'\n",
        ")"
      ],
      "metadata": {
        "colab": {
          "base_uri": "https://localhost:8080/"
        },
        "id": "AAsBcwMRZHHl",
        "outputId": "097655c5-6bb6-44cb-fa85-8f6d5cdea8af"
      },
      "execution_count": null,
      "outputs": [
        {
          "output_type": "stream",
          "name": "stdout",
          "text": [
            "5\n",
            "25\n"
          ]
        }
      ]
    },
    {
      "cell_type": "code",
      "source": [
        "def mod_5(x):\n",
        "  \"\"\"Return the remainder of x after dividing by 5\"\"\"\n",
        "  return x % 5\n",
        "\n",
        "print(\n",
        "    'Which number is biggest?',\n",
        "    max(100,51,14),\n",
        "    'Which number is the biggest modulo 5',\n",
        "    max(100,51, 14, key=mod_5),\n",
        "    sep=\"\\n\"\n",
        ")"
      ],
      "metadata": {
        "colab": {
          "base_uri": "https://localhost:8080/"
        },
        "id": "G9tlW8VoZ3jl",
        "outputId": "f86f4d66-cb28-4014-a2f2-04956d68273f"
      },
      "execution_count": null,
      "outputs": [
        {
          "output_type": "stream",
          "name": "stdout",
          "text": [
            "Which number is biggest?\n",
            "100\n",
            "Which number is the biggest modulo 5\n",
            "14\n"
          ]
        }
      ]
    },
    {
      "cell_type": "markdown",
      "source": [
        "#3. Booleans and Conditionals"
      ],
      "metadata": {
        "id": "o7njINp3T1QO"
      }
    },
    {
      "cell_type": "markdown",
      "source": [
        "## Booleans"
      ],
      "metadata": {
        "id": "x-t_qLIab3IN"
      }
    },
    {
      "cell_type": "code",
      "source": [
        "x = True\n",
        "print(x)\n",
        "print(type(x))"
      ],
      "metadata": {
        "colab": {
          "base_uri": "https://localhost:8080/"
        },
        "id": "9woRSBJFT4Em",
        "outputId": "838a2cdd-a0be-486f-a63e-fa521404a59c"
      },
      "execution_count": null,
      "outputs": [
        {
          "output_type": "stream",
          "name": "stdout",
          "text": [
            "True\n",
            "<class 'bool'>\n"
          ]
        }
      ]
    },
    {
      "cell_type": "code",
      "source": [
        "def can_run_for_president(age):\n",
        "  \"\"\"Can someone of the given age run for president in the US?\"\"\"\n",
        "\n",
        "  return age >=35\n",
        "\n",
        "print(\"Can a 19-year-old run for president?\", can_run_for_president(19))\n",
        "print(\"Can a 45-year-old run for president?\", can_run_for_president(45))"
      ],
      "metadata": {
        "colab": {
          "base_uri": "https://localhost:8080/"
        },
        "id": "jPe7Ce6wcFCq",
        "outputId": "89e0da6c-7567-40be-a2c6-76d108c04f00"
      },
      "execution_count": null,
      "outputs": [
        {
          "output_type": "stream",
          "name": "stdout",
          "text": [
            "Can a 19-year-old run for president? False\n",
            "Can a 45-year-old run for president? True\n"
          ]
        }
      ]
    },
    {
      "cell_type": "code",
      "source": [
        "3.0 == 3"
      ],
      "metadata": {
        "colab": {
          "base_uri": "https://localhost:8080/"
        },
        "id": "2lOSWSWVcX9H",
        "outputId": "f2bf2173-39cf-4322-f680-7fcf41b45dfd"
      },
      "execution_count": null,
      "outputs": [
        {
          "output_type": "execute_result",
          "data": {
            "text/plain": [
              "True"
            ]
          },
          "metadata": {},
          "execution_count": 52
        }
      ]
    },
    {
      "cell_type": "code",
      "source": [
        "'3' == 3"
      ],
      "metadata": {
        "colab": {
          "base_uri": "https://localhost:8080/"
        },
        "id": "jLoALWHVcZ4u",
        "outputId": "71b25bcd-d115-48b8-cade-d0271d000be3"
      },
      "execution_count": null,
      "outputs": [
        {
          "output_type": "execute_result",
          "data": {
            "text/plain": [
              "False"
            ]
          },
          "metadata": {},
          "execution_count": 53
        }
      ]
    },
    {
      "cell_type": "code",
      "source": [
        "def is_odd(n):\n",
        "  return (n%2) == 1\n",
        "\n",
        "print(\"Is 100 odd?\", is_odd(100))\n",
        "print(\"Is -1 odd?\", is_odd(-1))"
      ],
      "metadata": {
        "colab": {
          "base_uri": "https://localhost:8080/"
        },
        "id": "H7DNrEVEc_GD",
        "outputId": "18d40b03-f5b6-41f8-cbd6-597c3a712007"
      },
      "execution_count": null,
      "outputs": [
        {
          "output_type": "stream",
          "name": "stdout",
          "text": [
            "Is 100 odd? False\n",
            "Is -1 odd? True\n"
          ]
        }
      ]
    },
    {
      "cell_type": "markdown",
      "source": [
        "## Combining Boolean Values\n"
      ],
      "metadata": {
        "id": "B22SS5UYdafi"
      }
    },
    {
      "cell_type": "code",
      "source": [
        "def can_run_for_president(age, is_natural_born_citizen):\n",
        "  \"\"\"Can someone of the given age and citizenship run for president in the US?\"\"\"\n",
        "\n",
        "  return is_natural_born_citizen and age >= 35\n",
        "\n",
        "print(\"Can a 19-year-old run for president?\", can_run_for_president(19,True))\n",
        "print(\"Can a 45-year-old run for president?\", can_run_for_president(55, False))\n",
        "print(\"Can a 45-year-old run for president?\", can_run_for_president(55, True))"
      ],
      "metadata": {
        "colab": {
          "base_uri": "https://localhost:8080/"
        },
        "id": "LnY7SgVadd1A",
        "outputId": "85d52be6-627f-43f5-c282-7de4b93b679b"
      },
      "execution_count": null,
      "outputs": [
        {
          "output_type": "stream",
          "name": "stdout",
          "text": [
            "Can a 19-year-old run for president? False\n",
            "Can a 45-year-old run for president? False\n",
            "Can a 45-year-old run for president? True\n"
          ]
        }
      ]
    },
    {
      "cell_type": "code",
      "source": [
        "True or True and False"
      ],
      "metadata": {
        "colab": {
          "base_uri": "https://localhost:8080/"
        },
        "id": "qR6M1onqd0qJ",
        "outputId": "fb003b33-a310-411b-adb6-839edc7bfec8"
      },
      "execution_count": null,
      "outputs": [
        {
          "output_type": "execute_result",
          "data": {
            "text/plain": [
              "True"
            ]
          },
          "metadata": {},
          "execution_count": 62
        }
      ]
    },
    {
      "cell_type": "markdown",
      "source": [
        "##Conditionals"
      ],
      "metadata": {
        "id": "VFmZFyvNejEB"
      }
    },
    {
      "cell_type": "code",
      "source": [
        "def inspect(x):\n",
        "  if x == 0:\n",
        "    print(x, \"is zero\")\n",
        "  elif x > 0:\n",
        "    print(x, \"is positive\")\n",
        "  elif x < 0:\n",
        "    print(x, \"is negative\")\n",
        "  else:\n",
        "    print(x, \"is unlike anything I've ever seen...\")\n",
        "\n",
        "inspect(0)\n",
        "inspect(-15)"
      ],
      "metadata": {
        "colab": {
          "base_uri": "https://localhost:8080/"
        },
        "id": "8hSqZsCpelwE",
        "outputId": "35feb192-83b6-4ad6-db43-b2fa8bae4784"
      },
      "execution_count": null,
      "outputs": [
        {
          "output_type": "stream",
          "name": "stdout",
          "text": [
            "0 is zero\n",
            "-15 is negative\n"
          ]
        }
      ]
    },
    {
      "cell_type": "code",
      "source": [
        "def f(x):\n",
        "  if x > 0:\n",
        "    print(\"Only printed when x is positive; x =\",x)\n",
        "    print(\"Also only printed when x is positive; x =\",x)\n",
        "  print(\"Always printed, regardless of x's value; x =\",x)\n",
        "\n",
        "f(1)\n",
        "f(0)\n"
      ],
      "metadata": {
        "colab": {
          "base_uri": "https://localhost:8080/"
        },
        "id": "G20JX-2YfFHJ",
        "outputId": "07fe5660-dd8f-4a31-8e00-4db5bc6c46eb"
      },
      "execution_count": null,
      "outputs": [
        {
          "output_type": "stream",
          "name": "stdout",
          "text": [
            "Only printed when x is positive; x = 1\n",
            "Also only printed when x is positive; x = 1\n",
            "Always printed, regardless of x's value; x = 1\n",
            "Always printed, regardless of x's value; x = 0\n"
          ]
        }
      ]
    },
    {
      "cell_type": "markdown",
      "source": [
        "## Boolean conversion\n"
      ],
      "metadata": {
        "id": "BIkSdimWfeLA"
      }
    },
    {
      "cell_type": "code",
      "source": [
        "print(bool(1))\n",
        "print(bool(0))\n",
        "print(bool(\"asf\"))\n",
        "print(bool(\"\"))"
      ],
      "metadata": {
        "colab": {
          "base_uri": "https://localhost:8080/"
        },
        "id": "W6hFhXl_fg6i",
        "outputId": "99487f9a-d04e-483a-e857-24937e96548b"
      },
      "execution_count": null,
      "outputs": [
        {
          "output_type": "stream",
          "name": "stdout",
          "text": [
            "True\n",
            "False\n",
            "True\n",
            "False\n"
          ]
        }
      ]
    },
    {
      "cell_type": "code",
      "source": [
        "if 0:\n",
        "  print(0)\n",
        "elif \"spam\":\n",
        "  print(\"spam\")"
      ],
      "metadata": {
        "id": "90scYktMfvYI",
        "outputId": "cfea72cb-0a1f-4bad-aa96-b88118a3c936",
        "colab": {
          "base_uri": "https://localhost:8080/"
        }
      },
      "execution_count": null,
      "outputs": [
        {
          "output_type": "stream",
          "name": "stdout",
          "text": [
            "spam\n"
          ]
        }
      ]
    },
    {
      "cell_type": "markdown",
      "source": [
        "#4. Lists"
      ],
      "metadata": {
        "id": "VEkFn-X7T49T"
      }
    },
    {
      "cell_type": "markdown",
      "source": [
        "## Lists"
      ],
      "metadata": {
        "id": "DytDid6vfIyJ"
      }
    },
    {
      "cell_type": "code",
      "source": [
        "primes = [2, 3, 5, 7]\n",
        "\n",
        "planets = ['Mercury','Venus','Earth','Mars','Jupiter','Saturn','Uranus','Neptune']\n",
        "\n",
        "hands = [\n",
        "    ['J','Q','K'],\n",
        "    ['2','2','2'],\n",
        "    ['6','A','K']\n",
        "]\n",
        "\n",
        "my_favourite_things = [32, 'raindrops on roses', help]"
      ],
      "metadata": {
        "id": "Lxx0nQiUT6IA"
      },
      "execution_count": null,
      "outputs": []
    },
    {
      "cell_type": "markdown",
      "source": [
        "## Indexing"
      ],
      "metadata": {
        "id": "_GVDOxuif4IG"
      }
    },
    {
      "cell_type": "code",
      "source": [
        "planets[0]"
      ],
      "metadata": {
        "colab": {
          "base_uri": "https://localhost:8080/",
          "height": 35
        },
        "id": "x2CeWGLUf7lo",
        "outputId": "b3151caf-e96e-4a10-ae8b-4b247178acf2"
      },
      "execution_count": null,
      "outputs": [
        {
          "output_type": "execute_result",
          "data": {
            "application/vnd.google.colaboratory.intrinsic+json": {
              "type": "string"
            },
            "text/plain": [
              "'Mercury'"
            ]
          },
          "metadata": {},
          "execution_count": 2
        }
      ]
    },
    {
      "cell_type": "code",
      "source": [
        "planets[1]"
      ],
      "metadata": {
        "colab": {
          "base_uri": "https://localhost:8080/",
          "height": 35
        },
        "id": "wpQS9t85f-yM",
        "outputId": "aff12112-a25f-4c68-b84a-66ac93360c5c"
      },
      "execution_count": null,
      "outputs": [
        {
          "output_type": "execute_result",
          "data": {
            "application/vnd.google.colaboratory.intrinsic+json": {
              "type": "string"
            },
            "text/plain": [
              "'Venus'"
            ]
          },
          "metadata": {},
          "execution_count": 3
        }
      ]
    },
    {
      "cell_type": "code",
      "source": [
        "planets[-1]"
      ],
      "metadata": {
        "colab": {
          "base_uri": "https://localhost:8080/",
          "height": 35
        },
        "id": "ynd3ldjYgBY7",
        "outputId": "b4aa1563-b494-40a8-91ac-d1ab75f44ddd"
      },
      "execution_count": null,
      "outputs": [
        {
          "output_type": "execute_result",
          "data": {
            "application/vnd.google.colaboratory.intrinsic+json": {
              "type": "string"
            },
            "text/plain": [
              "'Neptune'"
            ]
          },
          "metadata": {},
          "execution_count": 4
        }
      ]
    },
    {
      "cell_type": "code",
      "source": [
        "planets[-2]"
      ],
      "metadata": {
        "colab": {
          "base_uri": "https://localhost:8080/",
          "height": 35
        },
        "id": "wx6GBe5OgF7X",
        "outputId": "924527ba-c7c5-418f-aa7e-7d940da9ed25"
      },
      "execution_count": null,
      "outputs": [
        {
          "output_type": "execute_result",
          "data": {
            "application/vnd.google.colaboratory.intrinsic+json": {
              "type": "string"
            },
            "text/plain": [
              "'Uranus'"
            ]
          },
          "metadata": {},
          "execution_count": 5
        }
      ]
    },
    {
      "cell_type": "markdown",
      "source": [
        "## Slicing"
      ],
      "metadata": {
        "id": "J7GNhp9DgJbP"
      }
    },
    {
      "cell_type": "code",
      "source": [
        "planets[0:3]"
      ],
      "metadata": {
        "colab": {
          "base_uri": "https://localhost:8080/"
        },
        "id": "NR0d_zwagIGs",
        "outputId": "dbc87b87-b9fb-4af2-9154-d6d22411383f"
      },
      "execution_count": null,
      "outputs": [
        {
          "output_type": "execute_result",
          "data": {
            "text/plain": [
              "['Mercury', 'Venus', 'Earth']"
            ]
          },
          "metadata": {},
          "execution_count": 6
        }
      ]
    },
    {
      "cell_type": "code",
      "source": [
        "planets[:3]"
      ],
      "metadata": {
        "colab": {
          "base_uri": "https://localhost:8080/"
        },
        "id": "KLP4tyjcgSnj",
        "outputId": "b5a8e270-bd96-4192-a4c3-fd6caa642e7a"
      },
      "execution_count": null,
      "outputs": [
        {
          "output_type": "execute_result",
          "data": {
            "text/plain": [
              "['Mercury', 'Venus', 'Earth']"
            ]
          },
          "metadata": {},
          "execution_count": 7
        }
      ]
    },
    {
      "cell_type": "code",
      "source": [
        "planets[3:]"
      ],
      "metadata": {
        "colab": {
          "base_uri": "https://localhost:8080/"
        },
        "id": "11AQo8GrgWCU",
        "outputId": "428e5e7b-94cd-4a73-ded4-07555ca1f82c"
      },
      "execution_count": null,
      "outputs": [
        {
          "output_type": "execute_result",
          "data": {
            "text/plain": [
              "['Mars', 'Jupiter', 'Saturn', 'Uranus', 'Neptune']"
            ]
          },
          "metadata": {},
          "execution_count": 8
        }
      ]
    },
    {
      "cell_type": "code",
      "source": [
        "planets[1:-1]"
      ],
      "metadata": {
        "colab": {
          "base_uri": "https://localhost:8080/"
        },
        "id": "7bcL1lQlgYgQ",
        "outputId": "24a043d0-67e1-4258-a0dd-381e6d05f3ee"
      },
      "execution_count": null,
      "outputs": [
        {
          "output_type": "execute_result",
          "data": {
            "text/plain": [
              "['Venus', 'Earth', 'Mars', 'Jupiter', 'Saturn', 'Uranus']"
            ]
          },
          "metadata": {},
          "execution_count": 9
        }
      ]
    },
    {
      "cell_type": "code",
      "source": [
        "planets[-3:]"
      ],
      "metadata": {
        "colab": {
          "base_uri": "https://localhost:8080/"
        },
        "id": "PRXA-GHOgeX-",
        "outputId": "5a46d976-5c73-4776-a74f-5443c1cbb3c2"
      },
      "execution_count": null,
      "outputs": [
        {
          "output_type": "execute_result",
          "data": {
            "text/plain": [
              "['Saturn', 'Uranus', 'Neptune']"
            ]
          },
          "metadata": {},
          "execution_count": 10
        }
      ]
    },
    {
      "cell_type": "markdown",
      "source": [
        "## Changing lists"
      ],
      "metadata": {
        "id": "e9zVmBragiGD"
      }
    },
    {
      "cell_type": "code",
      "source": [
        "planets[3] = 'Malacandra'\n",
        "planets"
      ],
      "metadata": {
        "colab": {
          "base_uri": "https://localhost:8080/"
        },
        "id": "_eZoCHmKgoGx",
        "outputId": "1abbda2d-d0a2-4769-a9db-b522b5b005ab"
      },
      "execution_count": null,
      "outputs": [
        {
          "output_type": "execute_result",
          "data": {
            "text/plain": [
              "['Mercury',\n",
              " 'Venus',\n",
              " 'Earth',\n",
              " 'Malacandra',\n",
              " 'Jupiter',\n",
              " 'Saturn',\n",
              " 'Uranus',\n",
              " 'Neptune']"
            ]
          },
          "metadata": {},
          "execution_count": 11
        }
      ]
    },
    {
      "cell_type": "code",
      "source": [
        "planets[:3] = ['Mur','Vee','Ur']\n",
        "print(planets)\n",
        "\n",
        "planets[:4] = ['Mercury','Venus','Earth','Mars']"
      ],
      "metadata": {
        "colab": {
          "base_uri": "https://localhost:8080/"
        },
        "id": "IcnhuZLOgwfo",
        "outputId": "5b53b4d4-c099-4637-bdad-cd526b81be92"
      },
      "execution_count": null,
      "outputs": [
        {
          "output_type": "stream",
          "name": "stdout",
          "text": [
            "['Mur', 'Vee', 'Ur', 'Malacandra', 'Jupiter', 'Saturn', 'Uranus', 'Neptune']\n"
          ]
        }
      ]
    },
    {
      "cell_type": "markdown",
      "source": [
        "## List functions"
      ],
      "metadata": {
        "id": "upKlZYFJhC07"
      }
    },
    {
      "cell_type": "code",
      "source": [
        "len(planets)"
      ],
      "metadata": {
        "colab": {
          "base_uri": "https://localhost:8080/"
        },
        "id": "27s3_cruhExT",
        "outputId": "a74bc25e-4c68-4da3-8ba6-8d72458ed2b3"
      },
      "execution_count": null,
      "outputs": [
        {
          "output_type": "execute_result",
          "data": {
            "text/plain": [
              "8"
            ]
          },
          "metadata": {},
          "execution_count": 13
        }
      ]
    },
    {
      "cell_type": "code",
      "source": [
        "sorted(planets)"
      ],
      "metadata": {
        "colab": {
          "base_uri": "https://localhost:8080/"
        },
        "id": "ueNMA0ElhGs_",
        "outputId": "1730277d-9898-4977-974e-eae640046efa"
      },
      "execution_count": null,
      "outputs": [
        {
          "output_type": "execute_result",
          "data": {
            "text/plain": [
              "['Earth', 'Jupiter', 'Mars', 'Mercury', 'Neptune', 'Saturn', 'Uranus', 'Venus']"
            ]
          },
          "metadata": {},
          "execution_count": 14
        }
      ]
    },
    {
      "cell_type": "code",
      "source": [
        "primes = [2, 3, 5, 7]\n",
        "sum(primes)"
      ],
      "metadata": {
        "colab": {
          "base_uri": "https://localhost:8080/"
        },
        "id": "TAagQzSjhKx0",
        "outputId": "cf7fcc4f-ef2f-4db9-fe83-8cf5756726ef"
      },
      "execution_count": null,
      "outputs": [
        {
          "output_type": "execute_result",
          "data": {
            "text/plain": [
              "17"
            ]
          },
          "metadata": {},
          "execution_count": 19
        }
      ]
    },
    {
      "cell_type": "code",
      "source": [
        "max(primes)"
      ],
      "metadata": {
        "colab": {
          "base_uri": "https://localhost:8080/"
        },
        "id": "SKBsLVJGhR5Q",
        "outputId": "8c6f9c15-b1d9-42fe-d206-d452e96a59d7"
      },
      "execution_count": null,
      "outputs": [
        {
          "output_type": "execute_result",
          "data": {
            "text/plain": [
              "7"
            ]
          },
          "metadata": {},
          "execution_count": 20
        }
      ]
    },
    {
      "cell_type": "markdown",
      "source": [
        "## Interlude: objects"
      ],
      "metadata": {
        "id": "77buVzfnhgZo"
      }
    },
    {
      "cell_type": "code",
      "source": [
        "x = 12\n",
        "\n",
        "print(x.imag)\n",
        "\n",
        "c = 12 + 3j\n",
        "print(c.imag)"
      ],
      "metadata": {
        "colab": {
          "base_uri": "https://localhost:8080/"
        },
        "id": "1bntFYxshlGl",
        "outputId": "6931ab1d-1efd-4a1d-d91e-1a9301f2eed3"
      },
      "execution_count": null,
      "outputs": [
        {
          "output_type": "stream",
          "name": "stdout",
          "text": [
            "0\n",
            "3.0\n"
          ]
        }
      ]
    },
    {
      "cell_type": "code",
      "source": [
        "x.bit_length()"
      ],
      "metadata": {
        "colab": {
          "base_uri": "https://localhost:8080/"
        },
        "id": "SjMGrQrFh004",
        "outputId": "79b2dba9-4370-41fa-8269-b1e0bb80216b"
      },
      "execution_count": null,
      "outputs": [
        {
          "output_type": "execute_result",
          "data": {
            "text/plain": [
              "4"
            ]
          },
          "metadata": {},
          "execution_count": 23
        }
      ]
    },
    {
      "cell_type": "code",
      "source": [
        "help(x.bit_length)"
      ],
      "metadata": {
        "colab": {
          "base_uri": "https://localhost:8080/"
        },
        "id": "Cxu4L_D9h8un",
        "outputId": "251899ee-fbb8-44fc-a670-f24d54c6d359"
      },
      "execution_count": null,
      "outputs": [
        {
          "output_type": "stream",
          "name": "stdout",
          "text": [
            "Help on built-in function bit_length:\n",
            "\n",
            "bit_length() method of builtins.int instance\n",
            "    Number of bits necessary to represent self in binary.\n",
            "    \n",
            "    >>> bin(37)\n",
            "    '0b100101'\n",
            "    >>> (37).bit_length()\n",
            "    6\n",
            "\n"
          ]
        }
      ]
    },
    {
      "cell_type": "markdown",
      "source": [
        "##List methods"
      ],
      "metadata": {
        "id": "zF740D2YiIL5"
      }
    },
    {
      "cell_type": "code",
      "source": [
        "planets.append('Pluto')"
      ],
      "metadata": {
        "id": "i26C9m-5iK2P"
      },
      "execution_count": null,
      "outputs": []
    },
    {
      "cell_type": "code",
      "source": [
        "help(planets.append)"
      ],
      "metadata": {
        "colab": {
          "base_uri": "https://localhost:8080/"
        },
        "id": "HbAkhbAwiOwy",
        "outputId": "a1fcdae3-e1af-4b4d-9bf6-3eccc7b81638"
      },
      "execution_count": null,
      "outputs": [
        {
          "output_type": "stream",
          "name": "stdout",
          "text": [
            "Help on built-in function append:\n",
            "\n",
            "append(object, /) method of builtins.list instance\n",
            "    Append object to the end of the list.\n",
            "\n"
          ]
        }
      ]
    },
    {
      "cell_type": "code",
      "source": [
        "planets"
      ],
      "metadata": {
        "colab": {
          "base_uri": "https://localhost:8080/"
        },
        "id": "l859pUYgiVpp",
        "outputId": "fc2bd649-84ec-4cfb-db51-c5a98a42ecfb"
      },
      "execution_count": null,
      "outputs": [
        {
          "output_type": "execute_result",
          "data": {
            "text/plain": [
              "['Mercury',\n",
              " 'Venus',\n",
              " 'Earth',\n",
              " 'Mars',\n",
              " 'Jupiter',\n",
              " 'Saturn',\n",
              " 'Uranus',\n",
              " 'Neptune',\n",
              " 'Pluto']"
            ]
          },
          "metadata": {},
          "execution_count": 27
        }
      ]
    },
    {
      "cell_type": "code",
      "source": [
        "planets.pop()"
      ],
      "metadata": {
        "colab": {
          "base_uri": "https://localhost:8080/",
          "height": 35
        },
        "id": "vGG3Gx2mT9z5",
        "outputId": "9a6025da-fd5f-4a6f-abb2-4fec75dca6d7"
      },
      "execution_count": null,
      "outputs": [
        {
          "output_type": "execute_result",
          "data": {
            "application/vnd.google.colaboratory.intrinsic+json": {
              "type": "string"
            },
            "text/plain": [
              "'Pluto'"
            ]
          },
          "metadata": {},
          "execution_count": 28
        }
      ]
    },
    {
      "cell_type": "code",
      "source": [
        "planets"
      ],
      "metadata": {
        "colab": {
          "base_uri": "https://localhost:8080/"
        },
        "id": "QGfO9sm6ibdb",
        "outputId": "556d5988-7758-4a05-fab5-a35902523893"
      },
      "execution_count": null,
      "outputs": [
        {
          "output_type": "execute_result",
          "data": {
            "text/plain": [
              "['Mercury', 'Venus', 'Earth', 'Mars', 'Jupiter', 'Saturn', 'Uranus', 'Neptune']"
            ]
          },
          "metadata": {},
          "execution_count": 29
        }
      ]
    },
    {
      "cell_type": "markdown",
      "source": [
        "###Searching lists"
      ],
      "metadata": {
        "id": "R4lJcf1Xiklq"
      }
    },
    {
      "cell_type": "code",
      "source": [
        "planets.index('Earth')"
      ],
      "metadata": {
        "colab": {
          "base_uri": "https://localhost:8080/"
        },
        "id": "eHTyPiolinR9",
        "outputId": "27660183-f2d5-44e8-da96-be99345948ce"
      },
      "execution_count": null,
      "outputs": [
        {
          "output_type": "execute_result",
          "data": {
            "text/plain": [
              "2"
            ]
          },
          "metadata": {},
          "execution_count": 32
        }
      ]
    },
    {
      "cell_type": "code",
      "source": [
        "# planets.index('Pluto')"
      ],
      "metadata": {
        "id": "9iDw2XBriumr"
      },
      "execution_count": null,
      "outputs": []
    },
    {
      "cell_type": "code",
      "source": [
        "'Earth' in planets"
      ],
      "metadata": {
        "colab": {
          "base_uri": "https://localhost:8080/"
        },
        "id": "nFC7HFCni0yx",
        "outputId": "b9f6e6c1-320d-4e33-9b7d-eecc6be7bd70"
      },
      "execution_count": null,
      "outputs": [
        {
          "output_type": "execute_result",
          "data": {
            "text/plain": [
              "True"
            ]
          },
          "metadata": {},
          "execution_count": 35
        }
      ]
    },
    {
      "cell_type": "code",
      "source": [
        "'Calbefraques' in planets"
      ],
      "metadata": {
        "colab": {
          "base_uri": "https://localhost:8080/"
        },
        "id": "bqG-xurii4L6",
        "outputId": "df7ded16-6ab4-4be5-c85b-acb6066abccc"
      },
      "execution_count": null,
      "outputs": [
        {
          "output_type": "execute_result",
          "data": {
            "text/plain": [
              "False"
            ]
          },
          "metadata": {},
          "execution_count": 36
        }
      ]
    },
    {
      "cell_type": "code",
      "source": [
        "help(planets)"
      ],
      "metadata": {
        "colab": {
          "base_uri": "https://localhost:8080/"
        },
        "id": "juPL2s2ei-lp",
        "outputId": "931b77db-49ee-4f45-83f6-9f7fd1e630c6"
      },
      "execution_count": null,
      "outputs": [
        {
          "output_type": "stream",
          "name": "stdout",
          "text": [
            "Help on list object:\n",
            "\n",
            "class list(object)\n",
            " |  list(iterable=(), /)\n",
            " |  \n",
            " |  Built-in mutable sequence.\n",
            " |  \n",
            " |  If no argument is given, the constructor creates a new empty list.\n",
            " |  The argument must be an iterable if specified.\n",
            " |  \n",
            " |  Methods defined here:\n",
            " |  \n",
            " |  __add__(self, value, /)\n",
            " |      Return self+value.\n",
            " |  \n",
            " |  __contains__(self, key, /)\n",
            " |      Return key in self.\n",
            " |  \n",
            " |  __delitem__(self, key, /)\n",
            " |      Delete self[key].\n",
            " |  \n",
            " |  __eq__(self, value, /)\n",
            " |      Return self==value.\n",
            " |  \n",
            " |  __ge__(self, value, /)\n",
            " |      Return self>=value.\n",
            " |  \n",
            " |  __getattribute__(self, name, /)\n",
            " |      Return getattr(self, name).\n",
            " |  \n",
            " |  __getitem__(...)\n",
            " |      x.__getitem__(y) <==> x[y]\n",
            " |  \n",
            " |  __gt__(self, value, /)\n",
            " |      Return self>value.\n",
            " |  \n",
            " |  __iadd__(self, value, /)\n",
            " |      Implement self+=value.\n",
            " |  \n",
            " |  __imul__(self, value, /)\n",
            " |      Implement self*=value.\n",
            " |  \n",
            " |  __init__(self, /, *args, **kwargs)\n",
            " |      Initialize self.  See help(type(self)) for accurate signature.\n",
            " |  \n",
            " |  __iter__(self, /)\n",
            " |      Implement iter(self).\n",
            " |  \n",
            " |  __le__(self, value, /)\n",
            " |      Return self<=value.\n",
            " |  \n",
            " |  __len__(self, /)\n",
            " |      Return len(self).\n",
            " |  \n",
            " |  __lt__(self, value, /)\n",
            " |      Return self<value.\n",
            " |  \n",
            " |  __mul__(self, value, /)\n",
            " |      Return self*value.\n",
            " |  \n",
            " |  __ne__(self, value, /)\n",
            " |      Return self!=value.\n",
            " |  \n",
            " |  __repr__(self, /)\n",
            " |      Return repr(self).\n",
            " |  \n",
            " |  __reversed__(self, /)\n",
            " |      Return a reverse iterator over the list.\n",
            " |  \n",
            " |  __rmul__(self, value, /)\n",
            " |      Return value*self.\n",
            " |  \n",
            " |  __setitem__(self, key, value, /)\n",
            " |      Set self[key] to value.\n",
            " |  \n",
            " |  __sizeof__(self, /)\n",
            " |      Return the size of the list in memory, in bytes.\n",
            " |  \n",
            " |  append(self, object, /)\n",
            " |      Append object to the end of the list.\n",
            " |  \n",
            " |  clear(self, /)\n",
            " |      Remove all items from list.\n",
            " |  \n",
            " |  copy(self, /)\n",
            " |      Return a shallow copy of the list.\n",
            " |  \n",
            " |  count(self, value, /)\n",
            " |      Return number of occurrences of value.\n",
            " |  \n",
            " |  extend(self, iterable, /)\n",
            " |      Extend list by appending elements from the iterable.\n",
            " |  \n",
            " |  index(self, value, start=0, stop=9223372036854775807, /)\n",
            " |      Return first index of value.\n",
            " |      \n",
            " |      Raises ValueError if the value is not present.\n",
            " |  \n",
            " |  insert(self, index, object, /)\n",
            " |      Insert object before index.\n",
            " |  \n",
            " |  pop(self, index=-1, /)\n",
            " |      Remove and return item at index (default last).\n",
            " |      \n",
            " |      Raises IndexError if list is empty or index is out of range.\n",
            " |  \n",
            " |  remove(self, value, /)\n",
            " |      Remove first occurrence of value.\n",
            " |      \n",
            " |      Raises ValueError if the value is not present.\n",
            " |  \n",
            " |  reverse(self, /)\n",
            " |      Reverse *IN PLACE*.\n",
            " |  \n",
            " |  sort(self, /, *, key=None, reverse=False)\n",
            " |      Stable sort *IN PLACE*.\n",
            " |  \n",
            " |  ----------------------------------------------------------------------\n",
            " |  Static methods defined here:\n",
            " |  \n",
            " |  __new__(*args, **kwargs) from builtins.type\n",
            " |      Create and return a new object.  See help(type) for accurate signature.\n",
            " |  \n",
            " |  ----------------------------------------------------------------------\n",
            " |  Data and other attributes defined here:\n",
            " |  \n",
            " |  __hash__ = None\n",
            "\n"
          ]
        }
      ]
    },
    {
      "cell_type": "markdown",
      "source": [
        "## Tuples"
      ],
      "metadata": {
        "id": "LhTz9gcCjDx4"
      }
    },
    {
      "cell_type": "code",
      "source": [
        "t = (1,2,3)"
      ],
      "metadata": {
        "id": "Zf0NBJt2jI46"
      },
      "execution_count": null,
      "outputs": []
    },
    {
      "cell_type": "code",
      "source": [
        "t = 1, 2, 3\n",
        "t"
      ],
      "metadata": {
        "colab": {
          "base_uri": "https://localhost:8080/"
        },
        "id": "12j1A2dpjNfW",
        "outputId": "ab3fdac4-afdf-485c-865b-9231d26aaf34"
      },
      "execution_count": null,
      "outputs": [
        {
          "output_type": "execute_result",
          "data": {
            "text/plain": [
              "(1, 2, 3)"
            ]
          },
          "metadata": {},
          "execution_count": 39
        }
      ]
    },
    {
      "cell_type": "code",
      "source": [
        "# t[0] = 100"
      ],
      "metadata": {
        "id": "HOmaCnX4jhbe"
      },
      "execution_count": null,
      "outputs": []
    },
    {
      "cell_type": "code",
      "source": [
        "x = 0.125\n",
        "x.as_integer_ratio()"
      ],
      "metadata": {
        "colab": {
          "base_uri": "https://localhost:8080/"
        },
        "id": "7D9QKfXYj78o",
        "outputId": "0449163b-6801-4a59-af27-4bac5c8679c9"
      },
      "execution_count": null,
      "outputs": [
        {
          "output_type": "execute_result",
          "data": {
            "text/plain": [
              "(1, 8)"
            ]
          },
          "metadata": {},
          "execution_count": 43
        }
      ]
    },
    {
      "cell_type": "code",
      "source": [
        "numerator, denominator = x.as_integer_ratio()\n",
        "print(numerator / denominator)"
      ],
      "metadata": {
        "colab": {
          "base_uri": "https://localhost:8080/"
        },
        "id": "xoQ784u3kvnf",
        "outputId": "33e5926b-32bb-4d64-ed40-f5827e59350d"
      },
      "execution_count": null,
      "outputs": [
        {
          "output_type": "stream",
          "name": "stdout",
          "text": [
            "0.125\n"
          ]
        }
      ]
    },
    {
      "cell_type": "code",
      "source": [
        "a = 1\n",
        "b = 0\n",
        "a, b = b, a\n",
        "print(a,b)"
      ],
      "metadata": {
        "colab": {
          "base_uri": "https://localhost:8080/"
        },
        "id": "s7KkzoCJlApn",
        "outputId": "e1ee6cb5-e357-4cf9-b2e4-6fb0d43224c5"
      },
      "execution_count": null,
      "outputs": [
        {
          "output_type": "stream",
          "name": "stdout",
          "text": [
            "0 1\n"
          ]
        }
      ]
    },
    {
      "cell_type": "markdown",
      "source": [
        "#5. Loops and List Comprehensions"
      ],
      "metadata": {
        "id": "2DmGMkrCT63h"
      }
    },
    {
      "cell_type": "markdown",
      "source": [
        "##Loops"
      ],
      "metadata": {
        "id": "lCblkShsmRT9"
      }
    },
    {
      "cell_type": "code",
      "source": [
        "planets = ['Mercury','Venus', 'Earth', 'Mars', 'Jupiter', 'Saturn', 'Uranus', 'Neptune']\n",
        "for planet in planets:\n",
        "  print(planet, end=\" \")"
      ],
      "metadata": {
        "colab": {
          "base_uri": "https://localhost:8080/"
        },
        "id": "9JtR48zVmTUh",
        "outputId": "8cd2ed43-7d94-4584-dd22-0c7496f4fd6f"
      },
      "execution_count": null,
      "outputs": [
        {
          "output_type": "stream",
          "name": "stdout",
          "text": [
            "Mercury Venus Earth Mars Jupiter Saturn Uranus Neptune "
          ]
        }
      ]
    },
    {
      "cell_type": "code",
      "source": [
        "multiplicands = (2, 2, 2, 3, 3, 5)\n",
        "product = 1\n",
        "for mult in multiplicands:\n",
        "  product = product * mult\n",
        "product"
      ],
      "metadata": {
        "colab": {
          "base_uri": "https://localhost:8080/"
        },
        "id": "zb-5wn_Zmuh2",
        "outputId": "471a3013-ab34-4947-a213-36cfe6c42363"
      },
      "execution_count": null,
      "outputs": [
        {
          "output_type": "execute_result",
          "data": {
            "text/plain": [
              "360"
            ]
          },
          "metadata": {},
          "execution_count": 51
        }
      ]
    },
    {
      "cell_type": "code",
      "source": [
        "s = 'steganograpHy is the practicE of conceaLing a file, message, image, or video within another fiLe, message, image, Or video.'\n",
        "msg = ''\n",
        "\n",
        "for char in s:\n",
        "  if char.isupper():\n",
        "    print(char, end='')"
      ],
      "metadata": {
        "colab": {
          "base_uri": "https://localhost:8080/"
        },
        "id": "QU5zKOHYm7N2",
        "outputId": "5ca144aa-8ea6-4741-ea38-269b8b9487f9"
      },
      "execution_count": null,
      "outputs": [
        {
          "output_type": "stream",
          "name": "stdout",
          "text": [
            "HELLO"
          ]
        }
      ]
    },
    {
      "cell_type": "markdown",
      "source": [
        "### range"
      ],
      "metadata": {
        "id": "wRq583X3nKty"
      }
    },
    {
      "cell_type": "code",
      "source": [
        "for i in range(5):\n",
        "  print(\"Doing important work. i=\", i)"
      ],
      "metadata": {
        "colab": {
          "base_uri": "https://localhost:8080/"
        },
        "id": "7ZZPrZscnNYO",
        "outputId": "6d853700-2f99-4287-928b-2a14c7dfd766"
      },
      "execution_count": null,
      "outputs": [
        {
          "output_type": "stream",
          "name": "stdout",
          "text": [
            "Doing important work. i= 0\n",
            "Doing important work. i= 1\n",
            "Doing important work. i= 2\n",
            "Doing important work. i= 3\n",
            "Doing important work. i= 4\n"
          ]
        }
      ]
    },
    {
      "cell_type": "markdown",
      "source": [
        "###`while` loops"
      ],
      "metadata": {
        "id": "QPUTP0wInViS"
      }
    },
    {
      "cell_type": "code",
      "source": [
        "i = 0\n",
        "while i < 10:\n",
        "  print(i, end=\" \")\n",
        "  i += 1"
      ],
      "metadata": {
        "colab": {
          "base_uri": "https://localhost:8080/"
        },
        "id": "z-QrdwIqnbDI",
        "outputId": "add536bf-16d3-4d3f-d23b-028c28820096"
      },
      "execution_count": null,
      "outputs": [
        {
          "output_type": "stream",
          "name": "stdout",
          "text": [
            "0 1 2 3 4 5 6 7 8 9 "
          ]
        }
      ]
    },
    {
      "cell_type": "markdown",
      "source": [
        "## List comprehensions"
      ],
      "metadata": {
        "id": "Vfa9n9ugnj-c"
      }
    },
    {
      "cell_type": "code",
      "source": [
        "squares = [n**2 for n in range(10)]\n",
        "squares"
      ],
      "metadata": {
        "colab": {
          "base_uri": "https://localhost:8080/"
        },
        "id": "Y7CzvwitnnTF",
        "outputId": "90cde1fd-f3e1-4035-8f8c-a2e39b82c7b9"
      },
      "execution_count": null,
      "outputs": [
        {
          "output_type": "execute_result",
          "data": {
            "text/plain": [
              "[0, 1, 4, 9, 16, 25, 36, 49, 64, 81]"
            ]
          },
          "metadata": {},
          "execution_count": 55
        }
      ]
    },
    {
      "cell_type": "code",
      "source": [
        "squares = []\n",
        "for n in range(10):\n",
        "  squares.append(n**2)\n",
        "\n",
        "squares"
      ],
      "metadata": {
        "colab": {
          "base_uri": "https://localhost:8080/"
        },
        "id": "ZUT3NNlBnvim",
        "outputId": "da78c382-dcd6-4351-e10e-bed5689d1810"
      },
      "execution_count": null,
      "outputs": [
        {
          "output_type": "execute_result",
          "data": {
            "text/plain": [
              "[0, 1, 4, 9, 16, 25, 36, 49, 64, 81]"
            ]
          },
          "metadata": {},
          "execution_count": 56
        }
      ]
    },
    {
      "cell_type": "code",
      "source": [
        "short_planets = [planet for planet in planets if len(planet) < 6]\n",
        "short_planets"
      ],
      "metadata": {
        "colab": {
          "base_uri": "https://localhost:8080/"
        },
        "id": "C-9xSwaSn4Jm",
        "outputId": "3c2cf6b5-d03a-4580-e87a-cb93007abe28"
      },
      "execution_count": null,
      "outputs": [
        {
          "output_type": "execute_result",
          "data": {
            "text/plain": [
              "['Venus', 'Earth', 'Mars']"
            ]
          },
          "metadata": {},
          "execution_count": 58
        }
      ]
    },
    {
      "cell_type": "code",
      "source": [
        "loud_short_planets = [\n",
        "                      planet.upper() + '!' \n",
        "                      for planet in planets \n",
        "                      if len(planet) < 6]\n",
        "loud_short_planets"
      ],
      "metadata": {
        "colab": {
          "base_uri": "https://localhost:8080/"
        },
        "id": "KcdptiyuoGlm",
        "outputId": "3fe3d484-e728-4e6f-a682-eb40b7bc1925"
      },
      "execution_count": null,
      "outputs": [
        {
          "output_type": "execute_result",
          "data": {
            "text/plain": [
              "['VENUS!', 'EARTH!', 'MARS!']"
            ]
          },
          "metadata": {},
          "execution_count": 60
        }
      ]
    },
    {
      "cell_type": "code",
      "source": [
        "[32 for planet in planets]"
      ],
      "metadata": {
        "colab": {
          "base_uri": "https://localhost:8080/"
        },
        "id": "QhIhSx8zoZ4t",
        "outputId": "751bbdf9-5257-4417-bae6-bfea8c9a3b59"
      },
      "execution_count": null,
      "outputs": [
        {
          "output_type": "execute_result",
          "data": {
            "text/plain": [
              "[32, 32, 32, 32, 32, 32, 32, 32]"
            ]
          },
          "metadata": {},
          "execution_count": 61
        }
      ]
    },
    {
      "cell_type": "code",
      "source": [
        "def count_negatives(nums):\n",
        "  \"\"\"\n",
        "  Return the number of negative numbers in the given list.\n",
        "\n",
        "  >>> count_negatives([5, -1, -2, 0, 3])\n",
        "  2\n",
        "  \"\"\"\n",
        "  n_negative = 0\n",
        "  for num in nums:\n",
        "    if num < 0:\n",
        "      n_negative = n_negative + 1\n",
        "  return n_negative"
      ],
      "metadata": {
        "id": "gRohSnlKogyR"
      },
      "execution_count": null,
      "outputs": []
    },
    {
      "cell_type": "markdown",
      "source": [
        "#6. Strings and Dictionaries"
      ],
      "metadata": {
        "id": "SotReUYzT_3U"
      }
    },
    {
      "cell_type": "markdown",
      "source": [
        "## Strings"
      ],
      "metadata": {
        "id": "HL78HtqSU6HY"
      }
    },
    {
      "cell_type": "markdown",
      "source": [
        "### String syntax"
      ],
      "metadata": {
        "id": "kW8Qp1HkU7qw"
      }
    },
    {
      "cell_type": "code",
      "source": [
        "x = 'Pluto is a planet'\n",
        "y = \"Pluto is a planet\"\n",
        "x == y"
      ],
      "metadata": {
        "colab": {
          "base_uri": "https://localhost:8080/"
        },
        "id": "yaP76IIUU9jy",
        "outputId": "de67b19f-763e-44d9-dcde-de8de54efd33"
      },
      "execution_count": 1,
      "outputs": [
        {
          "output_type": "execute_result",
          "data": {
            "text/plain": [
              "True"
            ]
          },
          "metadata": {},
          "execution_count": 1
        }
      ]
    },
    {
      "cell_type": "code",
      "source": [
        "print(\"Pluto's a planet!\")\n",
        "print('My dog is named \"Pluto\"')"
      ],
      "metadata": {
        "id": "35Mqr8OmUCac",
        "colab": {
          "base_uri": "https://localhost:8080/"
        },
        "outputId": "2446b893-d265-4013-8015-8f846c13dee8"
      },
      "execution_count": 2,
      "outputs": [
        {
          "output_type": "stream",
          "name": "stdout",
          "text": [
            "Pluto's a planet!\n",
            "My dog is named \"Pluto\"\n"
          ]
        }
      ]
    },
    {
      "cell_type": "code",
      "source": [
        "# 'Pluto's a planet!'"
      ],
      "metadata": {
        "id": "jGJgSsjOVQRC"
      },
      "execution_count": 4,
      "outputs": []
    },
    {
      "cell_type": "code",
      "source": [
        "'Pluto\\'s a planet!'"
      ],
      "metadata": {
        "colab": {
          "base_uri": "https://localhost:8080/",
          "height": 35
        },
        "id": "PCPV2BlWVU-2",
        "outputId": "c96aa342-7e59-47af-921f-e809a455eb5c"
      },
      "execution_count": 5,
      "outputs": [
        {
          "output_type": "execute_result",
          "data": {
            "application/vnd.google.colaboratory.intrinsic+json": {
              "type": "string"
            },
            "text/plain": [
              "\"Pluto's a planet!\""
            ]
          },
          "metadata": {},
          "execution_count": 5
        }
      ]
    },
    {
      "cell_type": "code",
      "source": [
        "hello = \"hello\\nworld\"\n",
        "print(hello)"
      ],
      "metadata": {
        "colab": {
          "base_uri": "https://localhost:8080/"
        },
        "id": "EcdGtUxQVV23",
        "outputId": "d20498ef-88eb-43db-9851-2d9197f48ee6"
      },
      "execution_count": 7,
      "outputs": [
        {
          "output_type": "stream",
          "name": "stdout",
          "text": [
            "hello\n",
            "world\n"
          ]
        }
      ]
    },
    {
      "cell_type": "code",
      "source": [
        "triplequoted_hello = \"\"\"hello\n",
        "world\"\"\"\n",
        "print(triplequoted_hello)\n",
        "triplequoted_hello == hello"
      ],
      "metadata": {
        "colab": {
          "base_uri": "https://localhost:8080/"
        },
        "id": "5Ai67VYYVsPM",
        "outputId": "1a0e199a-04aa-463c-a893-ab911d2de48c"
      },
      "execution_count": 8,
      "outputs": [
        {
          "output_type": "stream",
          "name": "stdout",
          "text": [
            "hello\n",
            "world\n"
          ]
        },
        {
          "output_type": "execute_result",
          "data": {
            "text/plain": [
              "True"
            ]
          },
          "metadata": {},
          "execution_count": 8
        }
      ]
    },
    {
      "cell_type": "code",
      "source": [
        "print(\"hello\")\n",
        "print(\"world\")\n",
        "print(\"hello\", end=\"\")\n",
        "print(\"pluto\", end='')"
      ],
      "metadata": {
        "colab": {
          "base_uri": "https://localhost:8080/"
        },
        "id": "EjYrodqwV1kN",
        "outputId": "ca3fbb7b-70dd-4473-b2d0-0947b1a7cbf5"
      },
      "execution_count": 11,
      "outputs": [
        {
          "output_type": "stream",
          "name": "stdout",
          "text": [
            "hello\n",
            "world\n",
            "hellopluto"
          ]
        }
      ]
    },
    {
      "cell_type": "markdown",
      "source": [
        "###Strings are sequences"
      ],
      "metadata": {
        "id": "2_M3kCS8WA3Z"
      }
    },
    {
      "cell_type": "code",
      "source": [
        "# Indexing\n",
        "planet = 'Pluto'\n",
        "planet[0]"
      ],
      "metadata": {
        "colab": {
          "base_uri": "https://localhost:8080/",
          "height": 35
        },
        "id": "3mrH1iGcWFVB",
        "outputId": "1f461040-9738-4ad5-d8c9-a3f4ab68c263"
      },
      "execution_count": 12,
      "outputs": [
        {
          "output_type": "execute_result",
          "data": {
            "application/vnd.google.colaboratory.intrinsic+json": {
              "type": "string"
            },
            "text/plain": [
              "'P'"
            ]
          },
          "metadata": {},
          "execution_count": 12
        }
      ]
    },
    {
      "cell_type": "code",
      "source": [
        "# Slicing\n",
        "planet[-3:]"
      ],
      "metadata": {
        "colab": {
          "base_uri": "https://localhost:8080/",
          "height": 35
        },
        "id": "vdb5RupSWLeX",
        "outputId": "43e5ba11-3b5a-49a8-dd2c-7c1bb83ba6fa"
      },
      "execution_count": 13,
      "outputs": [
        {
          "output_type": "execute_result",
          "data": {
            "application/vnd.google.colaboratory.intrinsic+json": {
              "type": "string"
            },
            "text/plain": [
              "'uto'"
            ]
          },
          "metadata": {},
          "execution_count": 13
        }
      ]
    },
    {
      "cell_type": "code",
      "source": [
        "len(planet)"
      ],
      "metadata": {
        "colab": {
          "base_uri": "https://localhost:8080/"
        },
        "id": "3rptgh7bWQkG",
        "outputId": "5f23c25d-b08f-4712-f5ca-720fc09082e1"
      },
      "execution_count": 14,
      "outputs": [
        {
          "output_type": "execute_result",
          "data": {
            "text/plain": [
              "5"
            ]
          },
          "metadata": {},
          "execution_count": 14
        }
      ]
    },
    {
      "cell_type": "code",
      "source": [
        "[char+'!' for char in planet]"
      ],
      "metadata": {
        "colab": {
          "base_uri": "https://localhost:8080/"
        },
        "id": "jJxQEuQDWTix",
        "outputId": "366e0110-5aeb-47cd-f0e4-da4cf334aff9"
      },
      "execution_count": 15,
      "outputs": [
        {
          "output_type": "execute_result",
          "data": {
            "text/plain": [
              "['P!', 'l!', 'u!', 't!', 'o!']"
            ]
          },
          "metadata": {},
          "execution_count": 15
        }
      ]
    },
    {
      "cell_type": "code",
      "source": [
        "# planet[0] = 'B'"
      ],
      "metadata": {
        "id": "S4-fTqZ2WZ-h"
      },
      "execution_count": 17,
      "outputs": []
    },
    {
      "cell_type": "markdown",
      "source": [
        "###String methods"
      ],
      "metadata": {
        "id": "5v-XlvRjWfek"
      }
    },
    {
      "cell_type": "code",
      "source": [
        "claim = \"Pluto is a planet!\"\n",
        "claim.upper()"
      ],
      "metadata": {
        "colab": {
          "base_uri": "https://localhost:8080/",
          "height": 35
        },
        "id": "L1eQ6kDLWhNp",
        "outputId": "cb4a1485-ade7-41e2-caaf-de94d991dfaa"
      },
      "execution_count": 18,
      "outputs": [
        {
          "output_type": "execute_result",
          "data": {
            "application/vnd.google.colaboratory.intrinsic+json": {
              "type": "string"
            },
            "text/plain": [
              "'PLUTO IS A PLANET!'"
            ]
          },
          "metadata": {},
          "execution_count": 18
        }
      ]
    },
    {
      "cell_type": "code",
      "source": [
        "claim.lower()"
      ],
      "metadata": {
        "colab": {
          "base_uri": "https://localhost:8080/",
          "height": 35
        },
        "id": "ByTobWxjWmTe",
        "outputId": "b1a65ad6-d4ca-495b-eb8f-9bcb9cfefd46"
      },
      "execution_count": 19,
      "outputs": [
        {
          "output_type": "execute_result",
          "data": {
            "application/vnd.google.colaboratory.intrinsic+json": {
              "type": "string"
            },
            "text/plain": [
              "'pluto is a planet!'"
            ]
          },
          "metadata": {},
          "execution_count": 19
        }
      ]
    },
    {
      "cell_type": "code",
      "source": [
        "claim.index(\"plan\")"
      ],
      "metadata": {
        "colab": {
          "base_uri": "https://localhost:8080/"
        },
        "id": "mPdp36W-WpvK",
        "outputId": "89d22fda-43c2-45c0-f8a8-81a89eea44d8"
      },
      "execution_count": 20,
      "outputs": [
        {
          "output_type": "execute_result",
          "data": {
            "text/plain": [
              "11"
            ]
          },
          "metadata": {},
          "execution_count": 20
        }
      ]
    },
    {
      "cell_type": "code",
      "source": [
        "claim.startswith(planet)"
      ],
      "metadata": {
        "colab": {
          "base_uri": "https://localhost:8080/"
        },
        "id": "t0dvWea4WsrL",
        "outputId": "1daa4fc6-3b34-400b-bcb1-2d6d928fa442"
      },
      "execution_count": 21,
      "outputs": [
        {
          "output_type": "execute_result",
          "data": {
            "text/plain": [
              "True"
            ]
          },
          "metadata": {},
          "execution_count": 21
        }
      ]
    },
    {
      "cell_type": "code",
      "source": [
        "claim.endswith('planet')"
      ],
      "metadata": {
        "colab": {
          "base_uri": "https://localhost:8080/"
        },
        "id": "e9zXKhM9Wyjy",
        "outputId": "8a45e0be-6d1f-4854-9b9c-0d553b17c0da"
      },
      "execution_count": 22,
      "outputs": [
        {
          "output_type": "execute_result",
          "data": {
            "text/plain": [
              "False"
            ]
          },
          "metadata": {},
          "execution_count": 22
        }
      ]
    },
    {
      "cell_type": "markdown",
      "source": [
        "####Going between strings and lists: `.split()` and `.join()`"
      ],
      "metadata": {
        "id": "6zh2rG_-W2rg"
      }
    },
    {
      "cell_type": "code",
      "source": [
        "words = claim.split()\n",
        "words"
      ],
      "metadata": {
        "colab": {
          "base_uri": "https://localhost:8080/"
        },
        "id": "bz7eqtF9W-Hj",
        "outputId": "bfb53dc6-5e38-4a91-f8f3-2522eaa17f0a"
      },
      "execution_count": 24,
      "outputs": [
        {
          "output_type": "execute_result",
          "data": {
            "text/plain": [
              "['Pluto', 'is', 'a', 'planet!']"
            ]
          },
          "metadata": {},
          "execution_count": 24
        }
      ]
    },
    {
      "cell_type": "code",
      "source": [
        "datestr = '1956-01-31'\n",
        "year, month, day = datestr.split('-')"
      ],
      "metadata": {
        "id": "2N-A8KSBXEJU"
      },
      "execution_count": 29,
      "outputs": []
    },
    {
      "cell_type": "code",
      "source": [
        "'/'.join([month, day, year])"
      ],
      "metadata": {
        "colab": {
          "base_uri": "https://localhost:8080/",
          "height": 35
        },
        "id": "nhyjiKutXQ9j",
        "outputId": "713be0a1-cfbf-4c06-c142-f6341515255f"
      },
      "execution_count": 30,
      "outputs": [
        {
          "output_type": "execute_result",
          "data": {
            "application/vnd.google.colaboratory.intrinsic+json": {
              "type": "string"
            },
            "text/plain": [
              "'01/31/1956'"
            ]
          },
          "metadata": {},
          "execution_count": 30
        }
      ]
    },
    {
      "cell_type": "code",
      "source": [
        "' 👏 '.join([word.upper() for word in words])"
      ],
      "metadata": {
        "colab": {
          "base_uri": "https://localhost:8080/",
          "height": 35
        },
        "id": "o4I4wRq0XeBt",
        "outputId": "ded64cb6-a24c-4f82-f44e-61ffc738bf97"
      },
      "execution_count": 31,
      "outputs": [
        {
          "output_type": "execute_result",
          "data": {
            "application/vnd.google.colaboratory.intrinsic+json": {
              "type": "string"
            },
            "text/plain": [
              "'PLUTO 👏 IS 👏 A 👏 PLANET!'"
            ]
          },
          "metadata": {},
          "execution_count": 31
        }
      ]
    },
    {
      "cell_type": "markdown",
      "source": [
        "####Building strings with `.format()`"
      ],
      "metadata": {
        "id": "Kxv-cvuaXnyj"
      }
    },
    {
      "cell_type": "code",
      "source": [
        "planet + ', we miss you.'"
      ],
      "metadata": {
        "colab": {
          "base_uri": "https://localhost:8080/",
          "height": 35
        },
        "id": "-COEovT1XrpD",
        "outputId": "67006315-5747-4e91-b2a4-42b875cc296e"
      },
      "execution_count": 32,
      "outputs": [
        {
          "output_type": "execute_result",
          "data": {
            "application/vnd.google.colaboratory.intrinsic+json": {
              "type": "string"
            },
            "text/plain": [
              "'Pluto, we miss you.'"
            ]
          },
          "metadata": {},
          "execution_count": 32
        }
      ]
    },
    {
      "cell_type": "code",
      "source": [
        "position = 9\n",
        "planet + \", you'll always be the \" + str(position) + \"th planet to me.\""
      ],
      "metadata": {
        "colab": {
          "base_uri": "https://localhost:8080/",
          "height": 35
        },
        "id": "24NGFME3X2GN",
        "outputId": "3ed4183a-ba38-4d67-a584-49c9c2f8b9a3"
      },
      "execution_count": 33,
      "outputs": [
        {
          "output_type": "execute_result",
          "data": {
            "application/vnd.google.colaboratory.intrinsic+json": {
              "type": "string"
            },
            "text/plain": [
              "\"Pluto, you'll always be the 9th planet to me.\""
            ]
          },
          "metadata": {},
          "execution_count": 33
        }
      ]
    },
    {
      "cell_type": "code",
      "source": [
        "\"{}, you'll always be the {}th planet to me.\".format(planet, position)"
      ],
      "metadata": {
        "colab": {
          "base_uri": "https://localhost:8080/",
          "height": 35
        },
        "id": "_FGftBKzYBlV",
        "outputId": "fbd425ff-e274-4c42-f80b-85d6eb0ae024"
      },
      "execution_count": 34,
      "outputs": [
        {
          "output_type": "execute_result",
          "data": {
            "application/vnd.google.colaboratory.intrinsic+json": {
              "type": "string"
            },
            "text/plain": [
              "\"Pluto, you'll always be the 9th planet to me.\""
            ]
          },
          "metadata": {},
          "execution_count": 34
        }
      ]
    },
    {
      "cell_type": "code",
      "source": [
        "pluto_mass = 1.303 * 10**22\n",
        "earth_mass = 5.9722 * 10**24\n",
        "population  = 52910390\n",
        "\n",
        "\"{} weights about {:.2} kilogram ({:.3%} of Earth's mass). It is home to {:,} Plutonians.\". format(planet, pluto_mass, pluto_mass / earth_mass, population)"
      ],
      "metadata": {
        "colab": {
          "base_uri": "https://localhost:8080/",
          "height": 53
        },
        "id": "u5cagYs7YS6a",
        "outputId": "618b5676-0a2a-4a68-83d3-ced1e0762dda"
      },
      "execution_count": 37,
      "outputs": [
        {
          "output_type": "execute_result",
          "data": {
            "application/vnd.google.colaboratory.intrinsic+json": {
              "type": "string"
            },
            "text/plain": [
              "\"Pluto weights about 1.3e+22 kilogram (0.218% of Earth's mass). It is home to 52,910,390 Plutonians.\""
            ]
          },
          "metadata": {},
          "execution_count": 37
        }
      ]
    },
    {
      "cell_type": "code",
      "source": [
        "s = \"\"\"Pluto's a {0}\n",
        "No, it's a {1}.\n",
        "{0}!\n",
        "{1}!\"\"\".format('planet','dwarf planet')\n",
        "print(s)"
      ],
      "metadata": {
        "colab": {
          "base_uri": "https://localhost:8080/"
        },
        "id": "3lNmA8-MY9hR",
        "outputId": "837b45ef-0b9e-473e-d1a0-1d3e6fdb95a3"
      },
      "execution_count": 38,
      "outputs": [
        {
          "output_type": "stream",
          "name": "stdout",
          "text": [
            "Pluto's a planet\n",
            "No, it's a dwarf planet.\n",
            "planet!\n",
            "dwarf planet!\n"
          ]
        }
      ]
    },
    {
      "cell_type": "markdown",
      "source": [
        "## Dictionaries"
      ],
      "metadata": {
        "id": "ZmeGbGOUZLXK"
      }
    },
    {
      "cell_type": "code",
      "source": [
        "numbers = {\"one\":1, \"two\":2, \"three\":3}"
      ],
      "metadata": {
        "id": "PLEBVBiXZNgM"
      },
      "execution_count": 39,
      "outputs": []
    },
    {
      "cell_type": "code",
      "source": [
        "numbers['one']"
      ],
      "metadata": {
        "colab": {
          "base_uri": "https://localhost:8080/"
        },
        "id": "yhTDnPKDZVHN",
        "outputId": "24c61ee8-d982-4531-8feb-659d2dd2cc59"
      },
      "execution_count": 40,
      "outputs": [
        {
          "output_type": "execute_result",
          "data": {
            "text/plain": [
              "1"
            ]
          },
          "metadata": {},
          "execution_count": 40
        }
      ]
    },
    {
      "cell_type": "code",
      "source": [
        "numbers['eleven'] = 11\n",
        "numbers"
      ],
      "metadata": {
        "colab": {
          "base_uri": "https://localhost:8080/"
        },
        "id": "KJp75te7ZX83",
        "outputId": "0b7459c3-b0a5-4bf4-8340-1cf708963bd9"
      },
      "execution_count": 42,
      "outputs": [
        {
          "output_type": "execute_result",
          "data": {
            "text/plain": [
              "{'eleven': 11, 'one': 1, 'three': 3, 'two': 2}"
            ]
          },
          "metadata": {},
          "execution_count": 42
        }
      ]
    },
    {
      "cell_type": "code",
      "source": [
        "numbers['one'] = 'Pluto'\n",
        "numbers"
      ],
      "metadata": {
        "colab": {
          "base_uri": "https://localhost:8080/"
        },
        "id": "8ROgDPttZfSf",
        "outputId": "59017d4e-c33f-44b8-fa5f-0a4dfa497a1e"
      },
      "execution_count": 43,
      "outputs": [
        {
          "output_type": "execute_result",
          "data": {
            "text/plain": [
              "{'eleven': 11, 'one': 'Pluto', 'three': 3, 'two': 2}"
            ]
          },
          "metadata": {},
          "execution_count": 43
        }
      ]
    },
    {
      "cell_type": "code",
      "source": [
        "planets = [\"Mercury\", 'Venus', 'Earth', 'Mars', 'Jupiter','Saturn', 'Uranus', 'Neptune']\n",
        "planet_to_initial = {planet: planet[0] for planet in planets}\n",
        "planet_to_initial"
      ],
      "metadata": {
        "colab": {
          "base_uri": "https://localhost:8080/"
        },
        "id": "SMsaXE-JZnF8",
        "outputId": "cfd488b8-84d9-438f-fdcc-a6148b76e539"
      },
      "execution_count": 45,
      "outputs": [
        {
          "output_type": "execute_result",
          "data": {
            "text/plain": [
              "{'Earth': 'E',\n",
              " 'Jupiter': 'J',\n",
              " 'Mars': 'M',\n",
              " 'Mercury': 'M',\n",
              " 'Neptune': 'N',\n",
              " 'Saturn': 'S',\n",
              " 'Uranus': 'U',\n",
              " 'Venus': 'V'}"
            ]
          },
          "metadata": {},
          "execution_count": 45
        }
      ]
    },
    {
      "cell_type": "code",
      "source": [
        "'Saturn' in planet_to_initial"
      ],
      "metadata": {
        "colab": {
          "base_uri": "https://localhost:8080/"
        },
        "id": "fr3rPwSUaFRn",
        "outputId": "f8f79438-0566-45d1-f0fb-5674a3bef7fc"
      },
      "execution_count": 46,
      "outputs": [
        {
          "output_type": "execute_result",
          "data": {
            "text/plain": [
              "True"
            ]
          },
          "metadata": {},
          "execution_count": 46
        }
      ]
    },
    {
      "cell_type": "code",
      "source": [
        "'Betelgeuse' in planet_to_initial"
      ],
      "metadata": {
        "colab": {
          "base_uri": "https://localhost:8080/"
        },
        "id": "C2z0ddB1aJ-z",
        "outputId": "2c01702d-2744-4255-c9c3-dce43b00f934"
      },
      "execution_count": 47,
      "outputs": [
        {
          "output_type": "execute_result",
          "data": {
            "text/plain": [
              "False"
            ]
          },
          "metadata": {},
          "execution_count": 47
        }
      ]
    },
    {
      "cell_type": "code",
      "source": [
        "for k in numbers:\n",
        "  print('{} = {}'.format(k, numbers[k]))"
      ],
      "metadata": {
        "colab": {
          "base_uri": "https://localhost:8080/"
        },
        "id": "kueML7etaOQV",
        "outputId": "deb23f72-b890-4308-ce9e-f8a952412c02"
      },
      "execution_count": 48,
      "outputs": [
        {
          "output_type": "stream",
          "name": "stdout",
          "text": [
            "one = Pluto\n",
            "two = 2\n",
            "three = 3\n",
            "eleven = 11\n"
          ]
        }
      ]
    },
    {
      "cell_type": "code",
      "source": [
        "' '.join(sorted(planet_to_initial.values()))"
      ],
      "metadata": {
        "colab": {
          "base_uri": "https://localhost:8080/",
          "height": 35
        },
        "id": "FBrmrTbkaaaN",
        "outputId": "1becde2a-b5f1-4bee-9599-7221e82d05c2"
      },
      "execution_count": 49,
      "outputs": [
        {
          "output_type": "execute_result",
          "data": {
            "application/vnd.google.colaboratory.intrinsic+json": {
              "type": "string"
            },
            "text/plain": [
              "'E J M M N S U V'"
            ]
          },
          "metadata": {},
          "execution_count": 49
        }
      ]
    },
    {
      "cell_type": "code",
      "source": [
        "for planet, initial in planet_to_initial.items():\n",
        "  print(\"{} begins with \\\"{}\\\"\".format(planet.rjust(10), initial))"
      ],
      "metadata": {
        "colab": {
          "base_uri": "https://localhost:8080/"
        },
        "id": "A_52h-78af4L",
        "outputId": "658a3652-aa6b-47bc-9959-346aca25d2e7"
      },
      "execution_count": 50,
      "outputs": [
        {
          "output_type": "stream",
          "name": "stdout",
          "text": [
            "   Mercury begins with \"M\"\n",
            "     Venus begins with \"V\"\n",
            "     Earth begins with \"E\"\n",
            "      Mars begins with \"M\"\n",
            "   Jupiter begins with \"J\"\n",
            "    Saturn begins with \"S\"\n",
            "    Uranus begins with \"U\"\n",
            "   Neptune begins with \"N\"\n"
          ]
        }
      ]
    },
    {
      "cell_type": "code",
      "source": [
        "help(dict)"
      ],
      "metadata": {
        "colab": {
          "base_uri": "https://localhost:8080/"
        },
        "id": "rDt_hILpaydf",
        "outputId": "89c59181-1230-4906-94ea-c4a1e733816e"
      },
      "execution_count": 51,
      "outputs": [
        {
          "output_type": "stream",
          "name": "stdout",
          "text": [
            "Help on class dict in module builtins:\n",
            "\n",
            "class dict(object)\n",
            " |  dict() -> new empty dictionary\n",
            " |  dict(mapping) -> new dictionary initialized from a mapping object's\n",
            " |      (key, value) pairs\n",
            " |  dict(iterable) -> new dictionary initialized as if via:\n",
            " |      d = {}\n",
            " |      for k, v in iterable:\n",
            " |          d[k] = v\n",
            " |  dict(**kwargs) -> new dictionary initialized with the name=value pairs\n",
            " |      in the keyword argument list.  For example:  dict(one=1, two=2)\n",
            " |  \n",
            " |  Methods defined here:\n",
            " |  \n",
            " |  __contains__(self, key, /)\n",
            " |      True if the dictionary has the specified key, else False.\n",
            " |  \n",
            " |  __delitem__(self, key, /)\n",
            " |      Delete self[key].\n",
            " |  \n",
            " |  __eq__(self, value, /)\n",
            " |      Return self==value.\n",
            " |  \n",
            " |  __ge__(self, value, /)\n",
            " |      Return self>=value.\n",
            " |  \n",
            " |  __getattribute__(self, name, /)\n",
            " |      Return getattr(self, name).\n",
            " |  \n",
            " |  __getitem__(...)\n",
            " |      x.__getitem__(y) <==> x[y]\n",
            " |  \n",
            " |  __gt__(self, value, /)\n",
            " |      Return self>value.\n",
            " |  \n",
            " |  __init__(self, /, *args, **kwargs)\n",
            " |      Initialize self.  See help(type(self)) for accurate signature.\n",
            " |  \n",
            " |  __iter__(self, /)\n",
            " |      Implement iter(self).\n",
            " |  \n",
            " |  __le__(self, value, /)\n",
            " |      Return self<=value.\n",
            " |  \n",
            " |  __len__(self, /)\n",
            " |      Return len(self).\n",
            " |  \n",
            " |  __lt__(self, value, /)\n",
            " |      Return self<value.\n",
            " |  \n",
            " |  __ne__(self, value, /)\n",
            " |      Return self!=value.\n",
            " |  \n",
            " |  __repr__(self, /)\n",
            " |      Return repr(self).\n",
            " |  \n",
            " |  __setitem__(self, key, value, /)\n",
            " |      Set self[key] to value.\n",
            " |  \n",
            " |  __sizeof__(...)\n",
            " |      D.__sizeof__() -> size of D in memory, in bytes\n",
            " |  \n",
            " |  clear(...)\n",
            " |      D.clear() -> None.  Remove all items from D.\n",
            " |  \n",
            " |  copy(...)\n",
            " |      D.copy() -> a shallow copy of D\n",
            " |  \n",
            " |  get(self, key, default=None, /)\n",
            " |      Return the value for key if key is in the dictionary, else default.\n",
            " |  \n",
            " |  items(...)\n",
            " |      D.items() -> a set-like object providing a view on D's items\n",
            " |  \n",
            " |  keys(...)\n",
            " |      D.keys() -> a set-like object providing a view on D's keys\n",
            " |  \n",
            " |  pop(...)\n",
            " |      D.pop(k[,d]) -> v, remove specified key and return the corresponding value.\n",
            " |      If key is not found, d is returned if given, otherwise KeyError is raised\n",
            " |  \n",
            " |  popitem(...)\n",
            " |      D.popitem() -> (k, v), remove and return some (key, value) pair as a\n",
            " |      2-tuple; but raise KeyError if D is empty.\n",
            " |  \n",
            " |  setdefault(self, key, default=None, /)\n",
            " |      Insert key with a value of default if key is not in the dictionary.\n",
            " |      \n",
            " |      Return the value for key if key is in the dictionary, else default.\n",
            " |  \n",
            " |  update(...)\n",
            " |      D.update([E, ]**F) -> None.  Update D from dict/iterable E and F.\n",
            " |      If E is present and has a .keys() method, then does:  for k in E: D[k] = E[k]\n",
            " |      If E is present and lacks a .keys() method, then does:  for k, v in E: D[k] = v\n",
            " |      In either case, this is followed by: for k in F:  D[k] = F[k]\n",
            " |  \n",
            " |  values(...)\n",
            " |      D.values() -> an object providing a view on D's values\n",
            " |  \n",
            " |  ----------------------------------------------------------------------\n",
            " |  Class methods defined here:\n",
            " |  \n",
            " |  fromkeys(iterable, value=None, /) from builtins.type\n",
            " |      Create a new dictionary with keys from iterable and values set to value.\n",
            " |  \n",
            " |  ----------------------------------------------------------------------\n",
            " |  Static methods defined here:\n",
            " |  \n",
            " |  __new__(*args, **kwargs) from builtins.type\n",
            " |      Create and return a new object.  See help(type) for accurate signature.\n",
            " |  \n",
            " |  ----------------------------------------------------------------------\n",
            " |  Data and other attributes defined here:\n",
            " |  \n",
            " |  __hash__ = None\n",
            "\n"
          ]
        }
      ]
    },
    {
      "cell_type": "markdown",
      "source": [
        "#7. Working with External Libraries"
      ],
      "metadata": {
        "id": "NK-_NITXUDHb"
      }
    },
    {
      "cell_type": "markdown",
      "source": [
        "## Imports"
      ],
      "metadata": {
        "id": "0ZqfB3Wrqbsd"
      }
    },
    {
      "cell_type": "code",
      "source": [
        "import math\n",
        "print(\"It's math! It has type {}\".format(type(math)))"
      ],
      "metadata": {
        "id": "0x_Al2u4UFz3",
        "colab": {
          "base_uri": "https://localhost:8080/"
        },
        "outputId": "8d09e086-9394-43b1-a519-a39a8f19b869"
      },
      "execution_count": 52,
      "outputs": [
        {
          "output_type": "stream",
          "name": "stdout",
          "text": [
            "It's math! It has type <class 'module'>\n"
          ]
        }
      ]
    },
    {
      "cell_type": "code",
      "source": [
        "print(dir(math))"
      ],
      "metadata": {
        "colab": {
          "base_uri": "https://localhost:8080/"
        },
        "id": "ptzLoHgAqqSU",
        "outputId": "72b4e7ca-e3aa-419f-99d9-dc3fcc154313"
      },
      "execution_count": 53,
      "outputs": [
        {
          "output_type": "stream",
          "name": "stdout",
          "text": [
            "['__doc__', '__loader__', '__name__', '__package__', '__spec__', 'acos', 'acosh', 'asin', 'asinh', 'atan', 'atan2', 'atanh', 'ceil', 'copysign', 'cos', 'cosh', 'degrees', 'e', 'erf', 'erfc', 'exp', 'expm1', 'fabs', 'factorial', 'floor', 'fmod', 'frexp', 'fsum', 'gamma', 'gcd', 'hypot', 'inf', 'isclose', 'isfinite', 'isinf', 'isnan', 'ldexp', 'lgamma', 'log', 'log10', 'log1p', 'log2', 'modf', 'nan', 'pi', 'pow', 'radians', 'remainder', 'sin', 'sinh', 'sqrt', 'tan', 'tanh', 'tau', 'trunc']\n"
          ]
        }
      ]
    },
    {
      "cell_type": "code",
      "source": [
        "print(\"pi to 4 significant digits = {:.4}\".format(math.pi))"
      ],
      "metadata": {
        "colab": {
          "base_uri": "https://localhost:8080/"
        },
        "id": "fak8Q2kiqyzS",
        "outputId": "7b448afb-a572-4a56-db2e-1f5c40adeaea"
      },
      "execution_count": 54,
      "outputs": [
        {
          "output_type": "stream",
          "name": "stdout",
          "text": [
            "pi to 4 significant digits = 3.142\n"
          ]
        }
      ]
    },
    {
      "cell_type": "code",
      "source": [
        "math.log(32,2)"
      ],
      "metadata": {
        "colab": {
          "base_uri": "https://localhost:8080/"
        },
        "id": "SaNkEL2wq713",
        "outputId": "6c949dcd-cc74-401f-f48d-2f97ee8d4e11"
      },
      "execution_count": 56,
      "outputs": [
        {
          "output_type": "execute_result",
          "data": {
            "text/plain": [
              "5.0"
            ]
          },
          "metadata": {},
          "execution_count": 56
        }
      ]
    },
    {
      "cell_type": "code",
      "source": [
        "help(math.log)"
      ],
      "metadata": {
        "colab": {
          "base_uri": "https://localhost:8080/"
        },
        "id": "96bxKI-trAIP",
        "outputId": "365075e4-319c-4c90-e32c-8c17d5a548f8"
      },
      "execution_count": 58,
      "outputs": [
        {
          "output_type": "stream",
          "name": "stdout",
          "text": [
            "Help on built-in function log in module math:\n",
            "\n",
            "log(...)\n",
            "    log(x, [base=math.e])\n",
            "    Return the logarithm of x to the given base.\n",
            "    \n",
            "    If the base not specified, returns the natural logarithm (base e) of x.\n",
            "\n"
          ]
        }
      ]
    },
    {
      "cell_type": "code",
      "source": [
        "# help(math)"
      ],
      "metadata": {
        "id": "X9Sug065rOVD"
      },
      "execution_count": 60,
      "outputs": []
    },
    {
      "cell_type": "markdown",
      "source": [
        "###Other import syntax"
      ],
      "metadata": {
        "id": "LbIWpXFcrUcI"
      }
    },
    {
      "cell_type": "code",
      "source": [
        "import math as mt\n",
        "mt.pi"
      ],
      "metadata": {
        "colab": {
          "base_uri": "https://localhost:8080/"
        },
        "id": "_owd_E9brSP7",
        "outputId": "6244b869-622b-487b-a073-8680df2667c8"
      },
      "execution_count": 61,
      "outputs": [
        {
          "output_type": "execute_result",
          "data": {
            "text/plain": [
              "3.141592653589793"
            ]
          },
          "metadata": {},
          "execution_count": 61
        }
      ]
    },
    {
      "cell_type": "code",
      "source": [
        "from math import *\n",
        "print(pi, log(32,2))"
      ],
      "metadata": {
        "colab": {
          "base_uri": "https://localhost:8080/"
        },
        "id": "8VIomngTri7Y",
        "outputId": "bc0d7eb0-e468-4c34-c305-ab710f9e24f4"
      },
      "execution_count": 62,
      "outputs": [
        {
          "output_type": "stream",
          "name": "stdout",
          "text": [
            "3.141592653589793 5.0\n"
          ]
        }
      ]
    },
    {
      "cell_type": "markdown",
      "source": [
        "###Submodules\n"
      ],
      "metadata": {
        "id": "Cn0ERm0Zr1lk"
      }
    },
    {
      "cell_type": "code",
      "source": [
        "import numpy\n",
        "print(\"numpy.random is a\", type(numpy.random))\n",
        "print(\"it contains names such as...\", dir(numpy.random)[-15:])"
      ],
      "metadata": {
        "colab": {
          "base_uri": "https://localhost:8080/"
        },
        "id": "xcTk0M7Gr3wP",
        "outputId": "c39a54bb-65be-4b90-a205-6e4429aa105a"
      },
      "execution_count": 64,
      "outputs": [
        {
          "output_type": "stream",
          "name": "stdout",
          "text": [
            "numpy.random is a <class 'module'>\n",
            "it contains names such as... ['seed', 'set_state', 'shuffle', 'standard_cauchy', 'standard_exponential', 'standard_gamma', 'standard_normal', 'standard_t', 'test', 'triangular', 'uniform', 'vonmises', 'wald', 'weibull', 'zipf']\n"
          ]
        }
      ]
    },
    {
      "cell_type": "code",
      "source": [
        "rolls = numpy.random.randint(low=1, high=6, size=10)\n",
        "rolls"
      ],
      "metadata": {
        "colab": {
          "base_uri": "https://localhost:8080/"
        },
        "id": "g7WyusIMsOXp",
        "outputId": "c166613f-68f4-4308-a9ea-913e357f0901"
      },
      "execution_count": 66,
      "outputs": [
        {
          "output_type": "execute_result",
          "data": {
            "text/plain": [
              "array([4, 1, 1, 5, 4, 1, 3, 2, 1, 2])"
            ]
          },
          "metadata": {},
          "execution_count": 66
        }
      ]
    },
    {
      "cell_type": "code",
      "source": [
        "type(rolls)"
      ],
      "metadata": {
        "colab": {
          "base_uri": "https://localhost:8080/"
        },
        "id": "GxSh78nmslXt",
        "outputId": "e9d79c02-8558-4759-970a-52ea2f5b4440"
      },
      "execution_count": 68,
      "outputs": [
        {
          "output_type": "execute_result",
          "data": {
            "text/plain": [
              "numpy.ndarray"
            ]
          },
          "metadata": {},
          "execution_count": 68
        }
      ]
    },
    {
      "cell_type": "code",
      "source": [
        "print(dir(rolls))"
      ],
      "metadata": {
        "colab": {
          "base_uri": "https://localhost:8080/"
        },
        "id": "VIp_zXoGsndF",
        "outputId": "91ff2f65-1b4f-42f5-8059-f07cd8ff7db1"
      },
      "execution_count": 69,
      "outputs": [
        {
          "output_type": "stream",
          "name": "stdout",
          "text": [
            "['T', '__abs__', '__add__', '__and__', '__array__', '__array_finalize__', '__array_function__', '__array_interface__', '__array_prepare__', '__array_priority__', '__array_struct__', '__array_ufunc__', '__array_wrap__', '__bool__', '__class__', '__complex__', '__contains__', '__copy__', '__deepcopy__', '__delattr__', '__delitem__', '__dir__', '__divmod__', '__doc__', '__eq__', '__float__', '__floordiv__', '__format__', '__ge__', '__getattribute__', '__getitem__', '__gt__', '__hash__', '__iadd__', '__iand__', '__ifloordiv__', '__ilshift__', '__imatmul__', '__imod__', '__imul__', '__index__', '__init__', '__init_subclass__', '__int__', '__invert__', '__ior__', '__ipow__', '__irshift__', '__isub__', '__iter__', '__itruediv__', '__ixor__', '__le__', '__len__', '__lshift__', '__lt__', '__matmul__', '__mod__', '__mul__', '__ne__', '__neg__', '__new__', '__or__', '__pos__', '__pow__', '__radd__', '__rand__', '__rdivmod__', '__reduce__', '__reduce_ex__', '__repr__', '__rfloordiv__', '__rlshift__', '__rmatmul__', '__rmod__', '__rmul__', '__ror__', '__rpow__', '__rrshift__', '__rshift__', '__rsub__', '__rtruediv__', '__rxor__', '__setattr__', '__setitem__', '__setstate__', '__sizeof__', '__str__', '__sub__', '__subclasshook__', '__truediv__', '__xor__', 'all', 'any', 'argmax', 'argmin', 'argpartition', 'argsort', 'astype', 'base', 'byteswap', 'choose', 'clip', 'compress', 'conj', 'conjugate', 'copy', 'ctypes', 'cumprod', 'cumsum', 'data', 'diagonal', 'dot', 'dtype', 'dump', 'dumps', 'fill', 'flags', 'flat', 'flatten', 'getfield', 'imag', 'item', 'itemset', 'itemsize', 'max', 'mean', 'min', 'nbytes', 'ndim', 'newbyteorder', 'nonzero', 'partition', 'prod', 'ptp', 'put', 'ravel', 'real', 'repeat', 'reshape', 'resize', 'round', 'searchsorted', 'setfield', 'setflags', 'shape', 'size', 'sort', 'squeeze', 'std', 'strides', 'sum', 'swapaxes', 'take', 'tobytes', 'tofile', 'tolist', 'tostring', 'trace', 'transpose', 'var', 'view']\n"
          ]
        }
      ]
    },
    {
      "cell_type": "code",
      "source": [
        "rolls.mean()"
      ],
      "metadata": {
        "colab": {
          "base_uri": "https://localhost:8080/"
        },
        "id": "FIMAYflqsjKq",
        "outputId": "13f7792a-71db-49e0-a0f9-d69222534c0b"
      },
      "execution_count": 67,
      "outputs": [
        {
          "output_type": "execute_result",
          "data": {
            "text/plain": [
              "2.4"
            ]
          },
          "metadata": {},
          "execution_count": 67
        }
      ]
    },
    {
      "cell_type": "code",
      "source": [
        "rolls.tolist()"
      ],
      "metadata": {
        "colab": {
          "base_uri": "https://localhost:8080/"
        },
        "id": "rIO3PQ3cstvn",
        "outputId": "db2be845-1f85-4c2a-dac1-ea2a9278ebe4"
      },
      "execution_count": 71,
      "outputs": [
        {
          "output_type": "execute_result",
          "data": {
            "text/plain": [
              "[4, 1, 1, 5, 4, 1, 3, 2, 1, 2]"
            ]
          },
          "metadata": {},
          "execution_count": 71
        }
      ]
    },
    {
      "cell_type": "code",
      "source": [
        "help(rolls.ravel)"
      ],
      "metadata": {
        "colab": {
          "base_uri": "https://localhost:8080/"
        },
        "id": "Pjnu8vBCsw5J",
        "outputId": "48bf9449-4f6c-4f1d-d6d8-55d4e3a23603"
      },
      "execution_count": 72,
      "outputs": [
        {
          "output_type": "stream",
          "name": "stdout",
          "text": [
            "Help on built-in function ravel:\n",
            "\n",
            "ravel(...) method of numpy.ndarray instance\n",
            "    a.ravel([order])\n",
            "    \n",
            "    Return a flattened array.\n",
            "    \n",
            "    Refer to `numpy.ravel` for full documentation.\n",
            "    \n",
            "    See Also\n",
            "    --------\n",
            "    numpy.ravel : equivalent function\n",
            "    \n",
            "    ndarray.flat : a flat iterator on the array.\n",
            "\n"
          ]
        }
      ]
    },
    {
      "cell_type": "code",
      "source": [
        "help(rolls)"
      ],
      "metadata": {
        "colab": {
          "base_uri": "https://localhost:8080/"
        },
        "id": "YbgkFWN1s29e",
        "outputId": "fe545dff-6fe5-4dfa-8f11-7d14a3082615"
      },
      "execution_count": 73,
      "outputs": [
        {
          "output_type": "stream",
          "name": "stdout",
          "text": [
            "Help on ndarray object:\n",
            "\n",
            "class ndarray(builtins.object)\n",
            " |  ndarray(shape, dtype=float, buffer=None, offset=0,\n",
            " |          strides=None, order=None)\n",
            " |  \n",
            " |  An array object represents a multidimensional, homogeneous array\n",
            " |  of fixed-size items.  An associated data-type object describes the\n",
            " |  format of each element in the array (its byte-order, how many bytes it\n",
            " |  occupies in memory, whether it is an integer, a floating point number,\n",
            " |  or something else, etc.)\n",
            " |  \n",
            " |  Arrays should be constructed using `array`, `zeros` or `empty` (refer\n",
            " |  to the See Also section below).  The parameters given here refer to\n",
            " |  a low-level method (`ndarray(...)`) for instantiating an array.\n",
            " |  \n",
            " |  For more information, refer to the `numpy` module and examine the\n",
            " |  methods and attributes of an array.\n",
            " |  \n",
            " |  Parameters\n",
            " |  ----------\n",
            " |  (for the __new__ method; see Notes below)\n",
            " |  \n",
            " |  shape : tuple of ints\n",
            " |      Shape of created array.\n",
            " |  dtype : data-type, optional\n",
            " |      Any object that can be interpreted as a numpy data type.\n",
            " |  buffer : object exposing buffer interface, optional\n",
            " |      Used to fill the array with data.\n",
            " |  offset : int, optional\n",
            " |      Offset of array data in buffer.\n",
            " |  strides : tuple of ints, optional\n",
            " |      Strides of data in memory.\n",
            " |  order : {'C', 'F'}, optional\n",
            " |      Row-major (C-style) or column-major (Fortran-style) order.\n",
            " |  \n",
            " |  Attributes\n",
            " |  ----------\n",
            " |  T : ndarray\n",
            " |      Transpose of the array.\n",
            " |  data : buffer\n",
            " |      The array's elements, in memory.\n",
            " |  dtype : dtype object\n",
            " |      Describes the format of the elements in the array.\n",
            " |  flags : dict\n",
            " |      Dictionary containing information related to memory use, e.g.,\n",
            " |      'C_CONTIGUOUS', 'OWNDATA', 'WRITEABLE', etc.\n",
            " |  flat : numpy.flatiter object\n",
            " |      Flattened version of the array as an iterator.  The iterator\n",
            " |      allows assignments, e.g., ``x.flat = 3`` (See `ndarray.flat` for\n",
            " |      assignment examples; TODO).\n",
            " |  imag : ndarray\n",
            " |      Imaginary part of the array.\n",
            " |  real : ndarray\n",
            " |      Real part of the array.\n",
            " |  size : int\n",
            " |      Number of elements in the array.\n",
            " |  itemsize : int\n",
            " |      The memory use of each array element in bytes.\n",
            " |  nbytes : int\n",
            " |      The total number of bytes required to store the array data,\n",
            " |      i.e., ``itemsize * size``.\n",
            " |  ndim : int\n",
            " |      The array's number of dimensions.\n",
            " |  shape : tuple of ints\n",
            " |      Shape of the array.\n",
            " |  strides : tuple of ints\n",
            " |      The step-size required to move from one element to the next in\n",
            " |      memory. For example, a contiguous ``(3, 4)`` array of type\n",
            " |      ``int16`` in C-order has strides ``(8, 2)``.  This implies that\n",
            " |      to move from element to element in memory requires jumps of 2 bytes.\n",
            " |      To move from row-to-row, one needs to jump 8 bytes at a time\n",
            " |      (``2 * 4``).\n",
            " |  ctypes : ctypes object\n",
            " |      Class containing properties of the array needed for interaction\n",
            " |      with ctypes.\n",
            " |  base : ndarray\n",
            " |      If the array is a view into another array, that array is its `base`\n",
            " |      (unless that array is also a view).  The `base` array is where the\n",
            " |      array data is actually stored.\n",
            " |  \n",
            " |  See Also\n",
            " |  --------\n",
            " |  array : Construct an array.\n",
            " |  zeros : Create an array, each element of which is zero.\n",
            " |  empty : Create an array, but leave its allocated memory unchanged (i.e.,\n",
            " |          it contains \"garbage\").\n",
            " |  dtype : Create a data-type.\n",
            " |  numpy.typing.NDArray : A :term:`generic <generic type>` version\n",
            " |                         of ndarray.\n",
            " |  \n",
            " |  Notes\n",
            " |  -----\n",
            " |  There are two modes of creating an array using ``__new__``:\n",
            " |  \n",
            " |  1. If `buffer` is None, then only `shape`, `dtype`, and `order`\n",
            " |     are used.\n",
            " |  2. If `buffer` is an object exposing the buffer interface, then\n",
            " |     all keywords are interpreted.\n",
            " |  \n",
            " |  No ``__init__`` method is needed because the array is fully initialized\n",
            " |  after the ``__new__`` method.\n",
            " |  \n",
            " |  Examples\n",
            " |  --------\n",
            " |  These examples illustrate the low-level `ndarray` constructor.  Refer\n",
            " |  to the `See Also` section above for easier ways of constructing an\n",
            " |  ndarray.\n",
            " |  \n",
            " |  First mode, `buffer` is None:\n",
            " |  \n",
            " |  >>> np.ndarray(shape=(2,2), dtype=float, order='F')\n",
            " |  array([[0.0e+000, 0.0e+000], # random\n",
            " |         [     nan, 2.5e-323]])\n",
            " |  \n",
            " |  Second mode:\n",
            " |  \n",
            " |  >>> np.ndarray((2,), buffer=np.array([1,2,3]),\n",
            " |  ...            offset=np.int_().itemsize,\n",
            " |  ...            dtype=int) # offset = 1*itemsize, i.e. skip first element\n",
            " |  array([2, 3])\n",
            " |  \n",
            " |  Methods defined here:\n",
            " |  \n",
            " |  __abs__(self, /)\n",
            " |      abs(self)\n",
            " |  \n",
            " |  __add__(self, value, /)\n",
            " |      Return self+value.\n",
            " |  \n",
            " |  __and__(self, value, /)\n",
            " |      Return self&value.\n",
            " |  \n",
            " |  __array__(...)\n",
            " |      a.__array__([dtype], /) -> reference if type unchanged, copy otherwise.\n",
            " |      \n",
            " |      Returns either a new reference to self if dtype is not given or a new array\n",
            " |      of provided data type if dtype is different from the current dtype of the\n",
            " |      array.\n",
            " |  \n",
            " |  __array_function__(...)\n",
            " |  \n",
            " |  __array_prepare__(...)\n",
            " |      a.__array_prepare__(obj) -> Object of same type as ndarray object obj.\n",
            " |  \n",
            " |  __array_ufunc__(...)\n",
            " |  \n",
            " |  __array_wrap__(...)\n",
            " |      a.__array_wrap__(obj) -> Object of same type as ndarray object a.\n",
            " |  \n",
            " |  __bool__(self, /)\n",
            " |      self != 0\n",
            " |  \n",
            " |  __complex__(...)\n",
            " |  \n",
            " |  __contains__(self, key, /)\n",
            " |      Return key in self.\n",
            " |  \n",
            " |  __copy__(...)\n",
            " |      a.__copy__()\n",
            " |      \n",
            " |      Used if :func:`copy.copy` is called on an array. Returns a copy of the array.\n",
            " |      \n",
            " |      Equivalent to ``a.copy(order='K')``.\n",
            " |  \n",
            " |  __deepcopy__(...)\n",
            " |      a.__deepcopy__(memo, /) -> Deep copy of array.\n",
            " |      \n",
            " |      Used if :func:`copy.deepcopy` is called on an array.\n",
            " |  \n",
            " |  __delitem__(self, key, /)\n",
            " |      Delete self[key].\n",
            " |  \n",
            " |  __divmod__(self, value, /)\n",
            " |      Return divmod(self, value).\n",
            " |  \n",
            " |  __eq__(self, value, /)\n",
            " |      Return self==value.\n",
            " |  \n",
            " |  __float__(self, /)\n",
            " |      float(self)\n",
            " |  \n",
            " |  __floordiv__(self, value, /)\n",
            " |      Return self//value.\n",
            " |  \n",
            " |  __format__(...)\n",
            " |      Default object formatter.\n",
            " |  \n",
            " |  __ge__(self, value, /)\n",
            " |      Return self>=value.\n",
            " |  \n",
            " |  __getitem__(self, key, /)\n",
            " |      Return self[key].\n",
            " |  \n",
            " |  __gt__(self, value, /)\n",
            " |      Return self>value.\n",
            " |  \n",
            " |  __iadd__(self, value, /)\n",
            " |      Return self+=value.\n",
            " |  \n",
            " |  __iand__(self, value, /)\n",
            " |      Return self&=value.\n",
            " |  \n",
            " |  __ifloordiv__(self, value, /)\n",
            " |      Return self//=value.\n",
            " |  \n",
            " |  __ilshift__(self, value, /)\n",
            " |      Return self<<=value.\n",
            " |  \n",
            " |  __imatmul__(self, value, /)\n",
            " |      Return self@=value.\n",
            " |  \n",
            " |  __imod__(self, value, /)\n",
            " |      Return self%=value.\n",
            " |  \n",
            " |  __imul__(self, value, /)\n",
            " |      Return self*=value.\n",
            " |  \n",
            " |  __index__(self, /)\n",
            " |      Return self converted to an integer, if self is suitable for use as an index into a list.\n",
            " |  \n",
            " |  __int__(self, /)\n",
            " |      int(self)\n",
            " |  \n",
            " |  __invert__(self, /)\n",
            " |      ~self\n",
            " |  \n",
            " |  __ior__(self, value, /)\n",
            " |      Return self|=value.\n",
            " |  \n",
            " |  __ipow__(self, value, /)\n",
            " |      Return self**=value.\n",
            " |  \n",
            " |  __irshift__(self, value, /)\n",
            " |      Return self>>=value.\n",
            " |  \n",
            " |  __isub__(self, value, /)\n",
            " |      Return self-=value.\n",
            " |  \n",
            " |  __iter__(self, /)\n",
            " |      Implement iter(self).\n",
            " |  \n",
            " |  __itruediv__(self, value, /)\n",
            " |      Return self/=value.\n",
            " |  \n",
            " |  __ixor__(self, value, /)\n",
            " |      Return self^=value.\n",
            " |  \n",
            " |  __le__(self, value, /)\n",
            " |      Return self<=value.\n",
            " |  \n",
            " |  __len__(self, /)\n",
            " |      Return len(self).\n",
            " |  \n",
            " |  __lshift__(self, value, /)\n",
            " |      Return self<<value.\n",
            " |  \n",
            " |  __lt__(self, value, /)\n",
            " |      Return self<value.\n",
            " |  \n",
            " |  __matmul__(self, value, /)\n",
            " |      Return self@value.\n",
            " |  \n",
            " |  __mod__(self, value, /)\n",
            " |      Return self%value.\n",
            " |  \n",
            " |  __mul__(self, value, /)\n",
            " |      Return self*value.\n",
            " |  \n",
            " |  __ne__(self, value, /)\n",
            " |      Return self!=value.\n",
            " |  \n",
            " |  __neg__(self, /)\n",
            " |      -self\n",
            " |  \n",
            " |  __or__(self, value, /)\n",
            " |      Return self|value.\n",
            " |  \n",
            " |  __pos__(self, /)\n",
            " |      +self\n",
            " |  \n",
            " |  __pow__(self, value, mod=None, /)\n",
            " |      Return pow(self, value, mod).\n",
            " |  \n",
            " |  __radd__(self, value, /)\n",
            " |      Return value+self.\n",
            " |  \n",
            " |  __rand__(self, value, /)\n",
            " |      Return value&self.\n",
            " |  \n",
            " |  __rdivmod__(self, value, /)\n",
            " |      Return divmod(value, self).\n",
            " |  \n",
            " |  __reduce__(...)\n",
            " |      a.__reduce__()\n",
            " |      \n",
            " |      For pickling.\n",
            " |  \n",
            " |  __reduce_ex__(...)\n",
            " |      Helper for pickle.\n",
            " |  \n",
            " |  __repr__(self, /)\n",
            " |      Return repr(self).\n",
            " |  \n",
            " |  __rfloordiv__(self, value, /)\n",
            " |      Return value//self.\n",
            " |  \n",
            " |  __rlshift__(self, value, /)\n",
            " |      Return value<<self.\n",
            " |  \n",
            " |  __rmatmul__(self, value, /)\n",
            " |      Return value@self.\n",
            " |  \n",
            " |  __rmod__(self, value, /)\n",
            " |      Return value%self.\n",
            " |  \n",
            " |  __rmul__(self, value, /)\n",
            " |      Return value*self.\n",
            " |  \n",
            " |  __ror__(self, value, /)\n",
            " |      Return value|self.\n",
            " |  \n",
            " |  __rpow__(self, value, mod=None, /)\n",
            " |      Return pow(value, self, mod).\n",
            " |  \n",
            " |  __rrshift__(self, value, /)\n",
            " |      Return value>>self.\n",
            " |  \n",
            " |  __rshift__(self, value, /)\n",
            " |      Return self>>value.\n",
            " |  \n",
            " |  __rsub__(self, value, /)\n",
            " |      Return value-self.\n",
            " |  \n",
            " |  __rtruediv__(self, value, /)\n",
            " |      Return value/self.\n",
            " |  \n",
            " |  __rxor__(self, value, /)\n",
            " |      Return value^self.\n",
            " |  \n",
            " |  __setitem__(self, key, value, /)\n",
            " |      Set self[key] to value.\n",
            " |  \n",
            " |  __setstate__(...)\n",
            " |      a.__setstate__(state, /)\n",
            " |      \n",
            " |      For unpickling.\n",
            " |      \n",
            " |      The `state` argument must be a sequence that contains the following\n",
            " |      elements:\n",
            " |      \n",
            " |      Parameters\n",
            " |      ----------\n",
            " |      version : int\n",
            " |          optional pickle version. If omitted defaults to 0.\n",
            " |      shape : tuple\n",
            " |      dtype : data-type\n",
            " |      isFortran : bool\n",
            " |      rawdata : string or list\n",
            " |          a binary string with the data (or a list if 'a' is an object array)\n",
            " |  \n",
            " |  __sizeof__(...)\n",
            " |      Size of object in memory, in bytes.\n",
            " |  \n",
            " |  __str__(self, /)\n",
            " |      Return str(self).\n",
            " |  \n",
            " |  __sub__(self, value, /)\n",
            " |      Return self-value.\n",
            " |  \n",
            " |  __truediv__(self, value, /)\n",
            " |      Return self/value.\n",
            " |  \n",
            " |  __xor__(self, value, /)\n",
            " |      Return self^value.\n",
            " |  \n",
            " |  all(...)\n",
            " |      a.all(axis=None, out=None, keepdims=False, *, where=True)\n",
            " |      \n",
            " |      Returns True if all elements evaluate to True.\n",
            " |      \n",
            " |      Refer to `numpy.all` for full documentation.\n",
            " |      \n",
            " |      See Also\n",
            " |      --------\n",
            " |      numpy.all : equivalent function\n",
            " |  \n",
            " |  any(...)\n",
            " |      a.any(axis=None, out=None, keepdims=False, *, where=True)\n",
            " |      \n",
            " |      Returns True if any of the elements of `a` evaluate to True.\n",
            " |      \n",
            " |      Refer to `numpy.any` for full documentation.\n",
            " |      \n",
            " |      See Also\n",
            " |      --------\n",
            " |      numpy.any : equivalent function\n",
            " |  \n",
            " |  argmax(...)\n",
            " |      a.argmax(axis=None, out=None)\n",
            " |      \n",
            " |      Return indices of the maximum values along the given axis.\n",
            " |      \n",
            " |      Refer to `numpy.argmax` for full documentation.\n",
            " |      \n",
            " |      See Also\n",
            " |      --------\n",
            " |      numpy.argmax : equivalent function\n",
            " |  \n",
            " |  argmin(...)\n",
            " |      a.argmin(axis=None, out=None)\n",
            " |      \n",
            " |      Return indices of the minimum values along the given axis.\n",
            " |      \n",
            " |      Refer to `numpy.argmin` for detailed documentation.\n",
            " |      \n",
            " |      See Also\n",
            " |      --------\n",
            " |      numpy.argmin : equivalent function\n",
            " |  \n",
            " |  argpartition(...)\n",
            " |      a.argpartition(kth, axis=-1, kind='introselect', order=None)\n",
            " |      \n",
            " |      Returns the indices that would partition this array.\n",
            " |      \n",
            " |      Refer to `numpy.argpartition` for full documentation.\n",
            " |      \n",
            " |      .. versionadded:: 1.8.0\n",
            " |      \n",
            " |      See Also\n",
            " |      --------\n",
            " |      numpy.argpartition : equivalent function\n",
            " |  \n",
            " |  argsort(...)\n",
            " |      a.argsort(axis=-1, kind=None, order=None)\n",
            " |      \n",
            " |      Returns the indices that would sort this array.\n",
            " |      \n",
            " |      Refer to `numpy.argsort` for full documentation.\n",
            " |      \n",
            " |      See Also\n",
            " |      --------\n",
            " |      numpy.argsort : equivalent function\n",
            " |  \n",
            " |  astype(...)\n",
            " |      a.astype(dtype, order='K', casting='unsafe', subok=True, copy=True)\n",
            " |      \n",
            " |      Copy of the array, cast to a specified type.\n",
            " |      \n",
            " |      Parameters\n",
            " |      ----------\n",
            " |      dtype : str or dtype\n",
            " |          Typecode or data-type to which the array is cast.\n",
            " |      order : {'C', 'F', 'A', 'K'}, optional\n",
            " |          Controls the memory layout order of the result.\n",
            " |          'C' means C order, 'F' means Fortran order, 'A'\n",
            " |          means 'F' order if all the arrays are Fortran contiguous,\n",
            " |          'C' order otherwise, and 'K' means as close to the\n",
            " |          order the array elements appear in memory as possible.\n",
            " |          Default is 'K'.\n",
            " |      casting : {'no', 'equiv', 'safe', 'same_kind', 'unsafe'}, optional\n",
            " |          Controls what kind of data casting may occur. Defaults to 'unsafe'\n",
            " |          for backwards compatibility.\n",
            " |      \n",
            " |            * 'no' means the data types should not be cast at all.\n",
            " |            * 'equiv' means only byte-order changes are allowed.\n",
            " |            * 'safe' means only casts which can preserve values are allowed.\n",
            " |            * 'same_kind' means only safe casts or casts within a kind,\n",
            " |              like float64 to float32, are allowed.\n",
            " |            * 'unsafe' means any data conversions may be done.\n",
            " |      subok : bool, optional\n",
            " |          If True, then sub-classes will be passed-through (default), otherwise\n",
            " |          the returned array will be forced to be a base-class array.\n",
            " |      copy : bool, optional\n",
            " |          By default, astype always returns a newly allocated array. If this\n",
            " |          is set to false, and the `dtype`, `order`, and `subok`\n",
            " |          requirements are satisfied, the input array is returned instead\n",
            " |          of a copy.\n",
            " |      \n",
            " |      Returns\n",
            " |      -------\n",
            " |      arr_t : ndarray\n",
            " |          Unless `copy` is False and the other conditions for returning the input\n",
            " |          array are satisfied (see description for `copy` input parameter), `arr_t`\n",
            " |          is a new array of the same shape as the input array, with dtype, order\n",
            " |          given by `dtype`, `order`.\n",
            " |      \n",
            " |      Notes\n",
            " |      -----\n",
            " |      .. versionchanged:: 1.17.0\n",
            " |         Casting between a simple data type and a structured one is possible only\n",
            " |         for \"unsafe\" casting.  Casting to multiple fields is allowed, but\n",
            " |         casting from multiple fields is not.\n",
            " |      \n",
            " |      .. versionchanged:: 1.9.0\n",
            " |         Casting from numeric to string types in 'safe' casting mode requires\n",
            " |         that the string dtype length is long enough to store the max\n",
            " |         integer/float value converted.\n",
            " |      \n",
            " |      Raises\n",
            " |      ------\n",
            " |      ComplexWarning\n",
            " |          When casting from complex to float or int. To avoid this,\n",
            " |          one should use ``a.real.astype(t)``.\n",
            " |      \n",
            " |      Examples\n",
            " |      --------\n",
            " |      >>> x = np.array([1, 2, 2.5])\n",
            " |      >>> x\n",
            " |      array([1. ,  2. ,  2.5])\n",
            " |      \n",
            " |      >>> x.astype(int)\n",
            " |      array([1, 2, 2])\n",
            " |  \n",
            " |  byteswap(...)\n",
            " |      a.byteswap(inplace=False)\n",
            " |      \n",
            " |      Swap the bytes of the array elements\n",
            " |      \n",
            " |      Toggle between low-endian and big-endian data representation by\n",
            " |      returning a byteswapped array, optionally swapped in-place.\n",
            " |      Arrays of byte-strings are not swapped. The real and imaginary\n",
            " |      parts of a complex number are swapped individually.\n",
            " |      \n",
            " |      Parameters\n",
            " |      ----------\n",
            " |      inplace : bool, optional\n",
            " |          If ``True``, swap bytes in-place, default is ``False``.\n",
            " |      \n",
            " |      Returns\n",
            " |      -------\n",
            " |      out : ndarray\n",
            " |          The byteswapped array. If `inplace` is ``True``, this is\n",
            " |          a view to self.\n",
            " |      \n",
            " |      Examples\n",
            " |      --------\n",
            " |      >>> A = np.array([1, 256, 8755], dtype=np.int16)\n",
            " |      >>> list(map(hex, A))\n",
            " |      ['0x1', '0x100', '0x2233']\n",
            " |      >>> A.byteswap(inplace=True)\n",
            " |      array([  256,     1, 13090], dtype=int16)\n",
            " |      >>> list(map(hex, A))\n",
            " |      ['0x100', '0x1', '0x3322']\n",
            " |      \n",
            " |      Arrays of byte-strings are not swapped\n",
            " |      \n",
            " |      >>> A = np.array([b'ceg', b'fac'])\n",
            " |      >>> A.byteswap()\n",
            " |      array([b'ceg', b'fac'], dtype='|S3')\n",
            " |      \n",
            " |      ``A.newbyteorder().byteswap()`` produces an array with the same values\n",
            " |        but different representation in memory\n",
            " |      \n",
            " |      >>> A = np.array([1, 2, 3])\n",
            " |      >>> A.view(np.uint8)\n",
            " |      array([1, 0, 0, 0, 0, 0, 0, 0, 2, 0, 0, 0, 0, 0, 0, 0, 3, 0, 0, 0, 0, 0,\n",
            " |             0, 0], dtype=uint8)\n",
            " |      >>> A.newbyteorder().byteswap(inplace=True)\n",
            " |      array([1, 2, 3])\n",
            " |      >>> A.view(np.uint8)\n",
            " |      array([0, 0, 0, 0, 0, 0, 0, 1, 0, 0, 0, 0, 0, 0, 0, 2, 0, 0, 0, 0, 0, 0,\n",
            " |             0, 3], dtype=uint8)\n",
            " |  \n",
            " |  choose(...)\n",
            " |      a.choose(choices, out=None, mode='raise')\n",
            " |      \n",
            " |      Use an index array to construct a new array from a set of choices.\n",
            " |      \n",
            " |      Refer to `numpy.choose` for full documentation.\n",
            " |      \n",
            " |      See Also\n",
            " |      --------\n",
            " |      numpy.choose : equivalent function\n",
            " |  \n",
            " |  clip(...)\n",
            " |      a.clip(min=None, max=None, out=None, **kwargs)\n",
            " |      \n",
            " |      Return an array whose values are limited to ``[min, max]``.\n",
            " |      One of max or min must be given.\n",
            " |      \n",
            " |      Refer to `numpy.clip` for full documentation.\n",
            " |      \n",
            " |      See Also\n",
            " |      --------\n",
            " |      numpy.clip : equivalent function\n",
            " |  \n",
            " |  compress(...)\n",
            " |      a.compress(condition, axis=None, out=None)\n",
            " |      \n",
            " |      Return selected slices of this array along given axis.\n",
            " |      \n",
            " |      Refer to `numpy.compress` for full documentation.\n",
            " |      \n",
            " |      See Also\n",
            " |      --------\n",
            " |      numpy.compress : equivalent function\n",
            " |  \n",
            " |  conj(...)\n",
            " |      a.conj()\n",
            " |      \n",
            " |      Complex-conjugate all elements.\n",
            " |      \n",
            " |      Refer to `numpy.conjugate` for full documentation.\n",
            " |      \n",
            " |      See Also\n",
            " |      --------\n",
            " |      numpy.conjugate : equivalent function\n",
            " |  \n",
            " |  conjugate(...)\n",
            " |      a.conjugate()\n",
            " |      \n",
            " |      Return the complex conjugate, element-wise.\n",
            " |      \n",
            " |      Refer to `numpy.conjugate` for full documentation.\n",
            " |      \n",
            " |      See Also\n",
            " |      --------\n",
            " |      numpy.conjugate : equivalent function\n",
            " |  \n",
            " |  copy(...)\n",
            " |      a.copy(order='C')\n",
            " |      \n",
            " |      Return a copy of the array.\n",
            " |      \n",
            " |      Parameters\n",
            " |      ----------\n",
            " |      order : {'C', 'F', 'A', 'K'}, optional\n",
            " |          Controls the memory layout of the copy. 'C' means C-order,\n",
            " |          'F' means F-order, 'A' means 'F' if `a` is Fortran contiguous,\n",
            " |          'C' otherwise. 'K' means match the layout of `a` as closely\n",
            " |          as possible. (Note that this function and :func:`numpy.copy` are very\n",
            " |          similar but have different default values for their order=\n",
            " |          arguments, and this function always passes sub-classes through.)\n",
            " |      \n",
            " |      See also\n",
            " |      --------\n",
            " |      numpy.copy : Similar function with different default behavior\n",
            " |      numpy.copyto\n",
            " |      \n",
            " |      Notes\n",
            " |      -----\n",
            " |      This function is the preferred method for creating an array copy.  The\n",
            " |      function :func:`numpy.copy` is similar, but it defaults to using order 'K',\n",
            " |      and will not pass sub-classes through by default.\n",
            " |      \n",
            " |      Examples\n",
            " |      --------\n",
            " |      >>> x = np.array([[1,2,3],[4,5,6]], order='F')\n",
            " |      \n",
            " |      >>> y = x.copy()\n",
            " |      \n",
            " |      >>> x.fill(0)\n",
            " |      \n",
            " |      >>> x\n",
            " |      array([[0, 0, 0],\n",
            " |             [0, 0, 0]])\n",
            " |      \n",
            " |      >>> y\n",
            " |      array([[1, 2, 3],\n",
            " |             [4, 5, 6]])\n",
            " |      \n",
            " |      >>> y.flags['C_CONTIGUOUS']\n",
            " |      True\n",
            " |  \n",
            " |  cumprod(...)\n",
            " |      a.cumprod(axis=None, dtype=None, out=None)\n",
            " |      \n",
            " |      Return the cumulative product of the elements along the given axis.\n",
            " |      \n",
            " |      Refer to `numpy.cumprod` for full documentation.\n",
            " |      \n",
            " |      See Also\n",
            " |      --------\n",
            " |      numpy.cumprod : equivalent function\n",
            " |  \n",
            " |  cumsum(...)\n",
            " |      a.cumsum(axis=None, dtype=None, out=None)\n",
            " |      \n",
            " |      Return the cumulative sum of the elements along the given axis.\n",
            " |      \n",
            " |      Refer to `numpy.cumsum` for full documentation.\n",
            " |      \n",
            " |      See Also\n",
            " |      --------\n",
            " |      numpy.cumsum : equivalent function\n",
            " |  \n",
            " |  diagonal(...)\n",
            " |      a.diagonal(offset=0, axis1=0, axis2=1)\n",
            " |      \n",
            " |      Return specified diagonals. In NumPy 1.9 the returned array is a\n",
            " |      read-only view instead of a copy as in previous NumPy versions.  In\n",
            " |      a future version the read-only restriction will be removed.\n",
            " |      \n",
            " |      Refer to :func:`numpy.diagonal` for full documentation.\n",
            " |      \n",
            " |      See Also\n",
            " |      --------\n",
            " |      numpy.diagonal : equivalent function\n",
            " |  \n",
            " |  dot(...)\n",
            " |      a.dot(b, out=None)\n",
            " |      \n",
            " |      Dot product of two arrays.\n",
            " |      \n",
            " |      Refer to `numpy.dot` for full documentation.\n",
            " |      \n",
            " |      See Also\n",
            " |      --------\n",
            " |      numpy.dot : equivalent function\n",
            " |      \n",
            " |      Examples\n",
            " |      --------\n",
            " |      >>> a = np.eye(2)\n",
            " |      >>> b = np.ones((2, 2)) * 2\n",
            " |      >>> a.dot(b)\n",
            " |      array([[2.,  2.],\n",
            " |             [2.,  2.]])\n",
            " |      \n",
            " |      This array method can be conveniently chained:\n",
            " |      \n",
            " |      >>> a.dot(b).dot(b)\n",
            " |      array([[8.,  8.],\n",
            " |             [8.,  8.]])\n",
            " |  \n",
            " |  dump(...)\n",
            " |      a.dump(file)\n",
            " |      \n",
            " |      Dump a pickle of the array to the specified file.\n",
            " |      The array can be read back with pickle.load or numpy.load.\n",
            " |      \n",
            " |      Parameters\n",
            " |      ----------\n",
            " |      file : str or Path\n",
            " |          A string naming the dump file.\n",
            " |      \n",
            " |          .. versionchanged:: 1.17.0\n",
            " |              `pathlib.Path` objects are now accepted.\n",
            " |  \n",
            " |  dumps(...)\n",
            " |      a.dumps()\n",
            " |      \n",
            " |      Returns the pickle of the array as a string.\n",
            " |      pickle.loads or numpy.loads will convert the string back to an array.\n",
            " |      \n",
            " |      Parameters\n",
            " |      ----------\n",
            " |      None\n",
            " |  \n",
            " |  fill(...)\n",
            " |      a.fill(value)\n",
            " |      \n",
            " |      Fill the array with a scalar value.\n",
            " |      \n",
            " |      Parameters\n",
            " |      ----------\n",
            " |      value : scalar\n",
            " |          All elements of `a` will be assigned this value.\n",
            " |      \n",
            " |      Examples\n",
            " |      --------\n",
            " |      >>> a = np.array([1, 2])\n",
            " |      >>> a.fill(0)\n",
            " |      >>> a\n",
            " |      array([0, 0])\n",
            " |      >>> a = np.empty(2)\n",
            " |      >>> a.fill(1)\n",
            " |      >>> a\n",
            " |      array([1.,  1.])\n",
            " |  \n",
            " |  flatten(...)\n",
            " |      a.flatten(order='C')\n",
            " |      \n",
            " |      Return a copy of the array collapsed into one dimension.\n",
            " |      \n",
            " |      Parameters\n",
            " |      ----------\n",
            " |      order : {'C', 'F', 'A', 'K'}, optional\n",
            " |          'C' means to flatten in row-major (C-style) order.\n",
            " |          'F' means to flatten in column-major (Fortran-\n",
            " |          style) order. 'A' means to flatten in column-major\n",
            " |          order if `a` is Fortran *contiguous* in memory,\n",
            " |          row-major order otherwise. 'K' means to flatten\n",
            " |          `a` in the order the elements occur in memory.\n",
            " |          The default is 'C'.\n",
            " |      \n",
            " |      Returns\n",
            " |      -------\n",
            " |      y : ndarray\n",
            " |          A copy of the input array, flattened to one dimension.\n",
            " |      \n",
            " |      See Also\n",
            " |      --------\n",
            " |      ravel : Return a flattened array.\n",
            " |      flat : A 1-D flat iterator over the array.\n",
            " |      \n",
            " |      Examples\n",
            " |      --------\n",
            " |      >>> a = np.array([[1,2], [3,4]])\n",
            " |      >>> a.flatten()\n",
            " |      array([1, 2, 3, 4])\n",
            " |      >>> a.flatten('F')\n",
            " |      array([1, 3, 2, 4])\n",
            " |  \n",
            " |  getfield(...)\n",
            " |      a.getfield(dtype, offset=0)\n",
            " |      \n",
            " |      Returns a field of the given array as a certain type.\n",
            " |      \n",
            " |      A field is a view of the array data with a given data-type. The values in\n",
            " |      the view are determined by the given type and the offset into the current\n",
            " |      array in bytes. The offset needs to be such that the view dtype fits in the\n",
            " |      array dtype; for example an array of dtype complex128 has 16-byte elements.\n",
            " |      If taking a view with a 32-bit integer (4 bytes), the offset needs to be\n",
            " |      between 0 and 12 bytes.\n",
            " |      \n",
            " |      Parameters\n",
            " |      ----------\n",
            " |      dtype : str or dtype\n",
            " |          The data type of the view. The dtype size of the view can not be larger\n",
            " |          than that of the array itself.\n",
            " |      offset : int\n",
            " |          Number of bytes to skip before beginning the element view.\n",
            " |      \n",
            " |      Examples\n",
            " |      --------\n",
            " |      >>> x = np.diag([1.+1.j]*2)\n",
            " |      >>> x[1, 1] = 2 + 4.j\n",
            " |      >>> x\n",
            " |      array([[1.+1.j,  0.+0.j],\n",
            " |             [0.+0.j,  2.+4.j]])\n",
            " |      >>> x.getfield(np.float64)\n",
            " |      array([[1.,  0.],\n",
            " |             [0.,  2.]])\n",
            " |      \n",
            " |      By choosing an offset of 8 bytes we can select the complex part of the\n",
            " |      array for our view:\n",
            " |      \n",
            " |      >>> x.getfield(np.float64, offset=8)\n",
            " |      array([[1.,  0.],\n",
            " |             [0.,  4.]])\n",
            " |  \n",
            " |  item(...)\n",
            " |      a.item(*args)\n",
            " |      \n",
            " |      Copy an element of an array to a standard Python scalar and return it.\n",
            " |      \n",
            " |      Parameters\n",
            " |      ----------\n",
            " |      \\*args : Arguments (variable number and type)\n",
            " |      \n",
            " |          * none: in this case, the method only works for arrays\n",
            " |            with one element (`a.size == 1`), which element is\n",
            " |            copied into a standard Python scalar object and returned.\n",
            " |      \n",
            " |          * int_type: this argument is interpreted as a flat index into\n",
            " |            the array, specifying which element to copy and return.\n",
            " |      \n",
            " |          * tuple of int_types: functions as does a single int_type argument,\n",
            " |            except that the argument is interpreted as an nd-index into the\n",
            " |            array.\n",
            " |      \n",
            " |      Returns\n",
            " |      -------\n",
            " |      z : Standard Python scalar object\n",
            " |          A copy of the specified element of the array as a suitable\n",
            " |          Python scalar\n",
            " |      \n",
            " |      Notes\n",
            " |      -----\n",
            " |      When the data type of `a` is longdouble or clongdouble, item() returns\n",
            " |      a scalar array object because there is no available Python scalar that\n",
            " |      would not lose information. Void arrays return a buffer object for item(),\n",
            " |      unless fields are defined, in which case a tuple is returned.\n",
            " |      \n",
            " |      `item` is very similar to a[args], except, instead of an array scalar,\n",
            " |      a standard Python scalar is returned. This can be useful for speeding up\n",
            " |      access to elements of the array and doing arithmetic on elements of the\n",
            " |      array using Python's optimized math.\n",
            " |      \n",
            " |      Examples\n",
            " |      --------\n",
            " |      >>> np.random.seed(123)\n",
            " |      >>> x = np.random.randint(9, size=(3, 3))\n",
            " |      >>> x\n",
            " |      array([[2, 2, 6],\n",
            " |             [1, 3, 6],\n",
            " |             [1, 0, 1]])\n",
            " |      >>> x.item(3)\n",
            " |      1\n",
            " |      >>> x.item(7)\n",
            " |      0\n",
            " |      >>> x.item((0, 1))\n",
            " |      2\n",
            " |      >>> x.item((2, 2))\n",
            " |      1\n",
            " |  \n",
            " |  itemset(...)\n",
            " |      a.itemset(*args)\n",
            " |      \n",
            " |      Insert scalar into an array (scalar is cast to array's dtype, if possible)\n",
            " |      \n",
            " |      There must be at least 1 argument, and define the last argument\n",
            " |      as *item*.  Then, ``a.itemset(*args)`` is equivalent to but faster\n",
            " |      than ``a[args] = item``.  The item should be a scalar value and `args`\n",
            " |      must select a single item in the array `a`.\n",
            " |      \n",
            " |      Parameters\n",
            " |      ----------\n",
            " |      \\*args : Arguments\n",
            " |          If one argument: a scalar, only used in case `a` is of size 1.\n",
            " |          If two arguments: the last argument is the value to be set\n",
            " |          and must be a scalar, the first argument specifies a single array\n",
            " |          element location. It is either an int or a tuple.\n",
            " |      \n",
            " |      Notes\n",
            " |      -----\n",
            " |      Compared to indexing syntax, `itemset` provides some speed increase\n",
            " |      for placing a scalar into a particular location in an `ndarray`,\n",
            " |      if you must do this.  However, generally this is discouraged:\n",
            " |      among other problems, it complicates the appearance of the code.\n",
            " |      Also, when using `itemset` (and `item`) inside a loop, be sure\n",
            " |      to assign the methods to a local variable to avoid the attribute\n",
            " |      look-up at each loop iteration.\n",
            " |      \n",
            " |      Examples\n",
            " |      --------\n",
            " |      >>> np.random.seed(123)\n",
            " |      >>> x = np.random.randint(9, size=(3, 3))\n",
            " |      >>> x\n",
            " |      array([[2, 2, 6],\n",
            " |             [1, 3, 6],\n",
            " |             [1, 0, 1]])\n",
            " |      >>> x.itemset(4, 0)\n",
            " |      >>> x.itemset((2, 2), 9)\n",
            " |      >>> x\n",
            " |      array([[2, 2, 6],\n",
            " |             [1, 0, 6],\n",
            " |             [1, 0, 9]])\n",
            " |  \n",
            " |  max(...)\n",
            " |      a.max(axis=None, out=None, keepdims=False, initial=<no value>, where=True)\n",
            " |      \n",
            " |      Return the maximum along a given axis.\n",
            " |      \n",
            " |      Refer to `numpy.amax` for full documentation.\n",
            " |      \n",
            " |      See Also\n",
            " |      --------\n",
            " |      numpy.amax : equivalent function\n",
            " |  \n",
            " |  mean(...)\n",
            " |      a.mean(axis=None, dtype=None, out=None, keepdims=False, *, where=True)\n",
            " |      \n",
            " |      Returns the average of the array elements along given axis.\n",
            " |      \n",
            " |      Refer to `numpy.mean` for full documentation.\n",
            " |      \n",
            " |      See Also\n",
            " |      --------\n",
            " |      numpy.mean : equivalent function\n",
            " |  \n",
            " |  min(...)\n",
            " |      a.min(axis=None, out=None, keepdims=False, initial=<no value>, where=True)\n",
            " |      \n",
            " |      Return the minimum along a given axis.\n",
            " |      \n",
            " |      Refer to `numpy.amin` for full documentation.\n",
            " |      \n",
            " |      See Also\n",
            " |      --------\n",
            " |      numpy.amin : equivalent function\n",
            " |  \n",
            " |  newbyteorder(...)\n",
            " |      arr.newbyteorder(new_order='S', /)\n",
            " |      \n",
            " |      Return the array with the same data viewed with a different byte order.\n",
            " |      \n",
            " |      Equivalent to::\n",
            " |      \n",
            " |          arr.view(arr.dtype.newbytorder(new_order))\n",
            " |      \n",
            " |      Changes are also made in all fields and sub-arrays of the array data\n",
            " |      type.\n",
            " |      \n",
            " |      \n",
            " |      \n",
            " |      Parameters\n",
            " |      ----------\n",
            " |      new_order : string, optional\n",
            " |          Byte order to force; a value from the byte order specifications\n",
            " |          below. `new_order` codes can be any of:\n",
            " |      \n",
            " |          * 'S' - swap dtype from current to opposite endian\n",
            " |          * {'<', 'little'} - little endian\n",
            " |          * {'>', 'big'} - big endian\n",
            " |          * '=' - native order, equivalent to `sys.byteorder`\n",
            " |          * {'|', 'I'} - ignore (no change to byte order)\n",
            " |      \n",
            " |          The default value ('S') results in swapping the current\n",
            " |          byte order.\n",
            " |      \n",
            " |      \n",
            " |      Returns\n",
            " |      -------\n",
            " |      new_arr : array\n",
            " |          New array object with the dtype reflecting given change to the\n",
            " |          byte order.\n",
            " |  \n",
            " |  nonzero(...)\n",
            " |      a.nonzero()\n",
            " |      \n",
            " |      Return the indices of the elements that are non-zero.\n",
            " |      \n",
            " |      Refer to `numpy.nonzero` for full documentation.\n",
            " |      \n",
            " |      See Also\n",
            " |      --------\n",
            " |      numpy.nonzero : equivalent function\n",
            " |  \n",
            " |  partition(...)\n",
            " |      a.partition(kth, axis=-1, kind='introselect', order=None)\n",
            " |      \n",
            " |      Rearranges the elements in the array in such a way that the value of the\n",
            " |      element in kth position is in the position it would be in a sorted array.\n",
            " |      All elements smaller than the kth element are moved before this element and\n",
            " |      all equal or greater are moved behind it. The ordering of the elements in\n",
            " |      the two partitions is undefined.\n",
            " |      \n",
            " |      .. versionadded:: 1.8.0\n",
            " |      \n",
            " |      Parameters\n",
            " |      ----------\n",
            " |      kth : int or sequence of ints\n",
            " |          Element index to partition by. The kth element value will be in its\n",
            " |          final sorted position and all smaller elements will be moved before it\n",
            " |          and all equal or greater elements behind it.\n",
            " |          The order of all elements in the partitions is undefined.\n",
            " |          If provided with a sequence of kth it will partition all elements\n",
            " |          indexed by kth of them into their sorted position at once.\n",
            " |      axis : int, optional\n",
            " |          Axis along which to sort. Default is -1, which means sort along the\n",
            " |          last axis.\n",
            " |      kind : {'introselect'}, optional\n",
            " |          Selection algorithm. Default is 'introselect'.\n",
            " |      order : str or list of str, optional\n",
            " |          When `a` is an array with fields defined, this argument specifies\n",
            " |          which fields to compare first, second, etc. A single field can\n",
            " |          be specified as a string, and not all fields need to be specified,\n",
            " |          but unspecified fields will still be used, in the order in which\n",
            " |          they come up in the dtype, to break ties.\n",
            " |      \n",
            " |      See Also\n",
            " |      --------\n",
            " |      numpy.partition : Return a parititioned copy of an array.\n",
            " |      argpartition : Indirect partition.\n",
            " |      sort : Full sort.\n",
            " |      \n",
            " |      Notes\n",
            " |      -----\n",
            " |      See ``np.partition`` for notes on the different algorithms.\n",
            " |      \n",
            " |      Examples\n",
            " |      --------\n",
            " |      >>> a = np.array([3, 4, 2, 1])\n",
            " |      >>> a.partition(3)\n",
            " |      >>> a\n",
            " |      array([2, 1, 3, 4])\n",
            " |      \n",
            " |      >>> a.partition((1, 3))\n",
            " |      >>> a\n",
            " |      array([1, 2, 3, 4])\n",
            " |  \n",
            " |  prod(...)\n",
            " |      a.prod(axis=None, dtype=None, out=None, keepdims=False, initial=1, where=True)\n",
            " |      \n",
            " |      Return the product of the array elements over the given axis\n",
            " |      \n",
            " |      Refer to `numpy.prod` for full documentation.\n",
            " |      \n",
            " |      See Also\n",
            " |      --------\n",
            " |      numpy.prod : equivalent function\n",
            " |  \n",
            " |  ptp(...)\n",
            " |      a.ptp(axis=None, out=None, keepdims=False)\n",
            " |      \n",
            " |      Peak to peak (maximum - minimum) value along a given axis.\n",
            " |      \n",
            " |      Refer to `numpy.ptp` for full documentation.\n",
            " |      \n",
            " |      See Also\n",
            " |      --------\n",
            " |      numpy.ptp : equivalent function\n",
            " |  \n",
            " |  put(...)\n",
            " |      a.put(indices, values, mode='raise')\n",
            " |      \n",
            " |      Set ``a.flat[n] = values[n]`` for all `n` in indices.\n",
            " |      \n",
            " |      Refer to `numpy.put` for full documentation.\n",
            " |      \n",
            " |      See Also\n",
            " |      --------\n",
            " |      numpy.put : equivalent function\n",
            " |  \n",
            " |  ravel(...)\n",
            " |      a.ravel([order])\n",
            " |      \n",
            " |      Return a flattened array.\n",
            " |      \n",
            " |      Refer to `numpy.ravel` for full documentation.\n",
            " |      \n",
            " |      See Also\n",
            " |      --------\n",
            " |      numpy.ravel : equivalent function\n",
            " |      \n",
            " |      ndarray.flat : a flat iterator on the array.\n",
            " |  \n",
            " |  repeat(...)\n",
            " |      a.repeat(repeats, axis=None)\n",
            " |      \n",
            " |      Repeat elements of an array.\n",
            " |      \n",
            " |      Refer to `numpy.repeat` for full documentation.\n",
            " |      \n",
            " |      See Also\n",
            " |      --------\n",
            " |      numpy.repeat : equivalent function\n",
            " |  \n",
            " |  reshape(...)\n",
            " |      a.reshape(shape, order='C')\n",
            " |      \n",
            " |      Returns an array containing the same data with a new shape.\n",
            " |      \n",
            " |      Refer to `numpy.reshape` for full documentation.\n",
            " |      \n",
            " |      See Also\n",
            " |      --------\n",
            " |      numpy.reshape : equivalent function\n",
            " |      \n",
            " |      Notes\n",
            " |      -----\n",
            " |      Unlike the free function `numpy.reshape`, this method on `ndarray` allows\n",
            " |      the elements of the shape parameter to be passed in as separate arguments.\n",
            " |      For example, ``a.reshape(10, 11)`` is equivalent to\n",
            " |      ``a.reshape((10, 11))``.\n",
            " |  \n",
            " |  resize(...)\n",
            " |      a.resize(new_shape, refcheck=True)\n",
            " |      \n",
            " |      Change shape and size of array in-place.\n",
            " |      \n",
            " |      Parameters\n",
            " |      ----------\n",
            " |      new_shape : tuple of ints, or `n` ints\n",
            " |          Shape of resized array.\n",
            " |      refcheck : bool, optional\n",
            " |          If False, reference count will not be checked. Default is True.\n",
            " |      \n",
            " |      Returns\n",
            " |      -------\n",
            " |      None\n",
            " |      \n",
            " |      Raises\n",
            " |      ------\n",
            " |      ValueError\n",
            " |          If `a` does not own its own data or references or views to it exist,\n",
            " |          and the data memory must be changed.\n",
            " |          PyPy only: will always raise if the data memory must be changed, since\n",
            " |          there is no reliable way to determine if references or views to it\n",
            " |          exist.\n",
            " |      \n",
            " |      SystemError\n",
            " |          If the `order` keyword argument is specified. This behaviour is a\n",
            " |          bug in NumPy.\n",
            " |      \n",
            " |      See Also\n",
            " |      --------\n",
            " |      resize : Return a new array with the specified shape.\n",
            " |      \n",
            " |      Notes\n",
            " |      -----\n",
            " |      This reallocates space for the data area if necessary.\n",
            " |      \n",
            " |      Only contiguous arrays (data elements consecutive in memory) can be\n",
            " |      resized.\n",
            " |      \n",
            " |      The purpose of the reference count check is to make sure you\n",
            " |      do not use this array as a buffer for another Python object and then\n",
            " |      reallocate the memory. However, reference counts can increase in\n",
            " |      other ways so if you are sure that you have not shared the memory\n",
            " |      for this array with another Python object, then you may safely set\n",
            " |      `refcheck` to False.\n",
            " |      \n",
            " |      Examples\n",
            " |      --------\n",
            " |      Shrinking an array: array is flattened (in the order that the data are\n",
            " |      stored in memory), resized, and reshaped:\n",
            " |      \n",
            " |      >>> a = np.array([[0, 1], [2, 3]], order='C')\n",
            " |      >>> a.resize((2, 1))\n",
            " |      >>> a\n",
            " |      array([[0],\n",
            " |             [1]])\n",
            " |      \n",
            " |      >>> a = np.array([[0, 1], [2, 3]], order='F')\n",
            " |      >>> a.resize((2, 1))\n",
            " |      >>> a\n",
            " |      array([[0],\n",
            " |             [2]])\n",
            " |      \n",
            " |      Enlarging an array: as above, but missing entries are filled with zeros:\n",
            " |      \n",
            " |      >>> b = np.array([[0, 1], [2, 3]])\n",
            " |      >>> b.resize(2, 3) # new_shape parameter doesn't have to be a tuple\n",
            " |      >>> b\n",
            " |      array([[0, 1, 2],\n",
            " |             [3, 0, 0]])\n",
            " |      \n",
            " |      Referencing an array prevents resizing...\n",
            " |      \n",
            " |      >>> c = a\n",
            " |      >>> a.resize((1, 1))\n",
            " |      Traceback (most recent call last):\n",
            " |      ...\n",
            " |      ValueError: cannot resize an array that references or is referenced ...\n",
            " |      \n",
            " |      Unless `refcheck` is False:\n",
            " |      \n",
            " |      >>> a.resize((1, 1), refcheck=False)\n",
            " |      >>> a\n",
            " |      array([[0]])\n",
            " |      >>> c\n",
            " |      array([[0]])\n",
            " |  \n",
            " |  round(...)\n",
            " |      a.round(decimals=0, out=None)\n",
            " |      \n",
            " |      Return `a` with each element rounded to the given number of decimals.\n",
            " |      \n",
            " |      Refer to `numpy.around` for full documentation.\n",
            " |      \n",
            " |      See Also\n",
            " |      --------\n",
            " |      numpy.around : equivalent function\n",
            " |  \n",
            " |  searchsorted(...)\n",
            " |      a.searchsorted(v, side='left', sorter=None)\n",
            " |      \n",
            " |      Find indices where elements of v should be inserted in a to maintain order.\n",
            " |      \n",
            " |      For full documentation, see `numpy.searchsorted`\n",
            " |      \n",
            " |      See Also\n",
            " |      --------\n",
            " |      numpy.searchsorted : equivalent function\n",
            " |  \n",
            " |  setfield(...)\n",
            " |      a.setfield(val, dtype, offset=0)\n",
            " |      \n",
            " |      Put a value into a specified place in a field defined by a data-type.\n",
            " |      \n",
            " |      Place `val` into `a`'s field defined by `dtype` and beginning `offset`\n",
            " |      bytes into the field.\n",
            " |      \n",
            " |      Parameters\n",
            " |      ----------\n",
            " |      val : object\n",
            " |          Value to be placed in field.\n",
            " |      dtype : dtype object\n",
            " |          Data-type of the field in which to place `val`.\n",
            " |      offset : int, optional\n",
            " |          The number of bytes into the field at which to place `val`.\n",
            " |      \n",
            " |      Returns\n",
            " |      -------\n",
            " |      None\n",
            " |      \n",
            " |      See Also\n",
            " |      --------\n",
            " |      getfield\n",
            " |      \n",
            " |      Examples\n",
            " |      --------\n",
            " |      >>> x = np.eye(3)\n",
            " |      >>> x.getfield(np.float64)\n",
            " |      array([[1.,  0.,  0.],\n",
            " |             [0.,  1.,  0.],\n",
            " |             [0.,  0.,  1.]])\n",
            " |      >>> x.setfield(3, np.int32)\n",
            " |      >>> x.getfield(np.int32)\n",
            " |      array([[3, 3, 3],\n",
            " |             [3, 3, 3],\n",
            " |             [3, 3, 3]], dtype=int32)\n",
            " |      >>> x\n",
            " |      array([[1.0e+000, 1.5e-323, 1.5e-323],\n",
            " |             [1.5e-323, 1.0e+000, 1.5e-323],\n",
            " |             [1.5e-323, 1.5e-323, 1.0e+000]])\n",
            " |      >>> x.setfield(np.eye(3), np.int32)\n",
            " |      >>> x\n",
            " |      array([[1.,  0.,  0.],\n",
            " |             [0.,  1.,  0.],\n",
            " |             [0.,  0.,  1.]])\n",
            " |  \n",
            " |  setflags(...)\n",
            " |      a.setflags(write=None, align=None, uic=None)\n",
            " |      \n",
            " |      Set array flags WRITEABLE, ALIGNED, (WRITEBACKIFCOPY and UPDATEIFCOPY),\n",
            " |      respectively.\n",
            " |      \n",
            " |      These Boolean-valued flags affect how numpy interprets the memory\n",
            " |      area used by `a` (see Notes below). The ALIGNED flag can only\n",
            " |      be set to True if the data is actually aligned according to the type.\n",
            " |      The WRITEBACKIFCOPY and (deprecated) UPDATEIFCOPY flags can never be set\n",
            " |      to True. The flag WRITEABLE can only be set to True if the array owns its\n",
            " |      own memory, or the ultimate owner of the memory exposes a writeable buffer\n",
            " |      interface, or is a string. (The exception for string is made so that\n",
            " |      unpickling can be done without copying memory.)\n",
            " |      \n",
            " |      Parameters\n",
            " |      ----------\n",
            " |      write : bool, optional\n",
            " |          Describes whether or not `a` can be written to.\n",
            " |      align : bool, optional\n",
            " |          Describes whether or not `a` is aligned properly for its type.\n",
            " |      uic : bool, optional\n",
            " |          Describes whether or not `a` is a copy of another \"base\" array.\n",
            " |      \n",
            " |      Notes\n",
            " |      -----\n",
            " |      Array flags provide information about how the memory area used\n",
            " |      for the array is to be interpreted. There are 7 Boolean flags\n",
            " |      in use, only four of which can be changed by the user:\n",
            " |      WRITEBACKIFCOPY, UPDATEIFCOPY, WRITEABLE, and ALIGNED.\n",
            " |      \n",
            " |      WRITEABLE (W) the data area can be written to;\n",
            " |      \n",
            " |      ALIGNED (A) the data and strides are aligned appropriately for the hardware\n",
            " |      (as determined by the compiler);\n",
            " |      \n",
            " |      UPDATEIFCOPY (U) (deprecated), replaced by WRITEBACKIFCOPY;\n",
            " |      \n",
            " |      WRITEBACKIFCOPY (X) this array is a copy of some other array (referenced\n",
            " |      by .base). When the C-API function PyArray_ResolveWritebackIfCopy is\n",
            " |      called, the base array will be updated with the contents of this array.\n",
            " |      \n",
            " |      All flags can be accessed using the single (upper case) letter as well\n",
            " |      as the full name.\n",
            " |      \n",
            " |      Examples\n",
            " |      --------\n",
            " |      >>> y = np.array([[3, 1, 7],\n",
            " |      ...               [2, 0, 0],\n",
            " |      ...               [8, 5, 9]])\n",
            " |      >>> y\n",
            " |      array([[3, 1, 7],\n",
            " |             [2, 0, 0],\n",
            " |             [8, 5, 9]])\n",
            " |      >>> y.flags\n",
            " |        C_CONTIGUOUS : True\n",
            " |        F_CONTIGUOUS : False\n",
            " |        OWNDATA : True\n",
            " |        WRITEABLE : True\n",
            " |        ALIGNED : True\n",
            " |        WRITEBACKIFCOPY : False\n",
            " |        UPDATEIFCOPY : False\n",
            " |      >>> y.setflags(write=0, align=0)\n",
            " |      >>> y.flags\n",
            " |        C_CONTIGUOUS : True\n",
            " |        F_CONTIGUOUS : False\n",
            " |        OWNDATA : True\n",
            " |        WRITEABLE : False\n",
            " |        ALIGNED : False\n",
            " |        WRITEBACKIFCOPY : False\n",
            " |        UPDATEIFCOPY : False\n",
            " |      >>> y.setflags(uic=1)\n",
            " |      Traceback (most recent call last):\n",
            " |        File \"<stdin>\", line 1, in <module>\n",
            " |      ValueError: cannot set WRITEBACKIFCOPY flag to True\n",
            " |  \n",
            " |  sort(...)\n",
            " |      a.sort(axis=-1, kind=None, order=None)\n",
            " |      \n",
            " |      Sort an array in-place. Refer to `numpy.sort` for full documentation.\n",
            " |      \n",
            " |      Parameters\n",
            " |      ----------\n",
            " |      axis : int, optional\n",
            " |          Axis along which to sort. Default is -1, which means sort along the\n",
            " |          last axis.\n",
            " |      kind : {'quicksort', 'mergesort', 'heapsort', 'stable'}, optional\n",
            " |          Sorting algorithm. The default is 'quicksort'. Note that both 'stable'\n",
            " |          and 'mergesort' use timsort under the covers and, in general, the\n",
            " |          actual implementation will vary with datatype. The 'mergesort' option\n",
            " |          is retained for backwards compatibility.\n",
            " |      \n",
            " |          .. versionchanged:: 1.15.0\n",
            " |             The 'stable' option was added.\n",
            " |      \n",
            " |      order : str or list of str, optional\n",
            " |          When `a` is an array with fields defined, this argument specifies\n",
            " |          which fields to compare first, second, etc.  A single field can\n",
            " |          be specified as a string, and not all fields need be specified,\n",
            " |          but unspecified fields will still be used, in the order in which\n",
            " |          they come up in the dtype, to break ties.\n",
            " |      \n",
            " |      See Also\n",
            " |      --------\n",
            " |      numpy.sort : Return a sorted copy of an array.\n",
            " |      numpy.argsort : Indirect sort.\n",
            " |      numpy.lexsort : Indirect stable sort on multiple keys.\n",
            " |      numpy.searchsorted : Find elements in sorted array.\n",
            " |      numpy.partition: Partial sort.\n",
            " |      \n",
            " |      Notes\n",
            " |      -----\n",
            " |      See `numpy.sort` for notes on the different sorting algorithms.\n",
            " |      \n",
            " |      Examples\n",
            " |      --------\n",
            " |      >>> a = np.array([[1,4], [3,1]])\n",
            " |      >>> a.sort(axis=1)\n",
            " |      >>> a\n",
            " |      array([[1, 4],\n",
            " |             [1, 3]])\n",
            " |      >>> a.sort(axis=0)\n",
            " |      >>> a\n",
            " |      array([[1, 3],\n",
            " |             [1, 4]])\n",
            " |      \n",
            " |      Use the `order` keyword to specify a field to use when sorting a\n",
            " |      structured array:\n",
            " |      \n",
            " |      >>> a = np.array([('a', 2), ('c', 1)], dtype=[('x', 'S1'), ('y', int)])\n",
            " |      >>> a.sort(order='y')\n",
            " |      >>> a\n",
            " |      array([(b'c', 1), (b'a', 2)],\n",
            " |            dtype=[('x', 'S1'), ('y', '<i8')])\n",
            " |  \n",
            " |  squeeze(...)\n",
            " |      a.squeeze(axis=None)\n",
            " |      \n",
            " |      Remove axes of length one from `a`.\n",
            " |      \n",
            " |      Refer to `numpy.squeeze` for full documentation.\n",
            " |      \n",
            " |      See Also\n",
            " |      --------\n",
            " |      numpy.squeeze : equivalent function\n",
            " |  \n",
            " |  std(...)\n",
            " |      a.std(axis=None, dtype=None, out=None, ddof=0, keepdims=False, *, where=True)\n",
            " |      \n",
            " |      Returns the standard deviation of the array elements along given axis.\n",
            " |      \n",
            " |      Refer to `numpy.std` for full documentation.\n",
            " |      \n",
            " |      See Also\n",
            " |      --------\n",
            " |      numpy.std : equivalent function\n",
            " |  \n",
            " |  sum(...)\n",
            " |      a.sum(axis=None, dtype=None, out=None, keepdims=False, initial=0, where=True)\n",
            " |      \n",
            " |      Return the sum of the array elements over the given axis.\n",
            " |      \n",
            " |      Refer to `numpy.sum` for full documentation.\n",
            " |      \n",
            " |      See Also\n",
            " |      --------\n",
            " |      numpy.sum : equivalent function\n",
            " |  \n",
            " |  swapaxes(...)\n",
            " |      a.swapaxes(axis1, axis2)\n",
            " |      \n",
            " |      Return a view of the array with `axis1` and `axis2` interchanged.\n",
            " |      \n",
            " |      Refer to `numpy.swapaxes` for full documentation.\n",
            " |      \n",
            " |      See Also\n",
            " |      --------\n",
            " |      numpy.swapaxes : equivalent function\n",
            " |  \n",
            " |  take(...)\n",
            " |      a.take(indices, axis=None, out=None, mode='raise')\n",
            " |      \n",
            " |      Return an array formed from the elements of `a` at the given indices.\n",
            " |      \n",
            " |      Refer to `numpy.take` for full documentation.\n",
            " |      \n",
            " |      See Also\n",
            " |      --------\n",
            " |      numpy.take : equivalent function\n",
            " |  \n",
            " |  tobytes(...)\n",
            " |      a.tobytes(order='C')\n",
            " |      \n",
            " |      Construct Python bytes containing the raw data bytes in the array.\n",
            " |      \n",
            " |      Constructs Python bytes showing a copy of the raw contents of\n",
            " |      data memory. The bytes object is produced in C-order by default.\n",
            " |      This behavior is controlled by the ``order`` parameter.\n",
            " |      \n",
            " |      .. versionadded:: 1.9.0\n",
            " |      \n",
            " |      Parameters\n",
            " |      ----------\n",
            " |      order : {'C', 'F', 'A'}, optional\n",
            " |          Controls the memory layout of the bytes object. 'C' means C-order,\n",
            " |          'F' means F-order, 'A' (short for *Any*) means 'F' if `a` is\n",
            " |          Fortran contiguous, 'C' otherwise. Default is 'C'.\n",
            " |      \n",
            " |      Returns\n",
            " |      -------\n",
            " |      s : bytes\n",
            " |          Python bytes exhibiting a copy of `a`'s raw data.\n",
            " |      \n",
            " |      Examples\n",
            " |      --------\n",
            " |      >>> x = np.array([[0, 1], [2, 3]], dtype='<u2')\n",
            " |      >>> x.tobytes()\n",
            " |      b'\\x00\\x00\\x01\\x00\\x02\\x00\\x03\\x00'\n",
            " |      >>> x.tobytes('C') == x.tobytes()\n",
            " |      True\n",
            " |      >>> x.tobytes('F')\n",
            " |      b'\\x00\\x00\\x02\\x00\\x01\\x00\\x03\\x00'\n",
            " |  \n",
            " |  tofile(...)\n",
            " |      a.tofile(fid, sep=\"\", format=\"%s\")\n",
            " |      \n",
            " |      Write array to a file as text or binary (default).\n",
            " |      \n",
            " |      Data is always written in 'C' order, independent of the order of `a`.\n",
            " |      The data produced by this method can be recovered using the function\n",
            " |      fromfile().\n",
            " |      \n",
            " |      Parameters\n",
            " |      ----------\n",
            " |      fid : file or str or Path\n",
            " |          An open file object, or a string containing a filename.\n",
            " |      \n",
            " |          .. versionchanged:: 1.17.0\n",
            " |              `pathlib.Path` objects are now accepted.\n",
            " |      \n",
            " |      sep : str\n",
            " |          Separator between array items for text output.\n",
            " |          If \"\" (empty), a binary file is written, equivalent to\n",
            " |          ``file.write(a.tobytes())``.\n",
            " |      format : str\n",
            " |          Format string for text file output.\n",
            " |          Each entry in the array is formatted to text by first converting\n",
            " |          it to the closest Python type, and then using \"format\" % item.\n",
            " |      \n",
            " |      Notes\n",
            " |      -----\n",
            " |      This is a convenience function for quick storage of array data.\n",
            " |      Information on endianness and precision is lost, so this method is not a\n",
            " |      good choice for files intended to archive data or transport data between\n",
            " |      machines with different endianness. Some of these problems can be overcome\n",
            " |      by outputting the data as text files, at the expense of speed and file\n",
            " |      size.\n",
            " |      \n",
            " |      When fid is a file object, array contents are directly written to the\n",
            " |      file, bypassing the file object's ``write`` method. As a result, tofile\n",
            " |      cannot be used with files objects supporting compression (e.g., GzipFile)\n",
            " |      or file-like objects that do not support ``fileno()`` (e.g., BytesIO).\n",
            " |  \n",
            " |  tolist(...)\n",
            " |      a.tolist()\n",
            " |      \n",
            " |      Return the array as an ``a.ndim``-levels deep nested list of Python scalars.\n",
            " |      \n",
            " |      Return a copy of the array data as a (nested) Python list.\n",
            " |      Data items are converted to the nearest compatible builtin Python type, via\n",
            " |      the `~numpy.ndarray.item` function.\n",
            " |      \n",
            " |      If ``a.ndim`` is 0, then since the depth of the nested list is 0, it will\n",
            " |      not be a list at all, but a simple Python scalar.\n",
            " |      \n",
            " |      Parameters\n",
            " |      ----------\n",
            " |      none\n",
            " |      \n",
            " |      Returns\n",
            " |      -------\n",
            " |      y : object, or list of object, or list of list of object, or ...\n",
            " |          The possibly nested list of array elements.\n",
            " |      \n",
            " |      Notes\n",
            " |      -----\n",
            " |      The array may be recreated via ``a = np.array(a.tolist())``, although this\n",
            " |      may sometimes lose precision.\n",
            " |      \n",
            " |      Examples\n",
            " |      --------\n",
            " |      For a 1D array, ``a.tolist()`` is almost the same as ``list(a)``,\n",
            " |      except that ``tolist`` changes numpy scalars to Python scalars:\n",
            " |      \n",
            " |      >>> a = np.uint32([1, 2])\n",
            " |      >>> a_list = list(a)\n",
            " |      >>> a_list\n",
            " |      [1, 2]\n",
            " |      >>> type(a_list[0])\n",
            " |      <class 'numpy.uint32'>\n",
            " |      >>> a_tolist = a.tolist()\n",
            " |      >>> a_tolist\n",
            " |      [1, 2]\n",
            " |      >>> type(a_tolist[0])\n",
            " |      <class 'int'>\n",
            " |      \n",
            " |      Additionally, for a 2D array, ``tolist`` applies recursively:\n",
            " |      \n",
            " |      >>> a = np.array([[1, 2], [3, 4]])\n",
            " |      >>> list(a)\n",
            " |      [array([1, 2]), array([3, 4])]\n",
            " |      >>> a.tolist()\n",
            " |      [[1, 2], [3, 4]]\n",
            " |      \n",
            " |      The base case for this recursion is a 0D array:\n",
            " |      \n",
            " |      >>> a = np.array(1)\n",
            " |      >>> list(a)\n",
            " |      Traceback (most recent call last):\n",
            " |        ...\n",
            " |      TypeError: iteration over a 0-d array\n",
            " |      >>> a.tolist()\n",
            " |      1\n",
            " |  \n",
            " |  tostring(...)\n",
            " |      a.tostring(order='C')\n",
            " |      \n",
            " |      A compatibility alias for `tobytes`, with exactly the same behavior.\n",
            " |      \n",
            " |      Despite its name, it returns `bytes` not `str`\\ s.\n",
            " |      \n",
            " |      .. deprecated:: 1.19.0\n",
            " |  \n",
            " |  trace(...)\n",
            " |      a.trace(offset=0, axis1=0, axis2=1, dtype=None, out=None)\n",
            " |      \n",
            " |      Return the sum along diagonals of the array.\n",
            " |      \n",
            " |      Refer to `numpy.trace` for full documentation.\n",
            " |      \n",
            " |      See Also\n",
            " |      --------\n",
            " |      numpy.trace : equivalent function\n",
            " |  \n",
            " |  transpose(...)\n",
            " |      a.transpose(*axes)\n",
            " |      \n",
            " |      Returns a view of the array with axes transposed.\n",
            " |      \n",
            " |      For a 1-D array this has no effect, as a transposed vector is simply the\n",
            " |      same vector. To convert a 1-D array into a 2D column vector, an additional\n",
            " |      dimension must be added. `np.atleast2d(a).T` achieves this, as does\n",
            " |      `a[:, np.newaxis]`.\n",
            " |      For a 2-D array, this is a standard matrix transpose.\n",
            " |      For an n-D array, if axes are given, their order indicates how the\n",
            " |      axes are permuted (see Examples). If axes are not provided and\n",
            " |      ``a.shape = (i[0], i[1], ... i[n-2], i[n-1])``, then\n",
            " |      ``a.transpose().shape = (i[n-1], i[n-2], ... i[1], i[0])``.\n",
            " |      \n",
            " |      Parameters\n",
            " |      ----------\n",
            " |      axes : None, tuple of ints, or `n` ints\n",
            " |      \n",
            " |       * None or no argument: reverses the order of the axes.\n",
            " |      \n",
            " |       * tuple of ints: `i` in the `j`-th place in the tuple means `a`'s\n",
            " |         `i`-th axis becomes `a.transpose()`'s `j`-th axis.\n",
            " |      \n",
            " |       * `n` ints: same as an n-tuple of the same ints (this form is\n",
            " |         intended simply as a \"convenience\" alternative to the tuple form)\n",
            " |      \n",
            " |      Returns\n",
            " |      -------\n",
            " |      out : ndarray\n",
            " |          View of `a`, with axes suitably permuted.\n",
            " |      \n",
            " |      See Also\n",
            " |      --------\n",
            " |      transpose : Equivalent function\n",
            " |      ndarray.T : Array property returning the array transposed.\n",
            " |      ndarray.reshape : Give a new shape to an array without changing its data.\n",
            " |      \n",
            " |      Examples\n",
            " |      --------\n",
            " |      >>> a = np.array([[1, 2], [3, 4]])\n",
            " |      >>> a\n",
            " |      array([[1, 2],\n",
            " |             [3, 4]])\n",
            " |      >>> a.transpose()\n",
            " |      array([[1, 3],\n",
            " |             [2, 4]])\n",
            " |      >>> a.transpose((1, 0))\n",
            " |      array([[1, 3],\n",
            " |             [2, 4]])\n",
            " |      >>> a.transpose(1, 0)\n",
            " |      array([[1, 3],\n",
            " |             [2, 4]])\n",
            " |  \n",
            " |  var(...)\n",
            " |      a.var(axis=None, dtype=None, out=None, ddof=0, keepdims=False, *, where=True)\n",
            " |      \n",
            " |      Returns the variance of the array elements, along given axis.\n",
            " |      \n",
            " |      Refer to `numpy.var` for full documentation.\n",
            " |      \n",
            " |      See Also\n",
            " |      --------\n",
            " |      numpy.var : equivalent function\n",
            " |  \n",
            " |  view(...)\n",
            " |      a.view([dtype][, type])\n",
            " |      \n",
            " |      New view of array with the same data.\n",
            " |      \n",
            " |      .. note::\n",
            " |          Passing None for ``dtype`` is different from omitting the parameter,\n",
            " |          since the former invokes ``dtype(None)`` which is an alias for\n",
            " |          ``dtype('float_')``.\n",
            " |      \n",
            " |      Parameters\n",
            " |      ----------\n",
            " |      dtype : data-type or ndarray sub-class, optional\n",
            " |          Data-type descriptor of the returned view, e.g., float32 or int16.\n",
            " |          Omitting it results in the view having the same data-type as `a`.\n",
            " |          This argument can also be specified as an ndarray sub-class, which\n",
            " |          then specifies the type of the returned object (this is equivalent to\n",
            " |          setting the ``type`` parameter).\n",
            " |      type : Python type, optional\n",
            " |          Type of the returned view, e.g., ndarray or matrix.  Again, omission\n",
            " |          of the parameter results in type preservation.\n",
            " |      \n",
            " |      Notes\n",
            " |      -----\n",
            " |      ``a.view()`` is used two different ways:\n",
            " |      \n",
            " |      ``a.view(some_dtype)`` or ``a.view(dtype=some_dtype)`` constructs a view\n",
            " |      of the array's memory with a different data-type.  This can cause a\n",
            " |      reinterpretation of the bytes of memory.\n",
            " |      \n",
            " |      ``a.view(ndarray_subclass)`` or ``a.view(type=ndarray_subclass)`` just\n",
            " |      returns an instance of `ndarray_subclass` that looks at the same array\n",
            " |      (same shape, dtype, etc.)  This does not cause a reinterpretation of the\n",
            " |      memory.\n",
            " |      \n",
            " |      For ``a.view(some_dtype)``, if ``some_dtype`` has a different number of\n",
            " |      bytes per entry than the previous dtype (for example, converting a\n",
            " |      regular array to a structured array), then the behavior of the view\n",
            " |      cannot be predicted just from the superficial appearance of ``a`` (shown\n",
            " |      by ``print(a)``). It also depends on exactly how ``a`` is stored in\n",
            " |      memory. Therefore if ``a`` is C-ordered versus fortran-ordered, versus\n",
            " |      defined as a slice or transpose, etc., the view may give different\n",
            " |      results.\n",
            " |      \n",
            " |      \n",
            " |      Examples\n",
            " |      --------\n",
            " |      >>> x = np.array([(1, 2)], dtype=[('a', np.int8), ('b', np.int8)])\n",
            " |      \n",
            " |      Viewing array data using a different type and dtype:\n",
            " |      \n",
            " |      >>> y = x.view(dtype=np.int16, type=np.matrix)\n",
            " |      >>> y\n",
            " |      matrix([[513]], dtype=int16)\n",
            " |      >>> print(type(y))\n",
            " |      <class 'numpy.matrix'>\n",
            " |      \n",
            " |      Creating a view on a structured array so it can be used in calculations\n",
            " |      \n",
            " |      >>> x = np.array([(1, 2),(3,4)], dtype=[('a', np.int8), ('b', np.int8)])\n",
            " |      >>> xv = x.view(dtype=np.int8).reshape(-1,2)\n",
            " |      >>> xv\n",
            " |      array([[1, 2],\n",
            " |             [3, 4]], dtype=int8)\n",
            " |      >>> xv.mean(0)\n",
            " |      array([2.,  3.])\n",
            " |      \n",
            " |      Making changes to the view changes the underlying array\n",
            " |      \n",
            " |      >>> xv[0,1] = 20\n",
            " |      >>> x\n",
            " |      array([(1, 20), (3,  4)], dtype=[('a', 'i1'), ('b', 'i1')])\n",
            " |      \n",
            " |      Using a view to convert an array to a recarray:\n",
            " |      \n",
            " |      >>> z = x.view(np.recarray)\n",
            " |      >>> z.a\n",
            " |      array([1, 3], dtype=int8)\n",
            " |      \n",
            " |      Views share data:\n",
            " |      \n",
            " |      >>> x[0] = (9, 10)\n",
            " |      >>> z[0]\n",
            " |      (9, 10)\n",
            " |      \n",
            " |      Views that change the dtype size (bytes per entry) should normally be\n",
            " |      avoided on arrays defined by slices, transposes, fortran-ordering, etc.:\n",
            " |      \n",
            " |      >>> x = np.array([[1,2,3],[4,5,6]], dtype=np.int16)\n",
            " |      >>> y = x[:, 0:2]\n",
            " |      >>> y\n",
            " |      array([[1, 2],\n",
            " |             [4, 5]], dtype=int16)\n",
            " |      >>> y.view(dtype=[('width', np.int16), ('length', np.int16)])\n",
            " |      Traceback (most recent call last):\n",
            " |          ...\n",
            " |      ValueError: To change to a dtype of a different size, the array must be C-contiguous\n",
            " |      >>> z = y.copy()\n",
            " |      >>> z.view(dtype=[('width', np.int16), ('length', np.int16)])\n",
            " |      array([[(1, 2)],\n",
            " |             [(4, 5)]], dtype=[('width', '<i2'), ('length', '<i2')])\n",
            " |  \n",
            " |  ----------------------------------------------------------------------\n",
            " |  Static methods defined here:\n",
            " |  \n",
            " |  __new__(*args, **kwargs) from builtins.type\n",
            " |      Create and return a new object.  See help(type) for accurate signature.\n",
            " |  \n",
            " |  ----------------------------------------------------------------------\n",
            " |  Data descriptors defined here:\n",
            " |  \n",
            " |  T\n",
            " |      The transposed array.\n",
            " |      \n",
            " |      Same as ``self.transpose()``.\n",
            " |      \n",
            " |      Examples\n",
            " |      --------\n",
            " |      >>> x = np.array([[1.,2.],[3.,4.]])\n",
            " |      >>> x\n",
            " |      array([[ 1.,  2.],\n",
            " |             [ 3.,  4.]])\n",
            " |      >>> x.T\n",
            " |      array([[ 1.,  3.],\n",
            " |             [ 2.,  4.]])\n",
            " |      >>> x = np.array([1.,2.,3.,4.])\n",
            " |      >>> x\n",
            " |      array([ 1.,  2.,  3.,  4.])\n",
            " |      >>> x.T\n",
            " |      array([ 1.,  2.,  3.,  4.])\n",
            " |      \n",
            " |      See Also\n",
            " |      --------\n",
            " |      transpose\n",
            " |  \n",
            " |  __array_finalize__\n",
            " |      None.\n",
            " |  \n",
            " |  __array_interface__\n",
            " |      Array protocol: Python side.\n",
            " |  \n",
            " |  __array_priority__\n",
            " |      Array priority.\n",
            " |  \n",
            " |  __array_struct__\n",
            " |      Array protocol: C-struct side.\n",
            " |  \n",
            " |  base\n",
            " |      Base object if memory is from some other object.\n",
            " |      \n",
            " |      Examples\n",
            " |      --------\n",
            " |      The base of an array that owns its memory is None:\n",
            " |      \n",
            " |      >>> x = np.array([1,2,3,4])\n",
            " |      >>> x.base is None\n",
            " |      True\n",
            " |      \n",
            " |      Slicing creates a view, whose memory is shared with x:\n",
            " |      \n",
            " |      >>> y = x[2:]\n",
            " |      >>> y.base is x\n",
            " |      True\n",
            " |  \n",
            " |  ctypes\n",
            " |      An object to simplify the interaction of the array with the ctypes\n",
            " |      module.\n",
            " |      \n",
            " |      This attribute creates an object that makes it easier to use arrays\n",
            " |      when calling shared libraries with the ctypes module. The returned\n",
            " |      object has, among others, data, shape, and strides attributes (see\n",
            " |      Notes below) which themselves return ctypes objects that can be used\n",
            " |      as arguments to a shared library.\n",
            " |      \n",
            " |      Parameters\n",
            " |      ----------\n",
            " |      None\n",
            " |      \n",
            " |      Returns\n",
            " |      -------\n",
            " |      c : Python object\n",
            " |          Possessing attributes data, shape, strides, etc.\n",
            " |      \n",
            " |      See Also\n",
            " |      --------\n",
            " |      numpy.ctypeslib\n",
            " |      \n",
            " |      Notes\n",
            " |      -----\n",
            " |      Below are the public attributes of this object which were documented\n",
            " |      in \"Guide to NumPy\" (we have omitted undocumented public attributes,\n",
            " |      as well as documented private attributes):\n",
            " |      \n",
            " |      .. autoattribute:: numpy.core._internal._ctypes.data\n",
            " |          :noindex:\n",
            " |      \n",
            " |      .. autoattribute:: numpy.core._internal._ctypes.shape\n",
            " |          :noindex:\n",
            " |      \n",
            " |      .. autoattribute:: numpy.core._internal._ctypes.strides\n",
            " |          :noindex:\n",
            " |      \n",
            " |      .. automethod:: numpy.core._internal._ctypes.data_as\n",
            " |          :noindex:\n",
            " |      \n",
            " |      .. automethod:: numpy.core._internal._ctypes.shape_as\n",
            " |          :noindex:\n",
            " |      \n",
            " |      .. automethod:: numpy.core._internal._ctypes.strides_as\n",
            " |          :noindex:\n",
            " |      \n",
            " |      If the ctypes module is not available, then the ctypes attribute\n",
            " |      of array objects still returns something useful, but ctypes objects\n",
            " |      are not returned and errors may be raised instead. In particular,\n",
            " |      the object will still have the ``as_parameter`` attribute which will\n",
            " |      return an integer equal to the data attribute.\n",
            " |      \n",
            " |      Examples\n",
            " |      --------\n",
            " |      >>> import ctypes\n",
            " |      >>> x = np.array([[0, 1], [2, 3]], dtype=np.int32)\n",
            " |      >>> x\n",
            " |      array([[0, 1],\n",
            " |             [2, 3]], dtype=int32)\n",
            " |      >>> x.ctypes.data\n",
            " |      31962608 # may vary\n",
            " |      >>> x.ctypes.data_as(ctypes.POINTER(ctypes.c_uint32))\n",
            " |      <__main__.LP_c_uint object at 0x7ff2fc1fc200> # may vary\n",
            " |      >>> x.ctypes.data_as(ctypes.POINTER(ctypes.c_uint32)).contents\n",
            " |      c_uint(0)\n",
            " |      >>> x.ctypes.data_as(ctypes.POINTER(ctypes.c_uint64)).contents\n",
            " |      c_ulong(4294967296)\n",
            " |      >>> x.ctypes.shape\n",
            " |      <numpy.core._internal.c_long_Array_2 object at 0x7ff2fc1fce60> # may vary\n",
            " |      >>> x.ctypes.strides\n",
            " |      <numpy.core._internal.c_long_Array_2 object at 0x7ff2fc1ff320> # may vary\n",
            " |  \n",
            " |  data\n",
            " |      Python buffer object pointing to the start of the array's data.\n",
            " |  \n",
            " |  dtype\n",
            " |      Data-type of the array's elements.\n",
            " |      \n",
            " |      Parameters\n",
            " |      ----------\n",
            " |      None\n",
            " |      \n",
            " |      Returns\n",
            " |      -------\n",
            " |      d : numpy dtype object\n",
            " |      \n",
            " |      See Also\n",
            " |      --------\n",
            " |      numpy.dtype\n",
            " |      \n",
            " |      Examples\n",
            " |      --------\n",
            " |      >>> x\n",
            " |      array([[0, 1],\n",
            " |             [2, 3]])\n",
            " |      >>> x.dtype\n",
            " |      dtype('int32')\n",
            " |      >>> type(x.dtype)\n",
            " |      <type 'numpy.dtype'>\n",
            " |  \n",
            " |  flags\n",
            " |      Information about the memory layout of the array.\n",
            " |      \n",
            " |      Attributes\n",
            " |      ----------\n",
            " |      C_CONTIGUOUS (C)\n",
            " |          The data is in a single, C-style contiguous segment.\n",
            " |      F_CONTIGUOUS (F)\n",
            " |          The data is in a single, Fortran-style contiguous segment.\n",
            " |      OWNDATA (O)\n",
            " |          The array owns the memory it uses or borrows it from another object.\n",
            " |      WRITEABLE (W)\n",
            " |          The data area can be written to.  Setting this to False locks\n",
            " |          the data, making it read-only.  A view (slice, etc.) inherits WRITEABLE\n",
            " |          from its base array at creation time, but a view of a writeable\n",
            " |          array may be subsequently locked while the base array remains writeable.\n",
            " |          (The opposite is not true, in that a view of a locked array may not\n",
            " |          be made writeable.  However, currently, locking a base object does not\n",
            " |          lock any views that already reference it, so under that circumstance it\n",
            " |          is possible to alter the contents of a locked array via a previously\n",
            " |          created writeable view onto it.)  Attempting to change a non-writeable\n",
            " |          array raises a RuntimeError exception.\n",
            " |      ALIGNED (A)\n",
            " |          The data and all elements are aligned appropriately for the hardware.\n",
            " |      WRITEBACKIFCOPY (X)\n",
            " |          This array is a copy of some other array. The C-API function\n",
            " |          PyArray_ResolveWritebackIfCopy must be called before deallocating\n",
            " |          to the base array will be updated with the contents of this array.\n",
            " |      UPDATEIFCOPY (U)\n",
            " |          (Deprecated, use WRITEBACKIFCOPY) This array is a copy of some other array.\n",
            " |          When this array is\n",
            " |          deallocated, the base array will be updated with the contents of\n",
            " |          this array.\n",
            " |      FNC\n",
            " |          F_CONTIGUOUS and not C_CONTIGUOUS.\n",
            " |      FORC\n",
            " |          F_CONTIGUOUS or C_CONTIGUOUS (one-segment test).\n",
            " |      BEHAVED (B)\n",
            " |          ALIGNED and WRITEABLE.\n",
            " |      CARRAY (CA)\n",
            " |          BEHAVED and C_CONTIGUOUS.\n",
            " |      FARRAY (FA)\n",
            " |          BEHAVED and F_CONTIGUOUS and not C_CONTIGUOUS.\n",
            " |      \n",
            " |      Notes\n",
            " |      -----\n",
            " |      The `flags` object can be accessed dictionary-like (as in ``a.flags['WRITEABLE']``),\n",
            " |      or by using lowercased attribute names (as in ``a.flags.writeable``). Short flag\n",
            " |      names are only supported in dictionary access.\n",
            " |      \n",
            " |      Only the WRITEBACKIFCOPY, UPDATEIFCOPY, WRITEABLE, and ALIGNED flags can be\n",
            " |      changed by the user, via direct assignment to the attribute or dictionary\n",
            " |      entry, or by calling `ndarray.setflags`.\n",
            " |      \n",
            " |      The array flags cannot be set arbitrarily:\n",
            " |      \n",
            " |      - UPDATEIFCOPY can only be set ``False``.\n",
            " |      - WRITEBACKIFCOPY can only be set ``False``.\n",
            " |      - ALIGNED can only be set ``True`` if the data is truly aligned.\n",
            " |      - WRITEABLE can only be set ``True`` if the array owns its own memory\n",
            " |        or the ultimate owner of the memory exposes a writeable buffer\n",
            " |        interface or is a string.\n",
            " |      \n",
            " |      Arrays can be both C-style and Fortran-style contiguous simultaneously.\n",
            " |      This is clear for 1-dimensional arrays, but can also be true for higher\n",
            " |      dimensional arrays.\n",
            " |      \n",
            " |      Even for contiguous arrays a stride for a given dimension\n",
            " |      ``arr.strides[dim]`` may be *arbitrary* if ``arr.shape[dim] == 1``\n",
            " |      or the array has no elements.\n",
            " |      It does *not* generally hold that ``self.strides[-1] == self.itemsize``\n",
            " |      for C-style contiguous arrays or ``self.strides[0] == self.itemsize`` for\n",
            " |      Fortran-style contiguous arrays is true.\n",
            " |  \n",
            " |  flat\n",
            " |      A 1-D iterator over the array.\n",
            " |      \n",
            " |      This is a `numpy.flatiter` instance, which acts similarly to, but is not\n",
            " |      a subclass of, Python's built-in iterator object.\n",
            " |      \n",
            " |      See Also\n",
            " |      --------\n",
            " |      flatten : Return a copy of the array collapsed into one dimension.\n",
            " |      \n",
            " |      flatiter\n",
            " |      \n",
            " |      Examples\n",
            " |      --------\n",
            " |      >>> x = np.arange(1, 7).reshape(2, 3)\n",
            " |      >>> x\n",
            " |      array([[1, 2, 3],\n",
            " |             [4, 5, 6]])\n",
            " |      >>> x.flat[3]\n",
            " |      4\n",
            " |      >>> x.T\n",
            " |      array([[1, 4],\n",
            " |             [2, 5],\n",
            " |             [3, 6]])\n",
            " |      >>> x.T.flat[3]\n",
            " |      5\n",
            " |      >>> type(x.flat)\n",
            " |      <class 'numpy.flatiter'>\n",
            " |      \n",
            " |      An assignment example:\n",
            " |      \n",
            " |      >>> x.flat = 3; x\n",
            " |      array([[3, 3, 3],\n",
            " |             [3, 3, 3]])\n",
            " |      >>> x.flat[[1,4]] = 1; x\n",
            " |      array([[3, 1, 3],\n",
            " |             [3, 1, 3]])\n",
            " |  \n",
            " |  imag\n",
            " |      The imaginary part of the array.\n",
            " |      \n",
            " |      Examples\n",
            " |      --------\n",
            " |      >>> x = np.sqrt([1+0j, 0+1j])\n",
            " |      >>> x.imag\n",
            " |      array([ 0.        ,  0.70710678])\n",
            " |      >>> x.imag.dtype\n",
            " |      dtype('float64')\n",
            " |  \n",
            " |  itemsize\n",
            " |      Length of one array element in bytes.\n",
            " |      \n",
            " |      Examples\n",
            " |      --------\n",
            " |      >>> x = np.array([1,2,3], dtype=np.float64)\n",
            " |      >>> x.itemsize\n",
            " |      8\n",
            " |      >>> x = np.array([1,2,3], dtype=np.complex128)\n",
            " |      >>> x.itemsize\n",
            " |      16\n",
            " |  \n",
            " |  nbytes\n",
            " |      Total bytes consumed by the elements of the array.\n",
            " |      \n",
            " |      Notes\n",
            " |      -----\n",
            " |      Does not include memory consumed by non-element attributes of the\n",
            " |      array object.\n",
            " |      \n",
            " |      Examples\n",
            " |      --------\n",
            " |      >>> x = np.zeros((3,5,2), dtype=np.complex128)\n",
            " |      >>> x.nbytes\n",
            " |      480\n",
            " |      >>> np.prod(x.shape) * x.itemsize\n",
            " |      480\n",
            " |  \n",
            " |  ndim\n",
            " |      Number of array dimensions.\n",
            " |      \n",
            " |      Examples\n",
            " |      --------\n",
            " |      >>> x = np.array([1, 2, 3])\n",
            " |      >>> x.ndim\n",
            " |      1\n",
            " |      >>> y = np.zeros((2, 3, 4))\n",
            " |      >>> y.ndim\n",
            " |      3\n",
            " |  \n",
            " |  real\n",
            " |      The real part of the array.\n",
            " |      \n",
            " |      Examples\n",
            " |      --------\n",
            " |      >>> x = np.sqrt([1+0j, 0+1j])\n",
            " |      >>> x.real\n",
            " |      array([ 1.        ,  0.70710678])\n",
            " |      >>> x.real.dtype\n",
            " |      dtype('float64')\n",
            " |      \n",
            " |      See Also\n",
            " |      --------\n",
            " |      numpy.real : equivalent function\n",
            " |  \n",
            " |  shape\n",
            " |      Tuple of array dimensions.\n",
            " |      \n",
            " |      The shape property is usually used to get the current shape of an array,\n",
            " |      but may also be used to reshape the array in-place by assigning a tuple of\n",
            " |      array dimensions to it.  As with `numpy.reshape`, one of the new shape\n",
            " |      dimensions can be -1, in which case its value is inferred from the size of\n",
            " |      the array and the remaining dimensions. Reshaping an array in-place will\n",
            " |      fail if a copy is required.\n",
            " |      \n",
            " |      Examples\n",
            " |      --------\n",
            " |      >>> x = np.array([1, 2, 3, 4])\n",
            " |      >>> x.shape\n",
            " |      (4,)\n",
            " |      >>> y = np.zeros((2, 3, 4))\n",
            " |      >>> y.shape\n",
            " |      (2, 3, 4)\n",
            " |      >>> y.shape = (3, 8)\n",
            " |      >>> y\n",
            " |      array([[ 0.,  0.,  0.,  0.,  0.,  0.,  0.,  0.],\n",
            " |             [ 0.,  0.,  0.,  0.,  0.,  0.,  0.,  0.],\n",
            " |             [ 0.,  0.,  0.,  0.,  0.,  0.,  0.,  0.]])\n",
            " |      >>> y.shape = (3, 6)\n",
            " |      Traceback (most recent call last):\n",
            " |        File \"<stdin>\", line 1, in <module>\n",
            " |      ValueError: total size of new array must be unchanged\n",
            " |      >>> np.zeros((4,2))[::2].shape = (-1,)\n",
            " |      Traceback (most recent call last):\n",
            " |        File \"<stdin>\", line 1, in <module>\n",
            " |      AttributeError: Incompatible shape for in-place modification. Use\n",
            " |      `.reshape()` to make a copy with the desired shape.\n",
            " |      \n",
            " |      See Also\n",
            " |      --------\n",
            " |      numpy.reshape : similar function\n",
            " |      ndarray.reshape : similar method\n",
            " |  \n",
            " |  size\n",
            " |      Number of elements in the array.\n",
            " |      \n",
            " |      Equal to ``np.prod(a.shape)``, i.e., the product of the array's\n",
            " |      dimensions.\n",
            " |      \n",
            " |      Notes\n",
            " |      -----\n",
            " |      `a.size` returns a standard arbitrary precision Python integer. This\n",
            " |      may not be the case with other methods of obtaining the same value\n",
            " |      (like the suggested ``np.prod(a.shape)``, which returns an instance\n",
            " |      of ``np.int_``), and may be relevant if the value is used further in\n",
            " |      calculations that may overflow a fixed size integer type.\n",
            " |      \n",
            " |      Examples\n",
            " |      --------\n",
            " |      >>> x = np.zeros((3, 5, 2), dtype=np.complex128)\n",
            " |      >>> x.size\n",
            " |      30\n",
            " |      >>> np.prod(x.shape)\n",
            " |      30\n",
            " |  \n",
            " |  strides\n",
            " |      Tuple of bytes to step in each dimension when traversing an array.\n",
            " |      \n",
            " |      The byte offset of element ``(i[0], i[1], ..., i[n])`` in an array `a`\n",
            " |      is::\n",
            " |      \n",
            " |          offset = sum(np.array(i) * a.strides)\n",
            " |      \n",
            " |      A more detailed explanation of strides can be found in the\n",
            " |      \"ndarray.rst\" file in the NumPy reference guide.\n",
            " |      \n",
            " |      Notes\n",
            " |      -----\n",
            " |      Imagine an array of 32-bit integers (each 4 bytes)::\n",
            " |      \n",
            " |        x = np.array([[0, 1, 2, 3, 4],\n",
            " |                      [5, 6, 7, 8, 9]], dtype=np.int32)\n",
            " |      \n",
            " |      This array is stored in memory as 40 bytes, one after the other\n",
            " |      (known as a contiguous block of memory).  The strides of an array tell\n",
            " |      us how many bytes we have to skip in memory to move to the next position\n",
            " |      along a certain axis.  For example, we have to skip 4 bytes (1 value) to\n",
            " |      move to the next column, but 20 bytes (5 values) to get to the same\n",
            " |      position in the next row.  As such, the strides for the array `x` will be\n",
            " |      ``(20, 4)``.\n",
            " |      \n",
            " |      See Also\n",
            " |      --------\n",
            " |      numpy.lib.stride_tricks.as_strided\n",
            " |      \n",
            " |      Examples\n",
            " |      --------\n",
            " |      >>> y = np.reshape(np.arange(2*3*4), (2,3,4))\n",
            " |      >>> y\n",
            " |      array([[[ 0,  1,  2,  3],\n",
            " |              [ 4,  5,  6,  7],\n",
            " |              [ 8,  9, 10, 11]],\n",
            " |             [[12, 13, 14, 15],\n",
            " |              [16, 17, 18, 19],\n",
            " |              [20, 21, 22, 23]]])\n",
            " |      >>> y.strides\n",
            " |      (48, 16, 4)\n",
            " |      >>> y[1,1,1]\n",
            " |      17\n",
            " |      >>> offset=sum(y.strides * np.array((1,1,1)))\n",
            " |      >>> offset/y.itemsize\n",
            " |      17\n",
            " |      \n",
            " |      >>> x = np.reshape(np.arange(5*6*7*8), (5,6,7,8)).transpose(2,3,1,0)\n",
            " |      >>> x.strides\n",
            " |      (32, 4, 224, 1344)\n",
            " |      >>> i = np.array([3,5,2,2])\n",
            " |      >>> offset = sum(i * x.strides)\n",
            " |      >>> x[3,5,2,2]\n",
            " |      813\n",
            " |      >>> offset / x.itemsize\n",
            " |      813\n",
            " |  \n",
            " |  ----------------------------------------------------------------------\n",
            " |  Data and other attributes defined here:\n",
            " |  \n",
            " |  __hash__ = None\n",
            "\n"
          ]
        }
      ]
    },
    {
      "cell_type": "markdown",
      "source": [
        "### Operator overloading"
      ],
      "metadata": {
        "id": "T_m3hOHctKIL"
      }
    },
    {
      "cell_type": "code",
      "source": [
        "# [3, 4, 1, 2, 2, 1] + 10"
      ],
      "metadata": {
        "id": "upsHMQcrs6Xe"
      },
      "execution_count": 76,
      "outputs": []
    },
    {
      "cell_type": "code",
      "source": [
        "rolls + 10"
      ],
      "metadata": {
        "colab": {
          "base_uri": "https://localhost:8080/"
        },
        "id": "yVJjCjt7tSIl",
        "outputId": "ec6c5608-d165-461b-a0ee-0f75fcfd30fd"
      },
      "execution_count": 75,
      "outputs": [
        {
          "output_type": "execute_result",
          "data": {
            "text/plain": [
              "array([14, 11, 11, 15, 14, 11, 13, 12, 11, 12])"
            ]
          },
          "metadata": {},
          "execution_count": 75
        }
      ]
    },
    {
      "cell_type": "code",
      "source": [
        "rolls <= 3"
      ],
      "metadata": {
        "colab": {
          "base_uri": "https://localhost:8080/"
        },
        "id": "6Fb36Na7tVWy",
        "outputId": "7b97afa1-92f1-4d02-ac8d-b7c4555f061f"
      },
      "execution_count": 77,
      "outputs": [
        {
          "output_type": "execute_result",
          "data": {
            "text/plain": [
              "array([False,  True,  True, False, False,  True,  True,  True,  True,\n",
              "        True])"
            ]
          },
          "metadata": {},
          "execution_count": 77
        }
      ]
    },
    {
      "cell_type": "code",
      "source": [
        "xlist = [[1,2,3],[2,4,6]]\n",
        "\n",
        "x = numpy.asarray(xlist)\n",
        "print(\"xlist = {}\\nx =\\n{}\".format(xlist, x))"
      ],
      "metadata": {
        "colab": {
          "base_uri": "https://localhost:8080/"
        },
        "id": "iOXUV3A5tcPC",
        "outputId": "d065086e-f6f0-487c-e9d7-6c792366b524"
      },
      "execution_count": 78,
      "outputs": [
        {
          "output_type": "stream",
          "name": "stdout",
          "text": [
            "xlist = [[1, 2, 3], [2, 4, 6]]\n",
            "x =\n",
            "[[1 2 3]\n",
            " [2 4 6]]\n"
          ]
        }
      ]
    },
    {
      "cell_type": "code",
      "source": [
        "x[1,-1]"
      ],
      "metadata": {
        "colab": {
          "base_uri": "https://localhost:8080/"
        },
        "id": "yT3pDLhmtqI8",
        "outputId": "a7798c85-72cf-4cf1-838a-fb9be7e3a900"
      },
      "execution_count": 81,
      "outputs": [
        {
          "output_type": "execute_result",
          "data": {
            "text/plain": [
              "6"
            ]
          },
          "metadata": {},
          "execution_count": 81
        }
      ]
    },
    {
      "cell_type": "code",
      "source": [
        "import tensorflow as tf\n",
        "\n",
        "a = tf.constant(1)\n",
        "b = tf.constant(1)\n",
        "\n",
        "a + b"
      ],
      "metadata": {
        "colab": {
          "base_uri": "https://localhost:8080/"
        },
        "id": "nuomvb0Ktyvj",
        "outputId": "feb610cc-fcd9-4147-f2a4-218b55b7e14a"
      },
      "execution_count": 82,
      "outputs": [
        {
          "output_type": "execute_result",
          "data": {
            "text/plain": [
              "<tf.Tensor: shape=(), dtype=int32, numpy=2>"
            ]
          },
          "metadata": {},
          "execution_count": 82
        }
      ]
    }
  ]
}